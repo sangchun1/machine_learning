{
 "cells": [
  {
   "cell_type": "code",
   "execution_count": 1,
   "metadata": {},
   "outputs": [
    {
     "data": {
      "text/plain": [
       "Power_divergenceResult(statistic=14.200000000000001, pvalue=0.014387678176921308)"
      ]
     },
     "execution_count": 1,
     "metadata": {},
     "output_type": "execute_result"
    }
   ],
   "source": [
    "# data1과 data2가 같은지 다른지 알고 싶다.\n",
    "# 귀무가설 : 두 데이터는 차이가 없다.\n",
    "# 대립가설 : 두 데이터는 차이가 있다.\n",
    "\n",
    "from scipy import stats\n",
    "\n",
    "data1 = [4,6,17,16,8,9]\n",
    "data2 = [10,10,10,10,10,10]\n",
    "chis = stats.chisquare(data1, data2)\n",
    "\n",
    "# 검정 통계량과 p-value\n",
    "chis\n",
    "# p-value가 0.05보다 작으므로 귀무가설 기각, 대립가설 채택\n",
    "# 두 데이터는 차이가 있다"
   ]
  },
  {
   "cell_type": "code",
   "execution_count": 2,
   "metadata": {},
   "outputs": [
    {
     "name": "stdout",
     "output_type": "stream",
     "text": [
      "Exer   Freq  None  Some\n",
      "Smoke                  \n",
      "Heavy     7     1     3\n",
      "Never    87    18    84\n",
      "Occas    12     3     4\n",
      "Regul     9     1     7\n",
      "5.488545890584232\n",
      "0.48284216946545633\n"
     ]
    }
   ],
   "source": [
    "import pandas as pd\n",
    "from scipy import stats\n",
    "\n",
    "survey=pd.read_csv('c:/data/smoke/survey.csv')\n",
    "# survey\n",
    "# Smoke와 Exer 필드를 기준으로 집계\n",
    "data = pd.crosstab(survey.Smoke, survey.Exer)\n",
    "print(data)\n",
    "# 카이제곱검정 수행\n",
    "result = stats.chi2_contingency(observed=data)\n",
    "print(result[0]) # 검정통계량\n",
    "print(result[1]) # p-value\n",
    "# p-value가 0.48로 0.05보다 크므로 흡연습관과 운동횟수에는 상관관계가 없다."
   ]
  },
  {
   "cell_type": "code",
   "execution_count": 4,
   "metadata": {},
   "outputs": [
    {
     "name": "stdout",
     "output_type": "stream",
     "text": [
      "검정통계량 : 3.435, p-value : 0.003\n"
     ]
    }
   ],
   "source": [
    "# 전체 학생들 중 20명의 학생들을 선택하여 전체 학생들의 평균키가 175cm인지 아닌지 알고 싶다.\n",
    "# 귀무가설 : 학생들의 평균키는 175cm이다.\n",
    "# 대립가설 : 학생들의 평균키는 175cm가 아니다.\n",
    "import numpy as np\n",
    "from scipy import stats\n",
    "\n",
    "# 랜덤 시드 설정(같은 결과가 나옴)\n",
    "np.random.seed(1)\n",
    "# np.random.normal(0, 5) : 평균 0, 표준편차 5인 난수\n",
    "heights = [180 + np.random.normal(0, 5) for a in range(20)]\n",
    "# print(heights)\n",
    "result = stats.ttest_1samp(heights, 175)\n",
    "print(\"검정통계량 : %.3f, p-value : %.3f\" % result)\n",
    "\n",
    "# p-value가 0.05보다 작으므로 95% 신뢰수준 하에서\n",
    "# 학생들의 평균키는 통계적으로 유의하게 차이가 난다고 할 수 있음\n",
    "# 따라서 귀무가설을 기각하고 대립가설을 채택한다. 즉, 학생들의 평균키는 175cm가 아니다."
   ]
  },
  {
   "cell_type": "code",
   "execution_count": 9,
   "metadata": {},
   "outputs": [
    {
     "name": "stdout",
     "output_type": "stream",
     "text": [
      "[163.63720622377002, 171.56773860231715, 172.51592406717663, 176.4661294126613, 169.4477648679134, 166.91318968143818, 172.81380548309514, 171.20368546118866, 171.4033253856132, 169.6344364812636, 175.80169284996884, 171.84746358187863, 179.5232935417049, 175.55528349280252, 173.29524898050104, 161.8628082969187, 173.01159640147816, 172.1014110182353, 174.05475836401777, 175.2222104735363]\n",
      "[170.99121808211072, 183.24005618450408, 169.3769456898091, 194.54878075009034, 161.68048333482753, 157.39311439601215, 158.492787341759, 166.09444415836953, 163.80884601440272, 194.56078903703641, 171.73500501921816, 161.57324210622565, 186.1438297677979, 169.1347606117841, 162.63146623458601, 183.758389276493, 181.23362176578033, 170.6504331704477, 189.0754000024123, 176.29101579710726]\n",
      "group1의 평균 : 171.893948633374\n",
      "group2의 평균 : 173.6207314370387\n",
      "검정통계량 : -0.617 , p-value : 0.541.\n"
     ]
    }
   ],
   "source": [
    "# 그룹1과 그룹2에서 각각 20명의 학생들을 선택하여 푱균키가 같은지 다른지 알고 싶다.\n",
    "# 귀무가설 : 두 그룹 학생들의 평균키는 같아.\n",
    "# 대립가설 : 두 그룹 학생들의 평균키는 같지 않다.\n",
    "import numpy as np\n",
    "from scipy import stats\n",
    "\n",
    "# 랜던 시드 설정(같은 결과가 나옴)\n",
    "# np.random.seed(1)\n",
    "# 그룹 1 : 평균 170, 표준편차 5\n",
    "group1 = [170 + np.random.normal(0, 5) for a in range(20)]\n",
    "# 그룹 2 : 평균 175, 표준편차 10\n",
    "group2 = [175 + np.random.normal(0, 10) for a in range(20)]\n",
    "print(group1)\n",
    "print(group2)\n",
    "print(\"group1의 평균 :\",np.mean(group1))\n",
    "print(\"group2의 평균 :\",np.mean(group2)) \n",
    "result1 = stats.ttest_ind(group1, group2)\n",
    "print(\"검정통계량 : %.3f , p-value : %.3f.\" % result1) \n",
    "\n",
    "# p-value가 0.05보다 작으므로 95% 신뢰수준 하에서\n",
    "# 두 그룹 학생들의 평균키는 통계적으로 유의하게 차이가 난다고 할 수 있음\n",
    "# 따라서 귀무가설을 기각하고 대립가설을 채택한다. 즉, 그룹1 과 그룹2 학생들의 평균키는 같지 않다."
   ]
  },
  {
   "cell_type": "code",
   "execution_count": 10,
   "metadata": {},
   "outputs": [
    {
     "name": "stdout",
     "output_type": "stream",
     "text": [
      "[68.1217268183162, 56.94121793174962, 57.359141238682724, 54.63515688921915, 64.3270381466234, 48.492306515598585, 68.7240588210824, 56.19396549552449, 61.59519548028549, 58.75314812261295, 67.31053968522487, 49.69929645251173, 58.38791397993246, 58.07972822665792, 65.66884721167719, 54.500543663429845, 59.13785896224782, 55.61070791039314, 60.21106873357797, 62.914076068579114]\n",
      "[65.94098797171107, 57.67544499710449, 57.819839215935254, 54.63788246116392, 64.84275566541605, 47.34427263203588, 67.86790793112998, 54.58033393455883, 60.64923115285458, 58.78881770728494, 65.70631311881824, 48.80793606499072, 57.001583230054315, 56.517144665313666, 64.13055954741337, 53.94173367626836, 57.224973536332286, 55.315321289307555, 61.60772730564428, 63.218635763189475]\n",
      "검정통계량 : 2.915 , p-value : 0.009.\n"
     ]
    }
   ],
   "source": [
    "# 다이어트 약을 복용한 사람들 중 20명을 선택하여 복용 전후의 체중 차이가 유의미한지 알고 싶다.\n",
    "# 귀무 가설 : 복용 전후의 체중 차이가 없다.\n",
    "# 대립 가설 : 복용 전후의 체중 차이가 있다.\n",
    "import numpy as np\n",
    "from scipy import stats\n",
    "\n",
    "# 랜덤 시드 설정(같은 결과 나옴)\n",
    "np.random.seed(1)\n",
    "# 복용전 : 평균 60, 표준편차 5\n",
    "before = [60 + np.random.normal(0, 5) for _ in range(20)]\n",
    "print(before)\n",
    "# 복용후 : 평균 : 복용전 체중 x 0.99, 표준편차 0.02\n",
    "after = [w * np.random.normal(0.99, 0.02) for w in before]\n",
    "print(after)\n",
    "# 대응표본 t검정\n",
    "result = stats.ttest_rel(before, after)\n",
    "print(\"검정통계량 : %.3f , p-value : %.3f.\" % result)\n",
    "\n",
    "# p-value가 0.05보다 작으므로 95% 신뢰수준 하에서\n",
    "# 다이어트약 복용전후의 체중은 통계적으로 유의하게 차이가 난다고 할 수 있음\n",
    "# 따라서 귀무가설을 기각하고 대립가설을 채택한다. 즉, 다이어트약 복용전후의 체중 차이가 있다."
   ]
  },
  {
   "cell_type": "code",
   "execution_count": 11,
   "metadata": {},
   "outputs": [
    {
     "name": "stdout",
     "output_type": "stream",
     "text": [
      "a 평균: 79.0\n",
      "b 평균: 65.375\n",
      "c 평균: 64.375\n",
      "d 평균: 69.5\n"
     ]
    },
    {
     "data": {
      "image/png": "[encoded data removed]",
      "text/plain": [
       "<Figure size 640x480 with 1 Axes>"
      ]
     },
     "metadata": {},
     "output_type": "display_data"
    },
    {
     "name": "stdout",
     "output_type": "stream",
     "text": [
      "4.2210931159803815 0.013933707427484204\n"
     ]
    }
   ],
   "source": [
    "# 김부장은 4개의 각기 다른 신입사원 교육훈련 기법의 효과성을 평가하고자 한다.\n",
    "# 새로 입사한 32명의 신입사원에게 4가지 기법을 임의로 적용시켜 교육을 시켰다.\n",
    "# 한 달간의 훈련기간이 끝난 후 표준 시험을 쳤는데 그 점수는 아래와 같다.\n",
    "# 4개의 교육훈련 기법간 차이가 있는가? 만약 있다면 어떻게 다른가?\n",
    "# 3개 이상의 대응표본을 비교해야 하므로 일원배치 분산분석 기법을 사용해야 한다.\n",
    "# 귀무가설 : 4개의 교육훈련 기법간의 차이가 없다\n",
    "# 대립가설 : 4개의 교육훈련 기법간의 차이가 있다\n",
    "import scipy.stats as stats\n",
    "import matplotlib.pyplot as plt\n",
    "a = [66,74,82,75,73,97,87,78]\n",
    "b = [72,51,59,62,74,64,78,63]\n",
    "c = [61,60,57,60,81,55,70,71]\n",
    "d = [63,61,76,84,58,65,69,80]\n",
    "\n",
    "print(\"a 평균:\",np.mean(a)) \n",
    "print(\"b 평균:\",np.mean(b)) \n",
    "print(\"c 평균:\",np.mean(c)) \n",
    "print(\"d 평균:\",np.mean(d)) \n",
    "\n",
    "# matplotlib plotting\n",
    "plot_data = [a,b,c,d]\n",
    "plt.boxplot(plot_data)\n",
    "plt.show()\n",
    "\n",
    "f, p = stats.f_oneway(a, b, c, d)\n",
    "print(f, p)\n",
    "\n",
    "# 결과분석 : p-value가 0.05보다 작으므로\n",
    "# 95% 신뢰수준 하에서 두 집단간 평균은 통계적으로 유의하게 차이가 있다고 할 수 있다.\n",
    "# 따라서, 통계적으로 볼 때 4개의 교육훈련 기법의 효과에 차이가 있다고 잠정적으로 결론지을 수 있다.\n",
    "# 상자수염그림(boxplot)"
   ]
  },
  {
   "cell_type": "code",
   "execution_count": 13,
   "metadata": {},
   "outputs": [
    {
     "name": "stdout",
     "output_type": "stream",
     "text": [
      "   fertilizer1  fertilizer2  fertilizer3\n",
      "0           72           54           48\n",
      "1           62           56           62\n",
      "2           90           58           92\n",
      "3           42           36           96\n",
      "4           84           72           92\n",
      "5           64           34           80\n"
     ]
    },
    {
     "data": {
      "image/png": "[encoded data removed]",
      "text/plain": [
       "<Figure size 640x480 with 1 Axes>"
      ]
     },
     "metadata": {},
     "output_type": "display_data"
    },
    {
     "name": "stdout",
     "output_type": "stream",
     "text": [
      "F_onewayResult(statistic=3.7551268418654105, pvalue=0.04762461989261837)\n",
      "3.7551268418654105\n",
      "0.04762461989261837\n"
     ]
    }
   ],
   "source": [
    "import pandas as pd\n",
    "from scipy import stats\n",
    "\n",
    "# 귀무가설 : 세가지 비료의 수확량은 차이가 없다.\n",
    "# 대립가설 : 세가지 비료의 수확량은 차이가 있다.\n",
    "\n",
    "data = pd.read_csv(\"c:/data/anova/fertilizers.csv\")\n",
    "# 비료1, 비료2, 비료3\n",
    "print(data)\n",
    "\n",
    "# matplotlib plotting\n",
    "plot_data = [data[\"fertilizer1\"], data[\"fertilizer2\"], data[\"fertilizer3\"]]\n",
    "plt.boxplot(plot_data)\n",
    "plt.show()\n",
    "\n",
    "result = stats.f_oneway(data[\"fertilizer1\"], data[\"fertilizer2\"], data[\"fertilizer3\"])\n",
    "print(result)\n",
    "print(result[0]) # 통계량\n",
    "print(result[1]) # p-value\n",
    "\n",
    "# p-value가 0.048이므로 귀무가설을 기각하고 대립가설을 채택한다.\n",
    "# 따라서 세가지 비료의 수확량은 차이가 있다. "
   ]
  }
 ],
 "metadata": {
  "kernelspec": {
   "display_name": "Python 3",
   "language": "python",
   "name": "python3"
  },
  "language_info": {
   "codemirror_mode": {
    "name": "ipython",
    "version": 3
   },
   "file_extension": ".py",
   "mimetype": "text/x-python",
   "name": "python",
   "nbconvert_exporter": "python",
   "pygments_lexer": "ipython3",
   "version": "3.11.2"
  },
  "orig_nbformat": 4,
  "vscode": {
   "interpreter": {
    "hash": "93cb88c8c23f1da55dedfd812a7caae5ec2bf62baf9b0901f535e3b1ad9c99c3"
   }
  }
 },
 "nbformat": 4,
 "nbformat_minor": 2
}
