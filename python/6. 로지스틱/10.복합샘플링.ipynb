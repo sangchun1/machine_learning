{
 "cells": [
  {
   "cell_type": "code",
   "execution_count": 1,
   "metadata": {},
   "outputs": [],
   "source": [
    "# SMOTE+ENN : SMOTE와 ENN을 섞은 방식\n",
    "# SMOTE : 소수 클래스의 샘플을 주변의 이웃을 고려해 약간씩 이동시킨 포인트들을 추가\n",
    "# ENN : 소수 클래스 주변의 다수 클래스 데이터를 삭제\n",
    "from sklearn.datasets import make_classification\n",
    "\n",
    "X, y = make_classification(n_samples=10000, n_features=2, n_redundant=0, n_clusters_per_class=1, weights=[0.99], flip_y=0, random_state=1)"
   ]
  },
  {
   "cell_type": "code",
   "execution_count": 2,
   "metadata": {},
   "outputs": [
    {
     "data": {
      "text/plain": [
       "1    8941\n",
       "0    8645\n",
       "Name: y, dtype: int64"
      ]
     },
     "execution_count": 2,
     "metadata": {},
     "output_type": "execute_result"
    }
   ],
   "source": [
    "from imblearn.combine import SMOTEENN\n",
    "import pandas as pd\n",
    "\n",
    "X_sample, y_sample = SMOTEENN(random_state=0).fit_resample(X, y)\n",
    "X_samp = pd.DataFrame(data=X_sample,columns=['a','b'] )\n",
    "y_samp = pd.DataFrame(data=y_sample,columns=['y'])\n",
    "y_samp.y.value_counts()"
   ]
  },
  {
   "cell_type": "code",
   "execution_count": 3,
   "metadata": {},
   "outputs": [
    {
     "name": "stdout",
     "output_type": "stream",
     "text": [
      "학습용: 0.9530850156383281\n",
      "검증용: 0.9536668561682774\n",
      "              precision    recall  f1-score   support\n",
      "\n",
      "           0       0.95      0.95      0.95      1729\n",
      "           1       0.95      0.96      0.95      1789\n",
      "\n",
      "    accuracy                           0.95      3518\n",
      "   macro avg       0.95      0.95      0.95      3518\n",
      "weighted avg       0.95      0.95      0.95      3518\n",
      "\n"
     ]
    },
    {
     "name": "stderr",
     "output_type": "stream",
     "text": [
      "c:\\anaconda3\\lib\\site-packages\\sklearn\\utils\\validation.py:993: DataConversionWarning: A column-vector y was passed when a 1d array was expected. Please change the shape of y to (n_samples, ), for example using ravel().\n",
      "  y = column_or_1d(y, warn=True)\n"
     ]
    }
   ],
   "source": [
    "from sklearn.linear_model import LogisticRegression\n",
    "from sklearn.model_selection import train_test_split\n",
    "from sklearn.metrics import classification_report\n",
    "\n",
    "X_train, X_test, y_train, y_test = train_test_split(X_samp, y_samp, test_size=0.2, stratify=y_samp, random_state=10)\n",
    "model1 = LogisticRegression(random_state=42)\n",
    "model1.fit(X_train, y_train)\n",
    "print(\"학습용:\", model1.score(X_train, y_train))\n",
    "print(\"검증용:\", model1.score(X_test, y_test))\n",
    "\n",
    "pred1 = model1.predict(X_test)\n",
    "print(classification_report(y_test, pred1))"
   ]
  },
  {
   "cell_type": "code",
   "execution_count": 4,
   "metadata": {},
   "outputs": [
    {
     "data": {
      "text/plain": [
       "0    9653\n",
       "1    9653\n",
       "Name: y, dtype: int64"
      ]
     },
     "execution_count": 4,
     "metadata": {},
     "output_type": "execute_result"
    }
   ],
   "source": [
    "# SMOTE+Tomek : SMOTE와 토멕링크 방법을 섞은 것\n",
    "# SMOTE : 소수 클래스의 샘플을 주변의 이웃을 고려해 약간씩 이동시킨 포인트들을 추가\n",
    "# 토멕링크 : 토멕링크 중에서 다수 클래스의 샘플들을 제거\n",
    "from imblearn.combine import SMOTETomek\n",
    "\n",
    "X_sample, y_sample = SMOTETomek(random_state=0).fit_resample(X, y)\n",
    "X_samp = pd.DataFrame(data=X_sample,columns=['a','b'] )\n",
    "y_samp = pd.DataFrame(data=y_sample,columns=['y'])\n",
    "y_samp.y.value_counts()"
   ]
  },
  {
   "cell_type": "code",
   "execution_count": 5,
   "metadata": {},
   "outputs": [
    {
     "name": "stdout",
     "output_type": "stream",
     "text": [
      "학습용: 0.9197099197099197\n",
      "검증용: 0.923873640600725\n",
      "              precision    recall  f1-score   support\n",
      "\n",
      "           0       0.91      0.94      0.92      1931\n",
      "           1       0.94      0.91      0.92      1931\n",
      "\n",
      "    accuracy                           0.92      3862\n",
      "   macro avg       0.92      0.92      0.92      3862\n",
      "weighted avg       0.92      0.92      0.92      3862\n",
      "\n"
     ]
    },
    {
     "name": "stderr",
     "output_type": "stream",
     "text": [
      "c:\\anaconda3\\lib\\site-packages\\sklearn\\utils\\validation.py:993: DataConversionWarning: A column-vector y was passed when a 1d array was expected. Please change the shape of y to (n_samples, ), for example using ravel().\n",
      "  y = column_or_1d(y, warn=True)\n"
     ]
    }
   ],
   "source": [
    "from sklearn.linear_model import LogisticRegression\n",
    "from sklearn.model_selection import train_test_split\n",
    "from sklearn.metrics import classification_report\n",
    "\n",
    "X_train, X_test, y_train, y_test = train_test_split(X_samp, y_samp, test_size=0.2, stratify=y_samp, random_state=10)\n",
    "model2 = LogisticRegression(random_state=42)\n",
    "model2.fit(X_train, y_train)\n",
    "print(\"학습용:\", model2.score(X_train, y_train))\n",
    "print(\"검증용:\", model2.score(X_test, y_test))\n",
    "\n",
    "pred2 = model2.predict(X_test)\n",
    "print(classification_report(y_test, pred2))"
   ]
  }
 ],
 "metadata": {
  "kernelspec": {
   "display_name": "base",
   "language": "python",
   "name": "python3"
  },
  "language_info": {
   "name": "python",
   "version": "3.9.13"
  },
  "orig_nbformat": 4,
  "vscode": {
   "interpreter": {
    "hash": "ff4f85d6e04298634172ac5d8264e7e9b556b95639fe52ebb9425c4d4cba0c9c"
   }
  }
 },
 "nbformat": 4,
 "nbformat_minor": 2
}
