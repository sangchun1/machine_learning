{
 "cells": [
  {
   "cell_type": "code",
   "execution_count": 1,
   "metadata": {},
   "outputs": [],
   "source": [
    "import numpy as np\n",
    "from keras import models\n",
    "from keras import layers\n",
    "from sklearn.model_selection import cross_val_score\n",
    "from sklearn.datasets import make_classification\n",
    "# 랜덤 시드를 설정\n",
    "np.random.seed(0)\n",
    "# 특성 개수\n",
    "number_of_features = 100\n",
    "# 특성 행렬과 타깃 벡터\n",
    "features, target = make_classification(n_samples = 10000, \n",
    "                                       n_features = number_of_features, \n",
    "                                       n_informative = 3, \n",
    "                                       n_redundant = 0, \n",
    "                                       n_classes = 2, \n",
    "                                       weights = [.5, .5], \n",
    "                                       random_state = 0)"
   ]
  },
  {
   "cell_type": "code",
   "execution_count": 2,
   "metadata": {},
   "outputs": [],
   "source": [
    "from scikeras.wrappers import KerasClassifier\n",
    "def create_network():\n",
    "    # 신경망 모델\n",
    "    network = models.Sequential()\n",
    "    # 렐루 활성화 함수를 사용한 완전 연결 층을 추가\n",
    "    network.add(layers.Dense(units=16, activation=\"relu\", input_shape=(number_of_features,)))\n",
    "    # 렐루 활성화 함수를 사용한 완전 연결 층을 추가\n",
    "    network.add(layers.Dense(units=16, activation=\"relu\"))\n",
    "    # 시그모이드 활성화 함수를 사용한 완전 연결 층을 추가\n",
    "    network.add(layers.Dense(units=1, activation=\"sigmoid\"))\n",
    "    # 신경망의 모델 설정을 완료\n",
    "    network.compile(loss=\"binary_crossentropy\", # 크로스 엔트로피\n",
    "                    optimizer=\"rmsprop\", # 옵티마이저\n",
    "                    metrics=[\"accuracy\"]) # 성능 지표\n",
    "    # 설정 완료된 모델을 반환\n",
    "    return network"
   ]
  },
  {
   "cell_type": "code",
   "execution_count": 3,
   "metadata": {},
   "outputs": [
    {
     "data": {
      "text/plain": [
       "array([0.87582484, 0.87458746, 0.89258926])"
      ]
     },
     "execution_count": 3,
     "metadata": {},
     "output_type": "execute_result"
    }
   ],
   "source": [
    "neural_network = KerasClassifier(model=create_network, epochs=10, batch_size=100, verbose=0)\n",
    "# 3-폴드 교차검증을 사용하여 신경망을 평가\n",
    "cross_val_score(neural_network, features, target, cv=3)"
   ]
  },
  {
   "cell_type": "code",
   "execution_count": 4,
   "metadata": {},
   "outputs": [],
   "source": [
    "# 2. 하이퍼 파라미터 튜닝\n",
    "#시간이 오래 걸림\n",
    "import numpy as np\n",
    "from keras import models\n",
    "from keras import layers\n",
    "from sklearn.model_selection import GridSearchCV\n",
    "from sklearn.datasets import make_classification\n",
    "# 랜덤 시드를 설정\n",
    "np.random.seed(0)\n",
    "# 특성 개수\n",
    "number_of_features = 10\n",
    "# 특성 행렬과 타깃 벡터\n",
    "features, target = make_classification(n_samples = 100,\n",
    "                                        n_features = number_of_features,\n",
    "                                        n_informative = 3,\n",
    "                                        n_redundant = 0,\n",
    "                                        n_classes = 2,\n",
    "                                        weights = [.5, .5],\n",
    "                                        random_state = 0)"
   ]
  },
  {
   "cell_type": "code",
   "execution_count": 5,
   "metadata": {},
   "outputs": [],
   "source": [
    "# 설정 완료된 신경망을 반환하는 함수\n",
    "def create_network(optimizer=\"rmsprop\"):\n",
    "    # 신경망 모델\n",
    "    network = models.Sequential()\n",
    "    # 렐루 활성화 함수를 사용한 완전 연결 층을 추가\n",
    "    network.add(layers.Dense(units=16,\n",
    "                            activation=\"relu\",\n",
    "                            input_shape=(number_of_features,)))\n",
    "    # 렐루 활성화 함수를 사용한 완전 연결 층을 추가\n",
    "    network.add(layers.Dense(units=16, activation=\"relu\"))\n",
    "    # 시그모이드 활성화 함수를 사용한 완전 연결 층을 추가\n",
    "    network.add(layers.Dense(units=1, activation=\"sigmoid\"))\n",
    "    # 신경망의 모델 설정을 완료\n",
    "    network.compile(loss=\"binary_crossentropy\",\n",
    "                    optimizer=optimizer, # 옵티마이저\n",
    "                    metrics=[\"accuracy\"]) # 성능 지표\n",
    "    # 설정 완료된 모델을 반환\n",
    "    return network"
   ]
  },
  {
   "cell_type": "code",
   "execution_count": 6,
   "metadata": {},
   "outputs": [
    {
     "name": "stdout",
     "output_type": "stream",
     "text": [
      "WARNING:tensorflow:5 out of the last 13 calls to <function Model.make_predict_function.<locals>.predict_function at 0x000001C347CA7430> triggered tf.function retracing. Tracing is expensive and the excessive number of tracings could be due to (1) creating @tf.function repeatedly in a loop, (2) passing tensors with different shapes, (3) passing Python objects instead of tensors. For (1), please define your @tf.function outside of the loop. For (2), @tf.function has reduce_retracing=True option that can avoid unnecessary retracing. For (3), please refer to https://www.tensorflow.org/guide/function#controlling_retracing and https://www.tensorflow.org/api_docs/python/tf/function for  more details.\n",
      "WARNING:tensorflow:5 out of the last 11 calls to <function Model.make_predict_function.<locals>.predict_function at 0x000001C3492DE280> triggered tf.function retracing. Tracing is expensive and the excessive number of tracings could be due to (1) creating @tf.function repeatedly in a loop, (2) passing tensors with different shapes, (3) passing Python objects instead of tensors. For (1), please define your @tf.function outside of the loop. For (2), @tf.function has reduce_retracing=True option that can avoid unnecessary retracing. For (3), please refer to https://www.tensorflow.org/guide/function#controlling_retracing and https://www.tensorflow.org/api_docs/python/tf/function for  more details.\n"
     ]
    }
   ],
   "source": [
    "neural_network = KerasClassifier(model=create_network, verbose=0)\n",
    "# 하이퍼파라미터 탐색 영역을 정의\n",
    "epochs = [5, 10]\n",
    "batches = [5, 10, 100]\n",
    "optimizers = [\"rmsprop\", \"adam\"]\n",
    "# 하이퍼파라미터 그리드\n",
    "hyperparameters = dict(optimizer=optimizers, epochs=epochs, batch_size=batches)\n",
    "# 그리드 서치\n",
    "grid = GridSearchCV(estimator=neural_network, param_grid=hyperparameters)\n",
    "# 그리드 서치를 수행\n",
    "grid_result = grid.fit(features, target)"
   ]
  },
  {
   "cell_type": "code",
   "execution_count": 8,
   "metadata": {},
   "outputs": [
    {
     "data": {
      "text/plain": [
       "{'batch_size': 10, 'epochs': 10, 'optimizer': 'adam'}"
      ]
     },
     "execution_count": 8,
     "metadata": {},
     "output_type": "execute_result"
    }
   ],
   "source": [
    "grid_result.best_params_"
   ]
  },
  {
   "cell_type": "code",
   "execution_count": 9,
   "metadata": {},
   "outputs": [
    {
     "data": {
      "text/plain": [
       "array([0.6 , 0.62, 0.6 , 0.62, 0.58, 0.61, 0.59, 0.67, 0.5 , 0.54, 0.51,\n",
       "       0.55])"
      ]
     },
     "execution_count": 9,
     "metadata": {},
     "output_type": "execute_result"
    }
   ],
   "source": [
    "grid_result.cv_results_['mean_test_score']"
   ]
  },
  {
   "cell_type": "code",
   "execution_count": 10,
   "metadata": {},
   "outputs": [
    {
     "data": {
      "text/plain": [
       "KerasClassifier(\n",
       "\tmodel=<function create_network at 0x000001C346E2BD30>\n",
       "\tbuild_fn=None\n",
       "\twarm_start=False\n",
       "\trandom_state=None\n",
       "\toptimizer=adam\n",
       "\tloss=None\n",
       "\tmetrics=None\n",
       "\tbatch_size=10\n",
       "\tvalidation_batch_size=None\n",
       "\tverbose=0\n",
       "\tcallbacks=None\n",
       "\tvalidation_split=0.0\n",
       "\tshuffle=True\n",
       "\trun_eagerly=False\n",
       "\tepochs=10\n",
       "\tclass_weight=None\n",
       ")"
      ]
     },
     "execution_count": 10,
     "metadata": {},
     "output_type": "execute_result"
    }
   ],
   "source": [
    "grid_result.best_estimator_"
   ]
  }
 ],
 "metadata": {
  "kernelspec": {
   "display_name": "base",
   "language": "python",
   "name": "python3"
  },
  "language_info": {
   "codemirror_mode": {
    "name": "ipython",
    "version": 3
   },
   "file_extension": ".py",
   "mimetype": "text/x-python",
   "name": "python",
   "nbconvert_exporter": "python",
   "pygments_lexer": "ipython3",
   "version": "3.9.13"
  },
  "orig_nbformat": 4,
  "vscode": {
   "interpreter": {
    "hash": "ff4f85d6e04298634172ac5d8264e7e9b556b95639fe52ebb9425c4d4cba0c9c"
   }
  }
 },
 "nbformat": 4,
 "nbformat_minor": 2
}
