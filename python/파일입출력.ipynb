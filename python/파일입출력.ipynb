{
 "cells": [
  {
   "cell_type": "code",
   "execution_count": 1,
   "metadata": {},
   "outputs": [],
   "source": [
    "# 현재 실행중인 디렉토리에 파일 생성\n",
    "# open(filename, mode) : 파일 오픈\n",
    "# mode : w 쓰기모드, r 읽기모드, a 추가 모드, b 바이너리 모드\n",
    "# f = open(\"binary_file\", \"rb\")  바이너리 읽기 모드\n",
    "f = open(\"file1.txt\", 'w')\n",
    "f.close()"
   ]
  },
  {
   "cell_type": "code",
   "execution_count": 5,
   "metadata": {},
   "outputs": [],
   "source": [
    "#지정된 디렉토리에 파일 생성\n",
    "f = open(\"d:/박상춘/Python/source/file2.txt\", 'w')\n",
    "f.close()"
   ]
  },
  {
   "cell_type": "code",
   "execution_count": 7,
   "metadata": {},
   "outputs": [],
   "source": [
    "#파일에 내용을 출력\n",
    "f = open(\"d:/박상춘/Python/source/file3.txt\", 'w')\n",
    "for i in range(1, 11):\n",
    "    data = f'{i}번째 줄입니다.\\n'\n",
    "    f.write(data)\n",
    "f.close()"
   ]
  },
  {
   "cell_type": "code",
   "execution_count": 10,
   "metadata": {},
   "outputs": [
    {
     "name": "stdout",
     "output_type": "stream",
     "text": [
      "1번째 줄입니다.\n",
      "2번째 줄입니다.\n",
      "3번째 줄입니다.\n",
      "4번째 줄입니다.\n",
      "5번째 줄입니다.\n",
      "6번째 줄입니다.\n",
      "7번째 줄입니다.\n",
      "8번째 줄입니다.\n",
      "9번째 줄입니다.\n",
      "10번째 줄입니다.\n"
     ]
    }
   ],
   "source": [
    "#파일 내용 읽기\n",
    "f = open(\"d:/박상춘/python/source/file3.txt\")\n",
    "while True:\n",
    "    line = f.readline()\n",
    "    if not line: break\n",
    "    print(line,end='')\n",
    "f.close()"
   ]
  },
  {
   "cell_type": "code",
   "execution_count": 11,
   "metadata": {},
   "outputs": [
    {
     "name": "stdout",
     "output_type": "stream",
     "text": [
      "저장되었습니다.\n"
     ]
    }
   ],
   "source": [
    "# csv 형식으로 저장하는 방법\n",
    "# 실행할 때마다 텍스트 파일에 내용이 추가됩니다. \n",
    "nums = list(range(10))\n",
    "cnt = len(nums)\n",
    "output_file = \"d:/박상춘/python/source/result.csv\"\n",
    "f = open(output_file, 'a')\n",
    "for idx in range(cnt):\n",
    "    if idx < (cnt-1):\n",
    "        f.write(str(nums[idx])+',')\n",
    "    else:\n",
    "        f.write(str(nums[idx])+'\\n')\n",
    "f.close()\n",
    "print(\"저장되었습니다.\")"
   ]
  },
  {
   "cell_type": "code",
   "execution_count": 12,
   "metadata": {},
   "outputs": [
    {
     "name": "stdout",
     "output_type": "stream",
     "text": [
      "['1번째 줄입니다.\\n', '2번째 줄입니다.\\n', '3번째 줄입니다.\\n', '4번째 줄입니다.\\n', '5번째 줄입니다.\\n', '6번째 줄입니다.\\n', '7번째 줄입니다.\\n', '8번째 줄입니다.\\n', '9번째 줄입니다.\\n', '10번째 줄입니다.\\n']\n",
      "1번째 줄입니다.\n",
      "2번째 줄입니다.\n",
      "3번째 줄입니다.\n",
      "4번째 줄입니다.\n",
      "5번째 줄입니다.\n",
      "6번째 줄입니다.\n",
      "7번째 줄입니다.\n",
      "8번째 줄입니다.\n",
      "9번째 줄입니다.\n",
      "10번째 줄입니다.\n"
     ]
    }
   ],
   "source": [
    "f = open(\"d:/박상춘/Python/source/file3.txt\")\n",
    "# 파일의 모든 라인을 읽어서 각각의 라인을 요소로 갖는 리스트 리턴\n",
    "lines = f.readlines()\n",
    "print(lines)\n",
    "for line in lines:\n",
    "    print(line, end='')\n",
    "f.close()"
   ]
  },
  {
   "cell_type": "code",
   "execution_count": 13,
   "metadata": {},
   "outputs": [
    {
     "name": "stdout",
     "output_type": "stream",
     "text": [
      "1번째 줄입니다.\n",
      "2번째 줄입니다.\n",
      "3번째 줄입니다.\n",
      "4번째 줄입니다.\n",
      "5번째 줄입니다.\n",
      "6번째 줄입니다.\n",
      "7번째 줄입니다.\n",
      "8번째 줄입니다.\n",
      "9번째 줄입니다.\n",
      "10번째 줄입니다.\n",
      "\n"
     ]
    }
   ],
   "source": [
    "f = open(\"d:/박상춘/Python/source/file3.txt\")\n",
    "# 파일 내용 전체를 읽어드림\n",
    "data = f.read()\n",
    "print(data)\n",
    "f.close()"
   ]
  }
 ],
 "metadata": {
  "kernelspec": {
   "display_name": "base",
   "language": "python",
   "name": "python3"
  },
  "language_info": {
   "codemirror_mode": {
    "name": "ipython",
    "version": 3
   },
   "file_extension": ".py",
   "mimetype": "text/x-python",
   "name": "python",
   "nbconvert_exporter": "python",
   "pygments_lexer": "ipython3",
   "version": "3.9.13"
  },
  "orig_nbformat": 4,
  "vscode": {
   "interpreter": {
    "hash": "ff4f85d6e04298634172ac5d8264e7e9b556b95639fe52ebb9425c4d4cba0c9c"
   }
  }
 },
 "nbformat": 4,
 "nbformat_minor": 2
}
