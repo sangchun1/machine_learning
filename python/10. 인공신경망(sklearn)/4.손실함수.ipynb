{
 "cells": [
  {
   "attachments": {},
   "cell_type": "markdown",
   "metadata": {},
   "source": [
    "# 평균제곱오차"
   ]
  },
  {
   "cell_type": "code",
   "execution_count": 1,
   "metadata": {},
   "outputs": [
    {
     "name": "stdout",
     "output_type": "stream",
     "text": [
      "0.09750000000000003\n",
      "0.5975\n"
     ]
    }
   ],
   "source": [
    "import numpy as np\n",
    "#평균제곱 오차 : (출력값 - 정답)의 제곱의 합계를 데이터의 개수로 나눈 값\n",
    "#여기서는 two class인 경우라고 가정하여 0.5를 곱함\n",
    "#실제로는 class의 개수가 n개 일때 1/n을 곱해야 함\n",
    "def mean_squared_error(y,t):\n",
    "    return 0.5*np.sum((y-t)**2)\n",
    "#인덱스 2가 정답\n",
    "t=np.array([0,0,1,0,0,0,0,0,0,0])\n",
    "#인덱스 2를 정답으로 계산\n",
    "y=np.array([0.1, 0.05, 0.6, 0.0, 0.05, 0.1, 0.0, 0.1, 0.0, 0.0])\n",
    "print(mean_squared_error(y,t))\n",
    "#인덱스 7을 정답으로 계산\n",
    "y=np.array([0.1, 0.05, 0.1, 0.0, 0.05, 0.1, 0.0, 0.6, 0.0, 0.0])\n",
    "print(mean_squared_error(y,t))"
   ]
  },
  {
   "attachments": {},
   "cell_type": "markdown",
   "metadata": {},
   "source": [
    "# 크로스엔트로피 오차"
   ]
  },
  {
   "cell_type": "code",
   "execution_count": 2,
   "metadata": {},
   "outputs": [
    {
     "data": {
      "text/plain": [
       "0.510825457099338"
      ]
     },
     "execution_count": 2,
     "metadata": {},
     "output_type": "execute_result"
    }
   ],
   "source": [
    "# 엔트로피 : 정보를 최적으로 인코딩하기 위해 필요한 비트수\n",
    "#   오늘이 무슨 요일인지 bit로 표현하려면? 3비트 필요\n",
    "#       월  화  수   목  금  토  일\n",
    "#       000 001 010 011 100 101 110\n",
    "# 교차엔트로피 오차(cross entropy error)\n",
    "# yk : 신경망의 출력\n",
    "# tk : 정답 레이블\n",
    "\n",
    "# 정답레이블이 2이고 신경망의 출력결과가 0.6이라면\n",
    "# 교차엔트로피오차는 -log0.6=0.51이 된다.\n",
    "# 신경망 출력이 0.1이라면\n",
    "# -log0.1=2.30이 된다.\n",
    "# 정답일 때의 출력으로 전체 값이 결정됨\n",
    "# 0일때는 곱하기가 0이 되기 때문에 연산속도가 빨라짐\n",
    "# 따라서 평균제곱오차보다 교차엔트로피 오차를 더 많이 사용하게 된다.\n",
    "def cross_entropy_error(y,t): # y예측값, t실제값\n",
    "    delta=1e-7 #값이 무한대가 되거나 0이 되지 않도록 빼주는 값\n",
    "    return -np.sum(t * np.log(y+delta))\n",
    "t=np.array([0,0,1,0,0,0,0,0,0,0])\n",
    "y=np.array([0.1, 0.05, 0.6, 0.0, 0.05, 0.1, 0.0, 0.1, 0.0, 0.0])\n",
    "cross_entropy_error(y,t)"
   ]
  }
 ],
 "metadata": {
  "kernelspec": {
   "display_name": "base",
   "language": "python",
   "name": "python3"
  },
  "language_info": {
   "codemirror_mode": {
    "name": "ipython",
    "version": 3
   },
   "file_extension": ".py",
   "mimetype": "text/x-python",
   "name": "python",
   "nbconvert_exporter": "python",
   "pygments_lexer": "ipython3",
   "version": "3.9.13"
  },
  "orig_nbformat": 4,
  "vscode": {
   "interpreter": {
    "hash": "ff4f85d6e04298634172ac5d8264e7e9b556b95639fe52ebb9425c4d4cba0c9c"
   }
  }
 },
 "nbformat": 4,
 "nbformat_minor": 2
}
