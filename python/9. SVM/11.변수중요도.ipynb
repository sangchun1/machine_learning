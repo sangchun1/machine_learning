{
 "cells": [
  {
   "cell_type": "code",
   "execution_count": 1,
   "metadata": {},
   "outputs": [
    {
     "data": {
      "text/plain": [
       "Index(['Int'l Plan', 'VMail Plan', 'VMail Message', 'Day Mins', 'Day Calls',\n",
       "       'Day Charge', 'Eve Mins', 'Eve Calls', 'Eve Charge', 'Night Mins',\n",
       "       'Night Calls', 'Night Charge', 'Intl Mins', 'Intl Calls', 'Intl Charge',\n",
       "       'CustServ Calls', 'Churn'],\n",
       "      dtype='object')"
      ]
     },
     "execution_count": 1,
     "metadata": {},
     "output_type": "execute_result"
    }
   ],
   "source": [
    "import pandas as pd\n",
    "df = pd.read_csv(\"c:/data/customer/customer.csv\")\n",
    "df.columns"
   ]
  },
  {
   "cell_type": "code",
   "execution_count": 2,
   "metadata": {},
   "outputs": [
    {
     "data": {
      "text/plain": [
       "0    2850\n",
       "1     483\n",
       "Name: Churn, dtype: int64"
      ]
     },
     "execution_count": 2,
     "metadata": {},
     "output_type": "execute_result"
    }
   ],
   "source": [
    "cols=[\"Int'l Plan\", 'VMail Plan', 'VMail Message', 'Day Mins',\n",
    "    'Day Calls','Day Charge', 'Eve Mins', 'Eve Calls', 'Eve Charge',\n",
    "    'Night Mins','Night Calls', 'Night Charge', 'Intl Mins', 'Intl Calls', \n",
    "    'Intl Charge','CustServ Calls']\n",
    "X=df[cols]\n",
    "y=df['Churn']\n",
    "y.value_counts()"
   ]
  },
  {
   "cell_type": "code",
   "execution_count": 4,
   "metadata": {},
   "outputs": [
    {
     "name": "stdout",
     "output_type": "stream",
     "text": [
      "0    483\n",
      "1    483\n",
      "Name: Churn, dtype: int64\n"
     ]
    }
   ],
   "source": [
    "#언더샘플링\n",
    "from imblearn.under_sampling import RandomUnderSampler\n",
    "X_sample, y_sample = RandomUnderSampler(random_state=0).fit_resample(X, y)\n",
    "X_samp = pd.DataFrame(data=X_sample,columns=cols )\n",
    "y_samp = pd.DataFrame(data=y_sample,columns=['Churn'])\n",
    "df_samp=pd.concat([X_samp,y_samp],axis=1)\n",
    "print(df_samp['Churn'].value_counts())\n",
    "X=df_samp[cols]\n",
    "y=df_samp['Churn']"
   ]
  },
  {
   "cell_type": "code",
   "execution_count": 5,
   "metadata": {},
   "outputs": [],
   "source": [
    "from sklearn.preprocessing import StandardScaler\n",
    "scaler= StandardScaler()\n",
    "scaler.fit(X)\n",
    "X_scaled = pd.DataFrame(scaler.transform(X))"
   ]
  },
  {
   "cell_type": "code",
   "execution_count": 6,
   "metadata": {},
   "outputs": [
    {
     "data": {
      "text/html": [
       "<div>\n",
       "<style scoped>\n",
       "    .dataframe tbody tr th:only-of-type {\n",
       "        vertical-align: middle;\n",
       "    }\n",
       "\n",
       "    .dataframe tbody tr th {\n",
       "        vertical-align: top;\n",
       "    }\n",
       "\n",
       "    .dataframe thead th {\n",
       "        text-align: right;\n",
       "    }\n",
       "</style>\n",
       "<table border=\"1\" class=\"dataframe\">\n",
       "  <thead>\n",
       "    <tr style=\"text-align: right;\">\n",
       "      <th></th>\n",
       "      <th>0</th>\n",
       "      <th>1</th>\n",
       "    </tr>\n",
       "  </thead>\n",
       "  <tbody>\n",
       "    <tr>\n",
       "      <th>0</th>\n",
       "      <td>Int'l Plan</td>\n",
       "      <td>0.0</td>\n",
       "    </tr>\n",
       "    <tr>\n",
       "      <th>1</th>\n",
       "      <td>VMail Plan</td>\n",
       "      <td>0.0</td>\n",
       "    </tr>\n",
       "    <tr>\n",
       "      <th>2</th>\n",
       "      <td>VMail Message</td>\n",
       "      <td>0.002898550724637661</td>\n",
       "    </tr>\n",
       "    <tr>\n",
       "      <th>3</th>\n",
       "      <td>Day Mins</td>\n",
       "      <td>0.15175983436853002</td>\n",
       "    </tr>\n",
       "    <tr>\n",
       "      <th>4</th>\n",
       "      <td>Day Calls</td>\n",
       "      <td>0.0023809523809523838</td>\n",
       "    </tr>\n",
       "    <tr>\n",
       "      <th>5</th>\n",
       "      <td>Day Charge</td>\n",
       "      <td>0.00010351966873705099</td>\n",
       "    </tr>\n",
       "    <tr>\n",
       "      <th>6</th>\n",
       "      <td>Eve Mins</td>\n",
       "      <td>0.052898550724637686</td>\n",
       "    </tr>\n",
       "    <tr>\n",
       "      <th>7</th>\n",
       "      <td>Eve Calls</td>\n",
       "      <td>0.003209109730848847</td>\n",
       "    </tr>\n",
       "    <tr>\n",
       "      <th>8</th>\n",
       "      <td>Eve Charge</td>\n",
       "      <td>0.0008281573498964967</td>\n",
       "    </tr>\n",
       "    <tr>\n",
       "      <th>9</th>\n",
       "      <td>Night Mins</td>\n",
       "      <td>0.001759834368530022</td>\n",
       "    </tr>\n",
       "    <tr>\n",
       "      <th>10</th>\n",
       "      <td>Night Calls</td>\n",
       "      <td>0.003105590062111796</td>\n",
       "    </tr>\n",
       "    <tr>\n",
       "      <th>11</th>\n",
       "      <td>Night Charge</td>\n",
       "      <td>0.00010351966873706209</td>\n",
       "    </tr>\n",
       "    <tr>\n",
       "      <th>12</th>\n",
       "      <td>Intl Mins</td>\n",
       "      <td>0.003105590062111796</td>\n",
       "    </tr>\n",
       "    <tr>\n",
       "      <th>13</th>\n",
       "      <td>Intl Calls</td>\n",
       "      <td>0.0016563146997929713</td>\n",
       "    </tr>\n",
       "    <tr>\n",
       "      <th>14</th>\n",
       "      <td>Intl Charge</td>\n",
       "      <td>0.0010351966873706209</td>\n",
       "    </tr>\n",
       "    <tr>\n",
       "      <th>15</th>\n",
       "      <td>CustServ Calls</td>\n",
       "      <td>0.0006211180124223725</td>\n",
       "    </tr>\n",
       "  </tbody>\n",
       "</table>\n",
       "</div>"
      ],
      "text/plain": [
       "                 0                       1\n",
       "0       Int'l Plan                     0.0\n",
       "1       VMail Plan                     0.0\n",
       "2    VMail Message    0.002898550724637661\n",
       "3         Day Mins     0.15175983436853002\n",
       "4        Day Calls   0.0023809523809523838\n",
       "5       Day Charge  0.00010351966873705099\n",
       "6         Eve Mins    0.052898550724637686\n",
       "7        Eve Calls    0.003209109730848847\n",
       "8       Eve Charge   0.0008281573498964967\n",
       "9       Night Mins    0.001759834368530022\n",
       "10     Night Calls    0.003105590062111796\n",
       "11    Night Charge  0.00010351966873706209\n",
       "12       Intl Mins    0.003105590062111796\n",
       "13      Intl Calls   0.0016563146997929713\n",
       "14     Intl Charge   0.0010351966873706209\n",
       "15  CustServ Calls   0.0006211180124223725"
      ]
     },
     "execution_count": 6,
     "metadata": {},
     "output_type": "execute_result"
    }
   ],
   "source": [
    "from sklearn.ensemble import RandomForestClassifier\n",
    "from sklearn.inspection import permutation_importance\n",
    "from sklearn.svm import SVC\n",
    "import numpy as np\n",
    "svm = SVC(random_state=0).fit(X, y)\n",
    "#rf = RandomForestClassifier(random_state=0).fit(X, y)\n",
    "#모형을 만드는데 사용된 변수들의 특성 중요도 - 트리 알고리즘에 더욱 적합한 방법\n",
    "result = permutation_importance(svm, X, y, n_repeats=10, random_state=0,n_jobs=-1)\n",
    "importances=np.array(list(zip(X.columns, result.importances_mean)))\n",
    "df2=pd.DataFrame(importances)\n",
    "df2"
   ]
  },
  {
   "cell_type": "code",
   "execution_count": 7,
   "metadata": {},
   "outputs": [
    {
     "name": "stdout",
     "output_type": "stream",
     "text": [
      "[['Day Mins' '0.15175983436853002']\n",
      " ['Eve Mins' '0.052898550724637686']\n",
      " ['Eve Calls' '0.003209109730848847']\n",
      " ['Intl Mins' '0.003105590062111796']\n",
      " ['Night Calls' '0.003105590062111796']\n",
      " ['VMail Message' '0.002898550724637661']\n",
      " ['Day Calls' '0.0023809523809523838']\n",
      " ['Night Mins' '0.001759834368530022']\n",
      " ['Intl Calls' '0.0016563146997929713']\n",
      " ['Intl Charge' '0.0010351966873706209']\n",
      " ['Eve Charge' '0.0008281573498964967']\n",
      " ['CustServ Calls' '0.0006211180124223725']\n",
      " ['Night Charge' '0.00010351966873706209']\n",
      " ['Day Charge' '0.00010351966873705099']\n",
      " ['VMail Plan' '0.0']\n",
      " [\"Int'l Plan\" '0.0']]\n"
     ]
    }
   ],
   "source": [
    "sorted_idx = result.importances_mean.argsort()\n",
    "print(importances[sorted_idx[::-1]]) #넘파이 배열을 역순으로"
   ]
  }
 ],
 "metadata": {
  "kernelspec": {
   "display_name": "base",
   "language": "python",
   "name": "python3"
  },
  "language_info": {
   "codemirror_mode": {
    "name": "ipython",
    "version": 3
   },
   "file_extension": ".py",
   "mimetype": "text/x-python",
   "name": "python",
   "nbconvert_exporter": "python",
   "pygments_lexer": "ipython3",
   "version": "3.9.13"
  },
  "orig_nbformat": 4,
  "vscode": {
   "interpreter": {
    "hash": "ff4f85d6e04298634172ac5d8264e7e9b556b95639fe52ebb9425c4d4cba0c9c"
   }
  }
 },
 "nbformat": 4,
 "nbformat_minor": 2
}
