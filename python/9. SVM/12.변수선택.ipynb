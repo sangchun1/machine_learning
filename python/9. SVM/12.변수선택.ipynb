{
 "cells": [
  {
   "cell_type": "code",
   "execution_count": 1,
   "metadata": {},
   "outputs": [
    {
     "data": {
      "text/plain": [
       "Index(['Int'l Plan', 'VMail Plan', 'VMail Message', 'Day Mins', 'Day Calls',\n",
       "       'Day Charge', 'Eve Mins', 'Eve Calls', 'Eve Charge', 'Night Mins',\n",
       "       'Night Calls', 'Night Charge', 'Intl Mins', 'Intl Calls', 'Intl Charge',\n",
       "       'CustServ Calls', 'Churn'],\n",
       "      dtype='object')"
      ]
     },
     "execution_count": 1,
     "metadata": {},
     "output_type": "execute_result"
    }
   ],
   "source": [
    "import pandas as pd\n",
    "df = pd.read_csv(\"c:/data/customer/customer.csv\")\n",
    "df.columns"
   ]
  },
  {
   "cell_type": "code",
   "execution_count": 2,
   "metadata": {},
   "outputs": [
    {
     "data": {
      "text/plain": [
       "0    2850\n",
       "1     483\n",
       "Name: Churn, dtype: int64"
      ]
     },
     "execution_count": 2,
     "metadata": {},
     "output_type": "execute_result"
    }
   ],
   "source": [
    "cols=[\"Int'l Plan\", 'VMail Plan', 'VMail Message', 'Day Mins',\n",
    "    'Day Calls','Day Charge', 'Eve Mins', 'Eve Calls', 'Eve Charge',\n",
    "    'Night Mins','Night Calls', 'Night Charge', 'Intl Mins', 'Intl Calls', \n",
    "    'Intl Charge','CustServ Calls']\n",
    "X=df[cols]\n",
    "y=df['Churn']\n",
    "y.value_counts()"
   ]
  },
  {
   "cell_type": "code",
   "execution_count": 4,
   "metadata": {},
   "outputs": [
    {
     "name": "stdout",
     "output_type": "stream",
     "text": [
      "0    483\n",
      "1    483\n",
      "Name: Churn, dtype: int64\n"
     ]
    }
   ],
   "source": [
    "#언더샘플링\n",
    "from imblearn.under_sampling import RandomUnderSampler\n",
    "X_sample, y_sample = RandomUnderSampler(random_state=0).fit_resample(X, y)\n",
    "X_samp = pd.DataFrame(data=X_sample,columns=cols )\n",
    "y_samp = pd.DataFrame(data=y_sample,columns=['Churn'])\n",
    "df_samp=pd.concat([X_samp,y_samp],axis=1)\n",
    "print(df_samp['Churn'].value_counts())\n",
    "X=df_samp[cols]\n",
    "y=df_samp['Churn']"
   ]
  },
  {
   "cell_type": "code",
   "execution_count": 5,
   "metadata": {},
   "outputs": [
    {
     "data": {
      "text/plain": [
       "RFECV(cv=StratifiedKFold(n_splits=5, random_state=None, shuffle=False),\n",
       "      estimator=SVC(kernel='linear'), scoring='accuracy')"
      ]
     },
     "execution_count": 5,
     "metadata": {},
     "output_type": "execute_result"
    }
   ],
   "source": [
    "#시간이 오래 걸림\n",
    "from sklearn.svm import SVC\n",
    "from sklearn.model_selection import StratifiedKFold\n",
    "from sklearn.feature_selection import RFECV\n",
    "# 선형모형만 가능함(rbf 커널에는 coef가 제공되지 않음)\n",
    "svc = SVC(kernel=\"linear\")\n",
    "# step=1 각 단계에서 제거할 변수의 개수\n",
    "rfecv = RFECV(estimator=svc, step=1, cv=StratifiedKFold(5), scoring='accuracy')\n",
    "rfecv.fit(X, y)"
   ]
  },
  {
   "cell_type": "code",
   "execution_count": 6,
   "metadata": {},
   "outputs": [
    {
     "name": "stdout",
     "output_type": "stream",
     "text": [
      "[0.6097217  0.66975055 0.69358474 0.69463704 0.70392607 0.73391913\n",
      " 0.74842156 0.7484269  0.75154105 0.76812136 0.76500721 0.75983121\n",
      " 0.7660328  0.76603814 0.76500721 0.76500721]\n",
      "10\n",
      "[ True  True  True  True False False False False  True False False  True\n",
      "  True  True  True  True]\n",
      "[1 1 1 1 5 2 4 6 1 3 7 1 1 1 1 1]\n",
      "Index(['Int'l Plan', 'VMail Plan', 'VMail Message', 'Day Mins', 'Eve Charge',\n",
      "       'Night Charge', 'Intl Mins', 'Intl Calls', 'Intl Charge',\n",
      "       'CustServ Calls'],\n",
      "      dtype='object')\n",
      "Index(['Day Calls', 'Day Charge', 'Eve Calls', 'Eve Mins', 'Night Calls',\n",
      "       'Night Mins'],\n",
      "      dtype='object')\n"
     ]
    },
    {
     "name": "stderr",
     "output_type": "stream",
     "text": [
      "c:\\anaconda3\\lib\\site-packages\\sklearn\\utils\\deprecation.py:103: FutureWarning: The `grid_scores_` attribute is deprecated in version 1.0 in favor of `cv_results_` and will be removed in version 1.2.\n",
      "  warnings.warn(msg, category=FutureWarning)\n"
     ]
    },
    {
     "data": {
      "text/html": [
       "<div>\n",
       "<style scoped>\n",
       "    .dataframe tbody tr th:only-of-type {\n",
       "        vertical-align: middle;\n",
       "    }\n",
       "\n",
       "    .dataframe tbody tr th {\n",
       "        vertical-align: top;\n",
       "    }\n",
       "\n",
       "    .dataframe thead th {\n",
       "        text-align: right;\n",
       "    }\n",
       "</style>\n",
       "<table border=\"1\" class=\"dataframe\">\n",
       "  <thead>\n",
       "    <tr style=\"text-align: right;\">\n",
       "      <th></th>\n",
       "      <th>변수명</th>\n",
       "      <th>평균점수</th>\n",
       "    </tr>\n",
       "  </thead>\n",
       "  <tbody>\n",
       "    <tr>\n",
       "      <th>0</th>\n",
       "      <td>Int'l Plan</td>\n",
       "      <td>0.609722</td>\n",
       "    </tr>\n",
       "    <tr>\n",
       "      <th>1</th>\n",
       "      <td>VMail Plan</td>\n",
       "      <td>0.669751</td>\n",
       "    </tr>\n",
       "    <tr>\n",
       "      <th>2</th>\n",
       "      <td>VMail Message</td>\n",
       "      <td>0.693585</td>\n",
       "    </tr>\n",
       "    <tr>\n",
       "      <th>3</th>\n",
       "      <td>Day Mins</td>\n",
       "      <td>0.694637</td>\n",
       "    </tr>\n",
       "    <tr>\n",
       "      <th>4</th>\n",
       "      <td>Day Calls</td>\n",
       "      <td>0.703926</td>\n",
       "    </tr>\n",
       "    <tr>\n",
       "      <th>5</th>\n",
       "      <td>Day Charge</td>\n",
       "      <td>0.733919</td>\n",
       "    </tr>\n",
       "    <tr>\n",
       "      <th>6</th>\n",
       "      <td>Eve Mins</td>\n",
       "      <td>0.748422</td>\n",
       "    </tr>\n",
       "    <tr>\n",
       "      <th>7</th>\n",
       "      <td>Eve Calls</td>\n",
       "      <td>0.748427</td>\n",
       "    </tr>\n",
       "    <tr>\n",
       "      <th>8</th>\n",
       "      <td>Eve Charge</td>\n",
       "      <td>0.751541</td>\n",
       "    </tr>\n",
       "    <tr>\n",
       "      <th>9</th>\n",
       "      <td>Night Mins</td>\n",
       "      <td>0.768121</td>\n",
       "    </tr>\n",
       "    <tr>\n",
       "      <th>10</th>\n",
       "      <td>Night Calls</td>\n",
       "      <td>0.765007</td>\n",
       "    </tr>\n",
       "    <tr>\n",
       "      <th>11</th>\n",
       "      <td>Night Charge</td>\n",
       "      <td>0.759831</td>\n",
       "    </tr>\n",
       "    <tr>\n",
       "      <th>12</th>\n",
       "      <td>Intl Mins</td>\n",
       "      <td>0.766033</td>\n",
       "    </tr>\n",
       "    <tr>\n",
       "      <th>13</th>\n",
       "      <td>Intl Calls</td>\n",
       "      <td>0.766038</td>\n",
       "    </tr>\n",
       "    <tr>\n",
       "      <th>14</th>\n",
       "      <td>Intl Charge</td>\n",
       "      <td>0.765007</td>\n",
       "    </tr>\n",
       "    <tr>\n",
       "      <th>15</th>\n",
       "      <td>CustServ Calls</td>\n",
       "      <td>0.765007</td>\n",
       "    </tr>\n",
       "  </tbody>\n",
       "</table>\n",
       "</div>"
      ],
      "text/plain": [
       "               변수명      평균점수\n",
       "0       Int'l Plan  0.609722\n",
       "1       VMail Plan  0.669751\n",
       "2    VMail Message  0.693585\n",
       "3         Day Mins  0.694637\n",
       "4        Day Calls  0.703926\n",
       "5       Day Charge  0.733919\n",
       "6         Eve Mins  0.748422\n",
       "7        Eve Calls  0.748427\n",
       "8       Eve Charge  0.751541\n",
       "9       Night Mins  0.768121\n",
       "10     Night Calls  0.765007\n",
       "11    Night Charge  0.759831\n",
       "12       Intl Mins  0.766033\n",
       "13      Intl Calls  0.766038\n",
       "14     Intl Charge  0.765007\n",
       "15  CustServ Calls  0.765007"
      ]
     },
     "execution_count": 6,
     "metadata": {},
     "output_type": "execute_result"
    }
   ],
   "source": [
    "import numpy as np\n",
    "print(np.mean(rfecv.grid_scores_,axis=1)) #교차검증으로 계산한 변수들의 중요도\n",
    "print(rfecv.n_features_) #교차검증을 통해 선택된 변수 개수\n",
    "print(rfecv.support_) #변수 선택 여부\n",
    "print(rfecv.ranking_) #변수 선택 랭킹\n",
    "#선택된 변수들\n",
    "print(X.columns[rfecv.support_])\n",
    "#선택되지 않은 변수들\n",
    "print(X.columns.difference(X.columns[rfecv.support_]))\n",
    "df2=pd.DataFrame(list(zip(X.columns,np.mean(rfecv.grid_scores_,axis=1))),columns=['변수명','평균점수'])\n",
    "df2"
   ]
  },
  {
   "cell_type": "code",
   "execution_count": 7,
   "metadata": {},
   "outputs": [
    {
     "data": {
      "text/html": [
       "<div>\n",
       "<style scoped>\n",
       "    .dataframe tbody tr th:only-of-type {\n",
       "        vertical-align: middle;\n",
       "    }\n",
       "\n",
       "    .dataframe tbody tr th {\n",
       "        vertical-align: top;\n",
       "    }\n",
       "\n",
       "    .dataframe thead th {\n",
       "        text-align: right;\n",
       "    }\n",
       "</style>\n",
       "<table border=\"1\" class=\"dataframe\">\n",
       "  <thead>\n",
       "    <tr style=\"text-align: right;\">\n",
       "      <th></th>\n",
       "      <th>변수명</th>\n",
       "      <th>평균점수</th>\n",
       "    </tr>\n",
       "  </thead>\n",
       "  <tbody>\n",
       "    <tr>\n",
       "      <th>9</th>\n",
       "      <td>Night Mins</td>\n",
       "      <td>0.768121</td>\n",
       "    </tr>\n",
       "    <tr>\n",
       "      <th>13</th>\n",
       "      <td>Intl Calls</td>\n",
       "      <td>0.766038</td>\n",
       "    </tr>\n",
       "    <tr>\n",
       "      <th>12</th>\n",
       "      <td>Intl Mins</td>\n",
       "      <td>0.766033</td>\n",
       "    </tr>\n",
       "    <tr>\n",
       "      <th>10</th>\n",
       "      <td>Night Calls</td>\n",
       "      <td>0.765007</td>\n",
       "    </tr>\n",
       "    <tr>\n",
       "      <th>14</th>\n",
       "      <td>Intl Charge</td>\n",
       "      <td>0.765007</td>\n",
       "    </tr>\n",
       "    <tr>\n",
       "      <th>15</th>\n",
       "      <td>CustServ Calls</td>\n",
       "      <td>0.765007</td>\n",
       "    </tr>\n",
       "    <tr>\n",
       "      <th>11</th>\n",
       "      <td>Night Charge</td>\n",
       "      <td>0.759831</td>\n",
       "    </tr>\n",
       "    <tr>\n",
       "      <th>8</th>\n",
       "      <td>Eve Charge</td>\n",
       "      <td>0.751541</td>\n",
       "    </tr>\n",
       "    <tr>\n",
       "      <th>7</th>\n",
       "      <td>Eve Calls</td>\n",
       "      <td>0.748427</td>\n",
       "    </tr>\n",
       "    <tr>\n",
       "      <th>6</th>\n",
       "      <td>Eve Mins</td>\n",
       "      <td>0.748422</td>\n",
       "    </tr>\n",
       "    <tr>\n",
       "      <th>5</th>\n",
       "      <td>Day Charge</td>\n",
       "      <td>0.733919</td>\n",
       "    </tr>\n",
       "    <tr>\n",
       "      <th>4</th>\n",
       "      <td>Day Calls</td>\n",
       "      <td>0.703926</td>\n",
       "    </tr>\n",
       "    <tr>\n",
       "      <th>3</th>\n",
       "      <td>Day Mins</td>\n",
       "      <td>0.694637</td>\n",
       "    </tr>\n",
       "    <tr>\n",
       "      <th>2</th>\n",
       "      <td>VMail Message</td>\n",
       "      <td>0.693585</td>\n",
       "    </tr>\n",
       "    <tr>\n",
       "      <th>1</th>\n",
       "      <td>VMail Plan</td>\n",
       "      <td>0.669751</td>\n",
       "    </tr>\n",
       "    <tr>\n",
       "      <th>0</th>\n",
       "      <td>Int'l Plan</td>\n",
       "      <td>0.609722</td>\n",
       "    </tr>\n",
       "  </tbody>\n",
       "</table>\n",
       "</div>"
      ],
      "text/plain": [
       "               변수명      평균점수\n",
       "9       Night Mins  0.768121\n",
       "13      Intl Calls  0.766038\n",
       "12       Intl Mins  0.766033\n",
       "10     Night Calls  0.765007\n",
       "14     Intl Charge  0.765007\n",
       "15  CustServ Calls  0.765007\n",
       "11    Night Charge  0.759831\n",
       "8       Eve Charge  0.751541\n",
       "7        Eve Calls  0.748427\n",
       "6         Eve Mins  0.748422\n",
       "5       Day Charge  0.733919\n",
       "4        Day Calls  0.703926\n",
       "3         Day Mins  0.694637\n",
       "2    VMail Message  0.693585\n",
       "1       VMail Plan  0.669751\n",
       "0       Int'l Plan  0.609722"
      ]
     },
     "execution_count": 7,
     "metadata": {},
     "output_type": "execute_result"
    }
   ],
   "source": [
    "df2.sort_values(by='평균점수', ascending=False)"
   ]
  }
 ],
 "metadata": {
  "kernelspec": {
   "display_name": "base",
   "language": "python",
   "name": "python3"
  },
  "language_info": {
   "codemirror_mode": {
    "name": "ipython",
    "version": 3
   },
   "file_extension": ".py",
   "mimetype": "text/x-python",
   "name": "python",
   "nbconvert_exporter": "python",
   "pygments_lexer": "ipython3",
   "version": "3.9.13"
  },
  "orig_nbformat": 4,
  "vscode": {
   "interpreter": {
    "hash": "ff4f85d6e04298634172ac5d8264e7e9b556b95639fe52ebb9425c4d4cba0c9c"
   }
  }
 },
 "nbformat": 4,
 "nbformat_minor": 2
}
