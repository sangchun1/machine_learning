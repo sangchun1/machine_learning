{
 "cells": [
  {
   "cell_type": "code",
   "execution_count": 1,
   "metadata": {},
   "outputs": [],
   "source": [
    "from keras.datasets import reuters\n",
    "#로이터 뉴스 데이터 로딩, num_words 사용할 상위 단어수, maxlen 상위 1000개 단어\n",
    "(X_train, y_train), (X_test, y_test) = reuters.load_data(num_words=1000,test_split=0.2)"
   ]
  },
  {
   "cell_type": "code",
   "execution_count": 2,
   "metadata": {},
   "outputs": [],
   "source": [
    "from tensorflow.keras.preprocessing import sequence\n",
    "# 가장 긴 길이를 기준으로 사이즈를 맞추고 남는 부분을 0으로 채움\n",
    "X_train = sequence.pad_sequences(X_train, maxlen=50)\n",
    "X_test = sequence.pad_sequences(X_test, maxlen=50)"
   ]
  },
  {
   "cell_type": "code",
   "execution_count": 3,
   "metadata": {},
   "outputs": [],
   "source": [
    "from keras.utils import np_utils\n",
    "#원핫인코딩\n",
    "y_train = np_utils.to_categorical(y_train)\n",
    "y_test = np_utils.to_categorical(y_test)"
   ]
  },
  {
   "cell_type": "code",
   "execution_count": 4,
   "metadata": {},
   "outputs": [
    {
     "name": "stdout",
     "output_type": "stream",
     "text": [
      "Model: \"sequential\"\n",
      "_________________________________________________________________\n",
      " Layer (type)                Output Shape              Param #   \n",
      "=================================================================\n",
      " embedding (Embedding)       (None, None, 100)         100000    \n",
      "                                                                 \n",
      " lstm (LSTM)                 (None, 100)               80400     \n",
      "                                                                 \n",
      " dense (Dense)               (None, 46)                4646      \n",
      "                                                                 \n",
      "=================================================================\n",
      "Total params: 185,046\n",
      "Trainable params: 185,046\n",
      "Non-trainable params: 0\n",
      "_________________________________________________________________\n"
     ]
    }
   ],
   "source": [
    "from keras.models import Sequential\n",
    "from keras.layers import Dense, LSTM, Embedding\n",
    "model = Sequential()\n",
    "#임베딩 레이어 Embedding(단어의개수, 벡터크기, 입력사이즈)\n",
    "model.add(Embedding(1000,100)) #1000개의 단어가 입력되어 100차원으로 출력\n",
    "#문장을 단어들의 시퀀스로 간주하고 순환 레이어의 입력으로, 출력노드수 100\n",
    "model.add(LSTM(100)) # Long Short-Term Memory\n",
    "model.add(Dense(46, activation='softmax')) #46개의 뉴스 카테고리\n",
    "model.compile(loss='categorical_crossentropy', optimizer='adam', metrics=['accuracy'])\n",
    "model.summary()"
   ]
  },
  {
   "cell_type": "code",
   "execution_count": 5,
   "metadata": {},
   "outputs": [
    {
     "name": "stdout",
     "output_type": "stream",
     "text": [
      "Epoch 1/100\n",
      "57/57 [==============================] - 3s 21ms/step - loss: 2.7261 - accuracy: 0.3438 - val_loss: 2.4062 - val_accuracy: 0.3450\n",
      "Epoch 2/100\n",
      "57/57 [==============================] - 1s 12ms/step - loss: 2.2902 - accuracy: 0.3943 - val_loss: 2.0547 - val_accuracy: 0.4886\n",
      "Epoch 3/100\n",
      "57/57 [==============================] - 1s 12ms/step - loss: 1.9613 - accuracy: 0.4956 - val_loss: 1.8574 - val_accuracy: 0.5242\n",
      "Epoch 4/100\n",
      "57/57 [==============================] - 1s 12ms/step - loss: 1.8103 - accuracy: 0.5283 - val_loss: 1.7740 - val_accuracy: 0.5309\n",
      "Epoch 5/100\n",
      "57/57 [==============================] - 1s 11ms/step - loss: 1.7143 - accuracy: 0.5478 - val_loss: 1.7777 - val_accuracy: 0.5470\n",
      "Epoch 6/100\n",
      "57/57 [==============================] - 1s 11ms/step - loss: 1.6563 - accuracy: 0.5690 - val_loss: 1.6699 - val_accuracy: 0.5626\n",
      "Epoch 7/100\n",
      "57/57 [==============================] - 1s 12ms/step - loss: 1.5844 - accuracy: 0.5925 - val_loss: 1.6129 - val_accuracy: 0.5927\n",
      "Epoch 8/100\n",
      "57/57 [==============================] - 1s 12ms/step - loss: 1.5289 - accuracy: 0.6033 - val_loss: 1.5714 - val_accuracy: 0.5915\n",
      "Epoch 9/100\n",
      "57/57 [==============================] - 1s 11ms/step - loss: 1.3947 - accuracy: 0.6413 - val_loss: 1.5272 - val_accuracy: 0.6032\n",
      "Epoch 10/100\n",
      "57/57 [==============================] - 1s 12ms/step - loss: 1.3210 - accuracy: 0.6619 - val_loss: 1.5105 - val_accuracy: 0.6255\n",
      "Epoch 11/100\n",
      "57/57 [==============================] - 1s 12ms/step - loss: 1.2684 - accuracy: 0.6725 - val_loss: 1.4483 - val_accuracy: 0.6322\n",
      "Epoch 12/100\n",
      "57/57 [==============================] - 1s 12ms/step - loss: 1.1962 - accuracy: 0.6910 - val_loss: 1.4334 - val_accuracy: 0.6400\n",
      "Epoch 13/100\n",
      "57/57 [==============================] - 1s 12ms/step - loss: 1.1427 - accuracy: 0.7038 - val_loss: 1.5133 - val_accuracy: 0.6227\n",
      "Epoch 14/100\n",
      "57/57 [==============================] - 1s 11ms/step - loss: 1.1135 - accuracy: 0.7132 - val_loss: 1.4459 - val_accuracy: 0.6505\n",
      "Epoch 15/100\n",
      "57/57 [==============================] - 1s 11ms/step - loss: 1.0669 - accuracy: 0.7221 - val_loss: 1.4599 - val_accuracy: 0.6505\n"
     ]
    }
   ],
   "source": [
    "from keras.callbacks import EarlyStopping\n",
    "early_stopping=EarlyStopping(patience=3)\n",
    "hist=model.fit(X_train,y_train,batch_size=128,epochs=100,validation_split=0.2,callbacks=[early_stopping])"
   ]
  },
  {
   "cell_type": "code",
   "execution_count": 6,
   "metadata": {},
   "outputs": [
    {
     "name": "stdout",
     "output_type": "stream",
     "text": [
      "71/71 [==============================] - 0s 3ms/step - loss: 1.4714 - accuracy: 0.6362\n",
      "\n",
      " 정확도 : 0.6362\n"
     ]
    }
   ],
   "source": [
    "print(\"\\n 정확도 : %.4f\" % (model.evaluate(X_test, y_test) [1]))"
   ]
  },
  {
   "cell_type": "code",
   "execution_count": 7,
   "metadata": {},
   "outputs": [
    {
     "data": {
      "image/png": "[encoded data removed]",
      "text/plain": [
       "<Figure size 640x480 with 1 Axes>"
      ]
     },
     "metadata": {},
     "output_type": "display_data"
    }
   ],
   "source": [
    "import matplotlib.pyplot as plt\n",
    "plt.plot(hist.history['loss'])\n",
    "plt.plot(hist.history['val_loss'])\n",
    "plt.plot(hist.history['accuracy'])\n",
    "plt.plot(hist.history['val_accuracy'])\n",
    "plt.legend(['loss','val_loss','accuracy','val_accuracy'])\n",
    "plt.grid()\n",
    "plt.show()"
   ]
  },
  {
   "cell_type": "code",
   "execution_count": 10,
   "metadata": {},
   "outputs": [
    {
     "name": "stdout",
     "output_type": "stream",
     "text": [
      "71/71 [==============================] - 0s 5ms/step\n"
     ]
    },
    {
     "data": {
      "text/plain": [
       "1"
      ]
     },
     "execution_count": 10,
     "metadata": {},
     "output_type": "execute_result"
    }
   ],
   "source": [
    "import numpy as np\n",
    "pred=model.predict(X_test)\n",
    "np.argmax(pred[12])"
   ]
  },
  {
   "cell_type": "code",
   "execution_count": 11,
   "metadata": {},
   "outputs": [
    {
     "data": {
      "text/plain": [
       "1"
      ]
     },
     "execution_count": 11,
     "metadata": {},
     "output_type": "execute_result"
    }
   ],
   "source": [
    "np.argmax(y_test[12])"
   ]
  }
 ],
 "metadata": {
  "kernelspec": {
   "display_name": "base",
   "language": "python",
   "name": "python3"
  },
  "language_info": {
   "codemirror_mode": {
    "name": "ipython",
    "version": 3
   },
   "file_extension": ".py",
   "mimetype": "text/x-python",
   "name": "python",
   "nbconvert_exporter": "python",
   "pygments_lexer": "ipython3",
   "version": "3.9.13"
  },
  "orig_nbformat": 4,
  "vscode": {
   "interpreter": {
    "hash": "ff4f85d6e04298634172ac5d8264e7e9b556b95639fe52ebb9425c4d4cba0c9c"
   }
  }
 },
 "nbformat": 4,
 "nbformat_minor": 2
}
