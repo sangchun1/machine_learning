{
 "cells": [
  {
   "cell_type": "code",
   "execution_count": 1,
   "metadata": {},
   "outputs": [],
   "source": [
    "import tomotopy as tp\n",
    "# LDAModel 생성\n",
    "# LDA(Latent Dirichlet allocation, 잠재 디리클레 할당)\n",
    "# 주어진 문서에 대하여 각 문서에 어떤 주제들이 존재하는지를 서술하는 확률적 토픽 모델 기법\n",
    "# 토픽의 개수(k) 10개, 2회 미만 등장한 단어들은 제거\n",
    "model = tp.LDAModel(k=10, min_cf=2)"
   ]
  },
  {
   "cell_type": "code",
   "execution_count": 4,
   "metadata": {},
   "outputs": [],
   "source": [
    "import re\n",
    "from konlpy.tag import Hannanum\n",
    "han = Hannanum()\n",
    "# 파일에서 한 줄씩 읽어와서 model에 추가\n",
    "for i, line in enumerate(open('c:/data/text/news1.txt')):\n",
    "    sentence =re.sub('[^가-힣ㄱ-ㅎㅏ-ㅣa-zA-Z]', ' ', line)\n",
    "    #명사만 추출\n",
    "    a=sentence.strip()\n",
    "    n=han.nouns(a)\n",
    "    n2=[x for x in n if len(x)>1]\n",
    "    if len(n2)>0:\n",
    "        model.add_doc(n2) # 공백 기준으로 단어를 나누어 model에 추가"
   ]
  },
  {
   "cell_type": "code",
   "execution_count": 5,
   "metadata": {},
   "outputs": [
    {
     "name": "stdout",
     "output_type": "stream",
     "text": [
      "Total docs: 27\n",
      "Total words: 178\n"
     ]
    }
   ],
   "source": [
    "# train(0) : 0회 학습, model의 num_words, num_vocabs 값을 확인하기 위해\n",
    "#   실제로 학습은 하지 않고 학습 준비만 하는 상태\n",
    "model.train(0)\n",
    "print('Total docs:', len(model.docs))\n",
    "print('Total words:', model.num_words)"
   ]
  },
  {
   "cell_type": "code",
   "execution_count": 6,
   "metadata": {},
   "outputs": [
    {
     "name": "stdout",
     "output_type": "stream",
     "text": [
      "Topic #0\t카드사, 이용자, 뒷면, 사용, 설명, 부정사용, 결제, 카드, 분실, 증가\n",
      "Topic #1\t경우, 부정사용, 발생, 여름, 국내외, 관계자, 금감원, 결제, 사용, 분실\n",
      "Topic #2\t카드, 여행, 복제, 거액, 본인, 주의, 타인, 지난해, 사례, 경우\n",
      "Topic #3\t부정사용, 방지, 강조, 증가, 금감원, 결제, 사용, 경우, 분실, 출국\n",
      "Topic #4\t카드분실, 설명, 휴가철, 대처, 직원, 사설, 결제, 사용, 경우, 분실\n",
      "Topic #5\t해외, 금감원, 증가, 전망, 확대, 행동요령, 감소, 서비스, 확인, 분실\n",
      "Topic #6\t출국, 당부, 전년, 사례, 사설, 부정사용, 결제, 사용, 경우, 분실\n",
      "Topic #7\t결제, 분실, 공휴일, 당부, 카드, 해외, 금감원, 부정사용, 사용, 경우\n",
      "Topic #8\t사용, 도난, 유출, 국내, 해외, 금감원, 부정사용, 결제, 경우, 분실\n",
      "Topic #9\t보상률, 여행수요, 해외여행, 원인, 이후, 서명, 지난해, 사용, 경우, 분실\n"
     ]
    }
   ],
   "source": [
    "#200회 학습\n",
    "model.train(200)\n",
    "# 학습된 토픽들을 출력\n",
    "for i in range(model.k):\n",
    "    # 토픽별 상위 단어 10개 추출\n",
    "    res = model.get_topic_words(i, top_n=10)\n",
    "    print(f'Topic #{i}', end='\\t')\n",
    "    print(', '.join(w for w, p in res))"
   ]
  }
 ],
 "metadata": {
  "kernelspec": {
   "display_name": "base",
   "language": "python",
   "name": "python3"
  },
  "language_info": {
   "codemirror_mode": {
    "name": "ipython",
    "version": 3
   },
   "file_extension": ".py",
   "mimetype": "text/x-python",
   "name": "python",
   "nbconvert_exporter": "python",
   "pygments_lexer": "ipython3",
   "version": "3.9.13"
  },
  "orig_nbformat": 4,
  "vscode": {
   "interpreter": {
    "hash": "ff4f85d6e04298634172ac5d8264e7e9b556b95639fe52ebb9425c4d4cba0c9c"
   }
  }
 },
 "nbformat": 4,
 "nbformat_minor": 2
}
