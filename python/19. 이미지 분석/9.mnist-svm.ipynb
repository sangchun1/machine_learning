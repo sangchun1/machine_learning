{
 "cells": [
  {
   "cell_type": "code",
   "execution_count": 1,
   "metadata": {},
   "outputs": [
    {
     "name": "stdout",
     "output_type": "stream",
     "text": [
      "[5 0 4 1 9]\n"
     ]
    }
   ],
   "source": [
    "from keras.datasets import mnist\n",
    "# 학습용과 검증용 분리\n",
    "(X_train, y_train), (X_test, y_test) = mnist.load_data()\n",
    "# 데이터 전처리\n",
    "# 28x28 => 784로 변환\n",
    "X_train = X_train.reshape(60000, 784).astype('float32') / 255.0\n",
    "X_test = X_test.reshape(10000, 784).astype('float32') / 255.0\n",
    "print(y_train[:5])"
   ]
  },
  {
   "cell_type": "code",
   "execution_count": 2,
   "metadata": {},
   "outputs": [
    {
     "name": "stdout",
     "output_type": "stream",
     "text": [
      "학습용: 0.9899166666666667\n",
      "검증용: 0.9792\n"
     ]
    }
   ],
   "source": [
    "#시간이 오래 걸리므로 이미지 100장만 학습\n",
    "from sklearn.svm import SVC\n",
    "model = SVC()\n",
    "model.fit(X_train, y_train)\n",
    "print(\"학습용:\",model.score(X_train, y_train))\n",
    "print(\"검증용:\",model.score(X_test, y_test))"
   ]
  },
  {
   "cell_type": "code",
   "execution_count": 3,
   "metadata": {},
   "outputs": [],
   "source": [
    "#최적의 C value와 gamma value를 찾는 과정\n",
    "import matplotlib.pyplot as plt\n",
    "import numpy as np\n",
    "train_rate = []\n",
    "test_rate = []\n",
    "c_values = [0.001, 0.01, 0.1, 1, 10, 100, 1000]\n",
    "g_values = [0.0001, 0.001, 0.01, 0.1]\n",
    "for n in c_values:\n",
    "    for g in g_values:\n",
    "        # 모델 생성\n",
    "        model = SVC(C=n,gamma=g,random_state=10)\n",
    "        model.fit(X_train, y_train)\n",
    "        # 학습용 데이터셋의 정확도\n",
    "        train_rate.append([n,g,model.score(X_train, y_train)])\n",
    "        # 검증용 데이터셋의 정확도\n",
    "        test_rate.append([n,g,model.score(X_test, y_test)])\n",
    "train_arr=np.array(train_rate) #검증용 데이터셋의 정확도\n",
    "test_arr=np.array(test_rate) #검증용 데이터셋의 정확도\n",
    "max_rate=np.max(test_arr[:,2]) #가장 좋은 정확도\n",
    "idx=np.where(test_arr[:,2] == max_rate)[0][0] #가장 성능이 좋은 인덱스\n",
    "print(\"최적의 c:\",test_rate[idx][0])\n",
    "print(\"최적의 gamma:\",test_rate[idx][1])\n",
    "print(\"최적의 정확도:\",test_rate[idx][2])"
   ]
  },
  {
   "cell_type": "code",
   "execution_count": null,
   "metadata": {},
   "outputs": [],
   "source": [
    "plt.rcParams[\"font.size\"]=15\n",
    "plt.plot(range(len(train_rate)), train_arr[:,2], label=\"Train\")\n",
    "plt.plot(range(len(test_rate)), test_arr[:,2], label=\"Test\")\n",
    "plt.ylabel(\"Accuracy\")\n",
    "plt.legend()"
   ]
  },
  {
   "cell_type": "code",
   "execution_count": null,
   "metadata": {},
   "outputs": [],
   "source": [
    "model = SVC(C=10, gamma=0.01)\n",
    "model.fit(X_train, y_train)\n",
    "print(\"학습용:\",model.score(X_train, y_train))\n",
    "print(\"검증용:\",model.score(X_test, y_test))"
   ]
  },
  {
   "cell_type": "code",
   "execution_count": null,
   "metadata": {},
   "outputs": [],
   "source": [
    "#모형 저장\n",
    "import pickle\n",
    "pickle.dump(model, open('c:/data/mnist/mnist_svm.model', 'wb'))"
   ]
  },
  {
   "cell_type": "code",
   "execution_count": null,
   "metadata": {},
   "outputs": [],
   "source": [
    "# 모형 불러오기\n",
    "model = pickle.load(open('c:/data/mnist/mnist_svm.model', 'rb'))\n",
    "# 모형 사용\n",
    "pred = model.predict(X_test[:10])\n",
    "print('예측값:',pred[:10])\n",
    "print('실제값:',y_test[:10])"
   ]
  },
  {
   "cell_type": "code",
   "execution_count": null,
   "metadata": {},
   "outputs": [],
   "source": [
    "#confusion matrix(혼동행렬, 오분류표) 출력\n",
    "from sklearn.metrics import confusion_matrix\n",
    "import pandas as pd\n",
    "pred=model.predict(X_test)\n",
    "cm=confusion_matrix(y_test, pred)\n",
    "df_cm=pd.DataFrame(cm, index=range(10), columns=range(10))\n",
    "df_cm"
   ]
  },
  {
   "cell_type": "code",
   "execution_count": null,
   "metadata": {},
   "outputs": [],
   "source": [
    "from sklearn.metrics import classification_report\n",
    "print(classification_report(y_test, pred))"
   ]
  }
 ],
 "metadata": {
  "kernelspec": {
   "display_name": "base",
   "language": "python",
   "name": "python3"
  },
  "language_info": {
   "codemirror_mode": {
    "name": "ipython",
    "version": 3
   },
   "file_extension": ".py",
   "mimetype": "text/x-python",
   "name": "python",
   "nbconvert_exporter": "python",
   "pygments_lexer": "ipython3",
   "version": "3.9.13"
  },
  "orig_nbformat": 4,
  "vscode": {
   "interpreter": {
    "hash": "ff4f85d6e04298634172ac5d8264e7e9b556b95639fe52ebb9425c4d4cba0c9c"
   }
  }
 },
 "nbformat": 4,
 "nbformat_minor": 2
}
