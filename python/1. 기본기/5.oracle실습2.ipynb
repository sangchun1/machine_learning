{
 "cells": [
  {
   "cell_type": "code",
   "execution_count": 1,
   "metadata": {},
   "outputs": [
    {
     "data": {
      "text/html": [
       "<div>\n",
       "<style scoped>\n",
       "    .dataframe tbody tr th:only-of-type {\n",
       "        vertical-align: middle;\n",
       "    }\n",
       "\n",
       "    .dataframe tbody tr th {\n",
       "        vertical-align: top;\n",
       "    }\n",
       "\n",
       "    .dataframe thead th {\n",
       "        text-align: right;\n",
       "    }\n",
       "</style>\n",
       "<table border=\"1\" class=\"dataframe\">\n",
       "  <thead>\n",
       "    <tr style=\"text-align: right;\">\n",
       "      <th></th>\n",
       "      <th>SepalLength</th>\n",
       "      <th>SepalWidth</th>\n",
       "      <th>PetalLength</th>\n",
       "      <th>PetalWidth</th>\n",
       "      <th>Name</th>\n",
       "      <th>Species</th>\n",
       "    </tr>\n",
       "  </thead>\n",
       "  <tbody>\n",
       "    <tr>\n",
       "      <th>0</th>\n",
       "      <td>5.1</td>\n",
       "      <td>3.5</td>\n",
       "      <td>1.4</td>\n",
       "      <td>0.2</td>\n",
       "      <td>setosa</td>\n",
       "      <td>0</td>\n",
       "    </tr>\n",
       "    <tr>\n",
       "      <th>1</th>\n",
       "      <td>4.9</td>\n",
       "      <td>3.0</td>\n",
       "      <td>1.4</td>\n",
       "      <td>0.2</td>\n",
       "      <td>setosa</td>\n",
       "      <td>0</td>\n",
       "    </tr>\n",
       "    <tr>\n",
       "      <th>2</th>\n",
       "      <td>4.7</td>\n",
       "      <td>3.2</td>\n",
       "      <td>1.3</td>\n",
       "      <td>0.2</td>\n",
       "      <td>setosa</td>\n",
       "      <td>0</td>\n",
       "    </tr>\n",
       "    <tr>\n",
       "      <th>3</th>\n",
       "      <td>4.6</td>\n",
       "      <td>3.1</td>\n",
       "      <td>1.5</td>\n",
       "      <td>0.2</td>\n",
       "      <td>setosa</td>\n",
       "      <td>0</td>\n",
       "    </tr>\n",
       "    <tr>\n",
       "      <th>4</th>\n",
       "      <td>5.0</td>\n",
       "      <td>3.6</td>\n",
       "      <td>1.4</td>\n",
       "      <td>0.2</td>\n",
       "      <td>setosa</td>\n",
       "      <td>0</td>\n",
       "    </tr>\n",
       "  </tbody>\n",
       "</table>\n",
       "</div>"
      ],
      "text/plain": [
       "   SepalLength  SepalWidth  PetalLength  PetalWidth    Name  Species\n",
       "0          5.1         3.5          1.4         0.2  setosa        0\n",
       "1          4.9         3.0          1.4         0.2  setosa        0\n",
       "2          4.7         3.2          1.3         0.2  setosa        0\n",
       "3          4.6         3.1          1.5         0.2  setosa        0\n",
       "4          5.0         3.6          1.4         0.2  setosa        0"
      ]
     },
     "execution_count": 1,
     "metadata": {},
     "output_type": "execute_result"
    }
   ],
   "source": [
    "import pandas as pd\n",
    "df = pd.read_csv('c:/data/iris/iris.csv')\n",
    "df.head()"
   ]
  },
  {
   "cell_type": "code",
   "execution_count": 2,
   "metadata": {},
   "outputs": [
    {
     "data": {
      "text/plain": [
       "150"
      ]
     },
     "execution_count": 2,
     "metadata": {},
     "output_type": "execute_result"
    }
   ],
   "source": [
    "from sqlalchemy import create_engine\n",
    "import cx_Oracle\n",
    "# oracle server에 접속하기 위한 엔진 생성\n",
    "# oracle+cx_oracle://아이디:비번@db\n",
    "engine = create_engine('oracle+cx_oracle://python:1234@xe')\n",
    "conn = engine.connect()\n",
    "# 데이터 프레임의 내용을 테이블로 export\n",
    "df.to_sql(name='iris', con=engine, if_exists='replace', index=False)"
   ]
  },
  {
   "cell_type": "code",
   "execution_count": 3,
   "metadata": {},
   "outputs": [
    {
     "name": "stdout",
     "output_type": "stream",
     "text": [
      "(2007, 1, 1, 1, '1232', 1225, '1341', 1340, 'WN', '2891', 'N351', '69', '75', '54', '1', '7', 'SMF', 'ONT', '389', '4', '11', '0', None, '0', '0', '0', '0', '0', '0')\n",
      "(2007, 1, 1, 1, '1918', 1905, '2043', 2035, 'WN', '462', 'N370', '85', '90', '74', '8', '13', 'SMF', 'PDX', '479', '5', '6', '0', None, '0', '0', '0', '0', '0', '0')\n",
      "(2007, 1, 1, 1, '2206', 2130, '2334', 2300, 'WN', '1229', 'N685', '88', '90', '73', '34', '36', 'SMF', 'PDX', '479', '6', '9', '0', None, '0', '3', '0', '0', '0', '31')\n",
      "(2007, 1, 1, 1, '1230', 1200, '1356', 1330, 'WN', '1355', 'N364', '86', '90', '75', '26', '30', 'SMF', 'PDX', '479', '3', '8', '0', None, '0', '23', '0', '0', '0', '3')\n"
     ]
    }
   ],
   "source": [
    "import cx_Oracle\n",
    "conn = cx_Oracle.connect(\"python/1234@localhost:1521/xe\")\n",
    "\n",
    "cursor = conn.cursor()                      \n",
    "cursor.execute('select * from ontime where rownum < 5')\n",
    "\n",
    "rows = cursor.fetchall()         \n",
    "for row in rows:\n",
    "    print(row)\n",
    "    \n",
    "cursor.close()  \n",
    "conn.close()"
   ]
  },
  {
   "cell_type": "code",
   "execution_count": 4,
   "metadata": {},
   "outputs": [
    {
     "name": "stdout",
     "output_type": "stream",
     "text": [
      "NW\t8.8\n",
      "XE\t11.6\n",
      "UA\t13.6\n",
      "F9\t7.4\n",
      "AA\t14.3\n",
      "FL\t8.9\n",
      "AQ\t0.4\n",
      "AS\t10.6\n",
      "OO\t8.1\n",
      "OH\t12.1\n",
      "CO\t11.7\n",
      "YV\t11.9\n",
      "HA\t-0.9\n",
      "WN\t10.3\n",
      "US\t11.9\n",
      "9E\t8.8\n",
      "MQ\t12.6\n",
      "EV\t19.6\n",
      "DL\t7.7\n",
      "B6\t14.5\n"
     ]
    }
   ],
   "source": [
    "# 항공사별 출발 지연 시간 평균(실행시간이 오래 걸림)\n",
    "import cx_Oracle\n",
    "conn = cx_Oracle.connect(\"python/1234@localhost:1521/xe\")\n",
    "\n",
    "cursor = conn.cursor()                      \n",
    "cursor.execute('''\n",
    "select uniquecarrier, round(avg(depdelay),1)\n",
    "from ontime\n",
    "group by uniquecarrier\n",
    "''')    \n",
    "rows = cursor.fetchall()         \n",
    "for row in rows:\n",
    "    print('{}\\t{}'.format(row[0],row[1]))\n",
    "\n",
    "cursor.close()\n",
    "conn.close()"
   ]
  },
  {
   "cell_type": "code",
   "execution_count": 5,
   "metadata": {},
   "outputs": [
    {
     "name": "stdout",
     "output_type": "stream",
     "text": [
      "NW\t12.3\n",
      "XE\t9.7\n",
      "UA\t12.4\n",
      "F9\t7.4\n",
      "AA\t14\n",
      "FL\t7.8\n",
      "AQ\t-1.4\n",
      "AS\t9.1\n",
      "OO\t8.6\n",
      "OH\t12.6\n",
      "CO\t10.1\n",
      "YV\t10.5\n",
      "HA\t-0.4\n",
      "WN\t5.4\n",
      "US\t11.3\n",
      "9E\t7.9\n",
      "MQ\t12.4\n",
      "EV\t16.6\n",
      "DL\t7.2\n",
      "B6\t13.1\n"
     ]
    }
   ],
   "source": [
    "# 항공사별 도착 지연 시간 평균(실행시간이 오래 걸림)\n",
    "import cx_Oracle\n",
    "conn = cx_Oracle.connect(\"python/1234@localhost:1521/xe\")\n",
    "\n",
    "cursor = conn.cursor()                      \n",
    "cursor.execute('''\n",
    "select uniquecarrier, round(avg(arrdelay),1)\n",
    "from ontime\n",
    "group by uniquecarrier\n",
    "''')    \n",
    "rows = cursor.fetchall()         \n",
    "for row in rows:\n",
    "    print('{}\\t{}'.format(row[0],row[1]))\n",
    "\n",
    "cursor.close()\n",
    "conn.close()"
   ]
  },
  {
   "cell_type": "code",
   "execution_count": 8,
   "metadata": {},
   "outputs": [
    {
     "name": "stdout",
     "output_type": "stream",
     "text": [
      "1\t286334\n",
      "2\t284152\n",
      "3\t293360\n",
      "4\t273055\n",
      "5\t275332\n",
      "6\t326446\n",
      "7\t326559\n",
      "8\t317197\n",
      "9\t225751\n",
      "10\t270098\n",
      "11\t242722\n",
      "12\t332449\n"
     ]
    }
   ],
   "source": [
    "# 2007년 도착지연횟수 월별 집계\n",
    "import cx_Oracle\n",
    "conn = cx_Oracle.connect(\"python/1234@localhost:1521/xe\")\n",
    "\n",
    "cursor = conn.cursor()                      \n",
    "cursor.execute('''\n",
    "select month, count(*) \n",
    "from ontime\n",
    "where year=2007 and arrdelay > 0\n",
    "group by month\n",
    "order by month\n",
    "''')    \n",
    "rows = cursor.fetchall()         \n",
    "for row in rows:\n",
    "    print('{}\\t{}'.format(row[0],row[1]))\n",
    "\n",
    "cursor.close()\n",
    "conn.close()"
   ]
  },
  {
   "cell_type": "code",
   "execution_count": 9,
   "metadata": {},
   "outputs": [
    {
     "name": "stdout",
     "output_type": "stream",
     "text": [
      "[1, 2, 3, 4, 5, 6, 7, 8, 9, 10, 11, 12]\n",
      "[286334, 284152, 293360, 273055, 275332, 326446, 326559, 317197, 225751, 270098, 242722, 332449]\n"
     ]
    }
   ],
   "source": [
    "x=list(range(1,13))\n",
    "y=[]\n",
    "for row in rows:\n",
    "    y.append(row[1])\n",
    "print(x)\n",
    "print(y)"
   ]
  },
  {
   "cell_type": "code",
   "execution_count": 10,
   "metadata": {},
   "outputs": [
    {
     "data": {
      "image/png": "[encoded data removed]",
      "text/plain": [
       "<Figure size 640x480 with 1 Axes>"
      ]
     },
     "metadata": {},
     "output_type": "display_data"
    }
   ],
   "source": [
    "import matplotlib.pyplot as plt\n",
    "\n",
    "plt.plot(x,y)\n",
    "plt.bar(x,y)\n",
    "plt.show()"
   ]
  },
  {
   "cell_type": "code",
   "execution_count": 11,
   "metadata": {},
   "outputs": [
    {
     "name": "stdout",
     "output_type": "stream",
     "text": [
      "6\t5.735648821755891\n",
      "7\t10.097206685656515\n",
      "1\t10.280262729735707\n",
      "2\t8.047561475371838\n",
      "5\t12.747663814379557\n",
      "4\t12.363173179756918\n",
      "3\t9.697532644293378\n"
     ]
    }
   ],
   "source": [
    "# 요일별 평균 지연 시간\n",
    "import cx_Oracle\n",
    "conn = cx_Oracle.connect(\"python/1234@localhost:1521/xe\")\n",
    "\n",
    "cursor = conn.cursor()                      \n",
    "cursor.execute('''\n",
    "select dayofweek, avg(arrdelay)\n",
    "from ontime\n",
    "group by dayofweek\n",
    "''')    \n",
    "rows = cursor.fetchall()         \n",
    "for row in rows:\n",
    "    print('{}\\t{}'.format(row[0],row[1]))\n",
    "\n",
    "cursor.close()\n",
    "conn.close()"
   ]
  },
  {
   "cell_type": "code",
   "execution_count": 12,
   "metadata": {},
   "outputs": [
    {
     "name": "stdout",
     "output_type": "stream",
     "text": [
      "['월', '화', '수', '목', '금', '토', '일']\n",
      "[5.735648821755891, 10.097206685656515, 10.280262729735707, 8.047561475371838, 12.747663814379557, 12.363173179756918, 9.697532644293378]\n"
     ]
    }
   ],
   "source": [
    "x=['월', '화', '수', '목', '금', '토', '일']\n",
    "y=[]\n",
    "for row in rows:\n",
    "    y.append(row[1])\n",
    "print(x)\n",
    "print(y)"
   ]
  },
  {
   "cell_type": "code",
   "execution_count": 13,
   "metadata": {},
   "outputs": [
    {
     "data": {
      "image/png": "[encoded data removed]",
      "text/plain": [
       "<Figure size 640x480 with 1 Axes>"
      ]
     },
     "metadata": {},
     "output_type": "display_data"
    }
   ],
   "source": [
    "import matplotlib.pyplot as plt\n",
    "from matplotlib import rc,font_manager\n",
    "font_name=font_manager.FontProperties(fname='c:/windows/fonts/gulim.ttc').get_name()\n",
    "rc('font',family=font_name)\n",
    "\n",
    "plt.plot(x,y)\n",
    "plt.bar(x,y)\n",
    "plt.show()"
   ]
  },
  {
   "cell_type": "code",
   "execution_count": 14,
   "metadata": {},
   "outputs": [
    {
     "name": "stdout",
     "output_type": "stream",
     "text": [
      "(1, 1924, -47)\n",
      "(2, 2257, -32)\n",
      "(3, 300, -29.4)\n",
      "(4, 2244, -20)\n",
      "(5, 1801, -18.6)\n"
     ]
    }
   ],
   "source": [
    "# 시간대별(10월, 월요일에 출발할 때 가장 좋은 시간대는?)\n",
    "import cx_Oracle\n",
    "conn = cx_Oracle.connect(\"python/1234@localhost:1521/xe\")\n",
    "\n",
    "cursor = conn.cursor()\n",
    "cursor.execute('''\n",
    "select * \n",
    "from (\n",
    "    select rownum as rn, A.*\n",
    "    from (\n",
    "        select CRSDepTime, avg(arrdelay) arrdelay\n",
    "        from ontime\n",
    "        where month=10 and dayofweek = 1\n",
    "        group by CRSDepTime\n",
    "        order by arrdelay\n",
    "    ) A\n",
    ") where rn between 1 and 5\n",
    "''')\n",
    "rows = cursor.fetchall()\n",
    "for row in rows:\n",
    "    print(row)\n",
    "\n",
    "cursor.close()\n",
    "conn.close()"
   ]
  }
 ],
 "metadata": {
  "kernelspec": {
   "display_name": "base",
   "language": "python",
   "name": "python3"
  },
  "language_info": {
   "codemirror_mode": {
    "name": "ipython",
    "version": 3
   },
   "file_extension": ".py",
   "mimetype": "text/x-python",
   "name": "python",
   "nbconvert_exporter": "python",
   "pygments_lexer": "ipython3",
   "version": "3.9.13"
  },
  "orig_nbformat": 4,
  "vscode": {
   "interpreter": {
    "hash": "ff4f85d6e04298634172ac5d8264e7e9b556b95639fe52ebb9425c4d4cba0c9c"
   }
  }
 },
 "nbformat": 4,
 "nbformat_minor": 2
}
