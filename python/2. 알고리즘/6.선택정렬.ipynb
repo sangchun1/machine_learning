{
 "cells": [
  {
   "cell_type": "code",
   "execution_count": 1,
   "metadata": {},
   "outputs": [
    {
     "name": "stdout",
     "output_type": "stream",
     "text": [
      "[1, 2, 3, 4, 5]\n"
     ]
    }
   ],
   "source": [
    "# 쉽게 설명한 선택 정렬\n",
    "# 입력: 리스트 a\n",
    "# 출력: 정렬된 새 리스트\n",
    "\n",
    "# 주어진 리스트에서 최소값의 위치를 돌려주는 함수\n",
    "def find_min_idx(a):\n",
    "    n = len(a)\n",
    "    min_idx = 0\n",
    "    for i in range(1, n):\n",
    "        if a[i] < a[min_idx]:\n",
    "            min_idx = i\n",
    "    return min_idx\n",
    "\n",
    "def sel_sort(a):\n",
    "    result = [] # 새 리스트를 만들어 정렬된 값을 저장\n",
    "    while a:    # 주어진 리스트에 값이 남아있는 동안 계속\n",
    "        min_idx = find_min_idx(a)   # 리스트에 남아 있는 값 중 최소값의 위치\n",
    "        value = a.pop(min_idx)      # 찾은 최소값을 빼내어 value에 저장\n",
    "        result.append(value)        # value를 결과 리스트 끝에 추가\n",
    "    return result\n",
    "\n",
    "d = [2, 4, 5, 1, 3]\n",
    "print(sel_sort(d))"
   ]
  },
  {
   "cell_type": "code",
   "execution_count": 2,
   "metadata": {},
   "outputs": [
    {
     "name": "stdout",
     "output_type": "stream",
     "text": [
      "0 1 [2, 4, 5, 1, 3]\n",
      "0 2 [2, 4, 5, 1, 3]\n",
      "0 3 [2, 4, 5, 1, 3]\n",
      "0 4 [2, 4, 5, 1, 3]\n",
      "0 4 [1, 4, 5, 2, 3]\n",
      "1 2 [1, 4, 5, 2, 3]\n",
      "1 3 [1, 4, 5, 2, 3]\n",
      "1 4 [1, 4, 5, 2, 3]\n",
      "1 4 [1, 2, 5, 4, 3]\n",
      "2 3 [1, 2, 5, 4, 3]\n",
      "2 4 [1, 2, 5, 4, 3]\n",
      "2 4 [1, 2, 3, 4, 5]\n",
      "3 4 [1, 2, 3, 4, 5]\n",
      "3 4 [1, 2, 3, 4, 5]\n",
      "[1, 2, 3, 4, 5]\n"
     ]
    }
   ],
   "source": [
    "# 선택 정렬(일반적인 코드)\n",
    "# 입력: 리스트 a\n",
    "# 출력: 없음(입력으로 주어진 a가 정렬됨)\n",
    "\n",
    "def sel_sort(a):\n",
    "    n = len(a)\n",
    "    for i in range(0, n - 1): # 0부터 n-2까지 반복\n",
    "        # i번 위치부터 끝까지 자료 값 중 최소값의 위치를 찾음\n",
    "        min_idx = i\n",
    "        for j in range(i+1, n):\n",
    "            if a[j] < a[min_idx]:\n",
    "                min_idx = j\n",
    "            print(i, j, a)\n",
    "        # 찾은 최소값을 i번 위치로\n",
    "        a[i], a[min_idx] = a[min_idx], a[i] # 두 값을 바꾸기\n",
    "        print(i, j, a)\n",
    "\n",
    "d = [2, 4, 5, 1, 3]\n",
    "sel_sort(d)\n",
    "print(d)"
   ]
  },
  {
   "cell_type": "code",
   "execution_count": 3,
   "metadata": {},
   "outputs": [
    {
     "name": "stdout",
     "output_type": "stream",
     "text": [
      "[5, 4, 3, 2, 1]\n"
     ]
    }
   ],
   "source": [
    "# 내림차순 선택 정렬\n",
    "# 입력: 리스트 a\n",
    "# 출력: 없음(입력으로 주어진 a가 정렬됨)   \n",
    "\n",
    "def sel_sort(a):\n",
    "    n = len(a)\n",
    "    for i in range(0, n - 1):\n",
    "        max_idx = i # 최소값(min) 대신 최대값(max)을 찾아야 함\n",
    "        for j in range(i + 1, n):\n",
    "            if a[j] > a[max_idx]: # 부등호 방향 뒤집기\n",
    "                max_idx = j\n",
    "        a[i], a[max_idx] = a[max_idx], a[i]\n",
    "\n",
    "d = [2, 4, 5, 1, 3]\n",
    "sel_sort(d)\n",
    "print(d)"
   ]
  }
 ],
 "metadata": {
  "kernelspec": {
   "display_name": "base",
   "language": "python",
   "name": "python3"
  },
  "language_info": {
   "codemirror_mode": {
    "name": "ipython",
    "version": 3
   },
   "file_extension": ".py",
   "mimetype": "text/x-python",
   "name": "python",
   "nbconvert_exporter": "python",
   "pygments_lexer": "ipython3",
   "version": "3.9.13"
  },
  "orig_nbformat": 4,
  "vscode": {
   "interpreter": {
    "hash": "ff4f85d6e04298634172ac5d8264e7e9b556b95639fe52ebb9425c4d4cba0c9c"
   }
  }
 },
 "nbformat": 4,
 "nbformat_minor": 2
}
