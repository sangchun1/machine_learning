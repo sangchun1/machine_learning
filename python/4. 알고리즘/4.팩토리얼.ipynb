{
 "cells": [
  {
   "cell_type": "code",
   "execution_count": 1,
   "metadata": {},
   "outputs": [
    {
     "name": "stdout",
     "output_type": "stream",
     "text": [
      "3628800\n"
     ]
    }
   ],
   "source": [
    "# 팩토리얼(계승()\n",
    "# 연속한 숫자의 곱을 구하는 알고리즘\n",
    "# 입력: n\n",
    "# 출력: 1부터 n까지 연속한 숫자를 곱한 값\n",
    "\n",
    "import math\n",
    "print(math.factorial(10))"
   ]
  },
  {
   "cell_type": "code",
   "execution_count": 2,
   "metadata": {},
   "outputs": [
    {
     "name": "stdout",
     "output_type": "stream",
     "text": [
      "1\n",
      "120\n",
      "3628800\n"
     ]
    }
   ],
   "source": [
    "# 반복문을 사용한 코드\n",
    "def fact(n):\n",
    "    f = 1                       # 곱을 계산할 변수, 초깃값은 1\n",
    "    for i in range(1, n + 1):   # 1부터 n까지 반복(n+1은 제외)\n",
    "        f = f * i               # 곱셈 연산으로 수정\n",
    "    return f\n",
    "\n",
    "print(fact(1))  # 1! = 1\n",
    "print(fact(5))  # 5! = 120\n",
    "print(fact(10)) # 10! = 3628800\n",
    "\n",
    "# n번의 곱셈이 필요함"
   ]
  },
  {
   "cell_type": "code",
   "execution_count": 3,
   "metadata": {},
   "outputs": [
    {
     "name": "stdout",
     "output_type": "stream",
     "text": [
      "1\n",
      "120\n",
      "3628800\n"
     ]
    }
   ],
   "source": [
    "# 제귀호출 코드\n",
    "def fact(n):\n",
    "    if n <= 1:  # 종료 조건(종료 조건이 없으면 메모리 부족 에러 발생)\n",
    "        return 1\n",
    "    return n * fact(n - 1)\n",
    "\n",
    "print(fact(1))  # 1! = 1\n",
    "print(fact(5))  # 5! = 120\n",
    "print(fact(10)) # 10! = 3628800"
   ]
  },
  {
   "cell_type": "code",
   "execution_count": 4,
   "metadata": {},
   "outputs": [
    {
     "name": "stdout",
     "output_type": "stream",
     "text": [
      "55\n",
      "5050\n"
     ]
    }
   ],
   "source": [
    "# 1~n의 합 계산을 제귀호출로 처리\n",
    "# 연속한 숫자의 합을 구하는 알고리즘\n",
    "# 입력: n\n",
    "# 출력: 1부터 n까지 연속한 숫자를 더한 합\n",
    "\n",
    "def sum_n(n):\n",
    "    if n == 0:\n",
    "        return 0\n",
    "    return sum_n(n - 1) + n\n",
    "\n",
    "print(sum_n(10))    # 1부터 10까지의 합(입력:10, 출력:55)\n",
    "print(sum_n(100))   # 1부터 100까지의 합(입력:100, 출력:5050)"
   ]
  }
 ],
 "metadata": {
  "kernelspec": {
   "display_name": "base",
   "language": "python",
   "name": "python3"
  },
  "language_info": {
   "codemirror_mode": {
    "name": "ipython",
    "version": 3
   },
   "file_extension": ".py",
   "mimetype": "text/x-python",
   "name": "python",
   "nbconvert_exporter": "python",
   "pygments_lexer": "ipython3",
   "version": "3.9.13"
  },
  "orig_nbformat": 4,
  "vscode": {
   "interpreter": {
    "hash": "ff4f85d6e04298634172ac5d8264e7e9b556b95639fe52ebb9425c4d4cba0c9c"
   }
  }
 },
 "nbformat": 4,
 "nbformat_minor": 2
}
