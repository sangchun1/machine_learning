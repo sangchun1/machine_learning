{
 "cells": [
  {
   "cell_type": "code",
   "execution_count": 1,
   "metadata": {},
   "outputs": [
    {
     "name": "stdout",
     "output_type": "stream",
     "text": [
      "55\n",
      "5050\n"
     ]
    }
   ],
   "source": [
    "# 입력: n\n",
    "# 출력: 1부터 n까지 연속한 숫자의 합계\n",
    "\n",
    "def mysum(n):\n",
    "    s = 0\n",
    "    for i in range(1, n + 1):\n",
    "        s = s + i\n",
    "    return s\n",
    "\n",
    "print(mysum(10))    # 1부터 10까지의 합(입력:10, 출력:55)\n",
    "print(mysum(100))   # 1부터 100까지의 합(입력:100, 출력:5050)"
   ]
  },
  {
   "cell_type": "code",
   "execution_count": 2,
   "metadata": {},
   "outputs": [
    {
     "name": "stdout",
     "output_type": "stream",
     "text": [
      "55\n",
      "5050\n"
     ]
    }
   ],
   "source": [
    "# 가우스의 방법\n",
    "# 입력: n\n",
    "# 출력: 1부터 n까지의 숫자를 더한 값\n",
    "\n",
    "def sum_n(n):\n",
    "    return n * (n + 1) // 2 # 정수몫\n",
    "\n",
    "print(sum_n(10))    # 1부터 10까지의 합(입력:10, 출력:55)\n",
    "print(sum_n(100))   # 1부터 100까지의 합(입력:100, 출력:5050)"
   ]
  },
  {
   "cell_type": "code",
   "execution_count": null,
   "metadata": {},
   "outputs": [],
   "source": [
    "# 계산횟수 비교\n",
    "# 첫번째 방법 : 덧셈 n회\n",
    "# 두번째 방법 : 덧셈, 곱셈, 나눗셈, 각 1회 (총 3회)"
   ]
  }
 ],
 "metadata": {
  "kernelspec": {
   "display_name": "base",
   "language": "python",
   "name": "python3"
  },
  "language_info": {
   "codemirror_mode": {
    "name": "ipython",
    "version": 3
   },
   "file_extension": ".py",
   "mimetype": "text/x-python",
   "name": "python",
   "nbconvert_exporter": "python",
   "pygments_lexer": "ipython3",
   "version": "3.9.13"
  },
  "orig_nbformat": 4,
  "vscode": {
   "interpreter": {
    "hash": "ff4f85d6e04298634172ac5d8264e7e9b556b95639fe52ebb9425c4d4cba0c9c"
   }
  }
 },
 "nbformat": 4,
 "nbformat_minor": 2
}
