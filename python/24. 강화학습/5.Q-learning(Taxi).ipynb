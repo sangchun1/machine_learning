{
 "cells": [
  {
   "cell_type": "code",
   "execution_count": null,
   "metadata": {},
   "outputs": [],
   "source": [
    "#올바른 위치에서 택시 승객을 태우고 내리는 문제\n",
    "import gym\n",
    "env = gym.make(\"Taxi-v3\").env\n",
    "env.render()"
   ]
  },
  {
   "cell_type": "code",
   "execution_count": null,
   "metadata": {},
   "outputs": [],
   "source": [
    "#환경 초기화\n",
    "env.reset()\n",
    "env.render()\n",
    "# 각 칸에서의 경우의 수 : 6가지 status: south(0), north(1), east(2), west(3), pickup(4), dropoff(5)\n",
    "print(\"Action Space : {}\".format(env.action_space))\n",
    "#전체 경우의 수\n",
    "print(\"State Space : {}\".format(env.observation_space))"
   ]
  },
  {
   "cell_type": "code",
   "execution_count": null,
   "metadata": {},
   "outputs": [],
   "source": [
    "# (taxi row, taxi column, passenger index, destination index)\n",
    "# (택시의 행, 택시의 열, 승객위치, 목적지)\n",
    "# R(0), G(1), Y(2), B(3)\n",
    "state = env.encode(3, 1, 2, 3)\n",
    "print(\"State:\", state)\n",
    "env.s = state\n",
    "env.render()\n",
    "# 벽에 부딪히면 -1 패널티 부여\n",
    "# 승객이 없을 때는 노란색, 승객이 있을 때는 녹색\n",
    "# R,G,Y,B : 가능한 픽업 및 목적지 위치\n",
    "# 파란색 : 승객 픽업 장소\n",
    "# 보라색 : 현재 목적지"
   ]
  },
  {
   "cell_type": "code",
   "execution_count": null,
   "metadata": {},
   "outputs": [],
   "source": [
    "# env.P 초기 보상 테이블\n",
    "env.P[328]\n",
    "#이동할 때마다 -1, 승객승하차 -10"
   ]
  },
  {
   "cell_type": "code",
   "execution_count": null,
   "metadata": {},
   "outputs": [],
   "source": [
    "#무작위 방식으로 처리\n",
    "# 초기 상태 설정\n",
    "env.s = 328\n",
    "epochs = 0\n",
    "penalties, reward = 0, 0\n",
    "# 애니메이션 관련 정보를 저장하는 리스트\n",
    "frames = []\n",
    "done = False\n",
    "while not done:\n",
    "    action = env.action_space.sample()\n",
    "    state, reward, done, info = env.step(action)\n",
    "    # 보상이 -10이면 패널티 1 부여\n",
    "    if reward == -10:\n",
    "        penalties += 1\n",
    "\n",
    "    # 애니메이션을 위하여 정보 기록\n",
    "    frames.append({\n",
    "        'frame': env.render(mode='ansi'),\n",
    "        'state': state,\n",
    "        'action': action,\n",
    "        'reward': reward\n",
    "        }\n",
    "    )\n",
    "    epochs += 1\n",
    "\n",
    "print(\"Timesteps taken: {}\".format(epochs))\n",
    "print(\"Penalties incurred: {}\".format(penalties))"
   ]
  },
  {
   "cell_type": "code",
   "execution_count": null,
   "metadata": {},
   "outputs": [],
   "source": [
    "from IPython.display import clear_output\n",
    "from time import sleep\n",
    "def print_frames(frames):\n",
    "    for i, frame in enumerate(frames):\n",
    "        clear_output(wait=True)\n",
    "        print(frame['frame'])\n",
    "        print(f\"Timestep: {i + 1}\")\n",
    "        print(f\"State: {frame['state']}\")\n",
    "        print(f\"Action: {frame['action']}\")\n",
    "        print(f\"Reward: {frame['reward']}\")\n",
    "        sleep(.1)\n",
    "        \n",
    "print_frames(frames)"
   ]
  },
  {
   "cell_type": "code",
   "execution_count": null,
   "metadata": {},
   "outputs": [],
   "source": [
    "#강화학습으로 구현\n",
    "import numpy as np\n",
    "#q 테이블 초기화\n",
    "q_table = np.zeros([env.observation_space.n, env.action_space.n])"
   ]
  },
  {
   "cell_type": "code",
   "execution_count": null,
   "metadata": {},
   "outputs": [],
   "source": [
    "%%time\n",
    "import random\n",
    "from IPython.display import clear_output\n",
    "# 하이퍼 파라미터\n",
    "alpha = 0.1 # 학습률\n",
    "gamma = 0.6 # 할인율\n",
    "epsilon = 0.1\n",
    "# 그래프 출력을 위한 리스트\n",
    "all_epochs = []\n",
    "all_penalties = []\n",
    "for i in range(1, 100001):\n",
    "    state = env.reset()\n",
    "    epochs, penalties, reward = 0, 0, 0\n",
    "    done = False\n",
    "    while not done:\n",
    "        if random.uniform(0, 1) < epsilon:\n",
    "            #랜덤값이 0.1 미만이면 새로운 경로 탐색\n",
    "            action = env.action_space.sample()\n",
    "        else: #그렇지 않으면 기존에 학습된 경로 선택\n",
    "            #학습된 q 테이블의 값 중 최대값\n",
    "            action = np.argmax(q_table[state])\n",
    "        next_state, reward, done, info = env.step(action)\n",
    "        old_value = q_table[state, action]\n",
    "        next_max = np.max(q_table[next_state])\n",
    "        \n",
    "        new_value = (1 - alpha) * old_value + alpha * (reward + gamma * next_max)\n",
    "        q_table[state, action] = new_value\n",
    "        if reward == -10:\n",
    "        penalties += 1\n",
    "        state = next_state\n",
    "        epochs += 1\n",
    "\n",
    "    if i % 100 == 0:\n",
    "        clear_output(wait=True)\n",
    "        print(f\"Episode: {i}\")\n",
    "print(\"Training finished.\\n\")"
   ]
  },
  {
   "cell_type": "code",
   "execution_count": null,
   "metadata": {},
   "outputs": [],
   "source": [
    "q_table[328]"
   ]
  },
  {
   "cell_type": "code",
   "execution_count": null,
   "metadata": {},
   "outputs": [],
   "source": [
    "# Q-learning 종료 후의 성능 측정\n",
    "total_epochs, total_penalties = 0, 0\n",
    "episodes = 100\n",
    "# 애니메이션을 위한 프레임 리스트\n",
    "frames = []\n",
    "for _ in range(episodes):\n",
    "    state = env.reset()\n",
    "    epochs, penalties, reward = 0, 0, 0\n",
    "    done = False\n",
    "    while not done:\n",
    "        action = np.argmax(q_table[state])\n",
    "        state, reward, done, info = env.step(action)\n",
    "        if reward == -10:\n",
    "            penalties += 1\n",
    "        # 애니메이션을 위한 정보 기록\n",
    "        frames.append({\n",
    "            'frame': env.render(mode='ansi'),\n",
    "            'state': state,\n",
    "            'action': action,\n",
    "            'reward': reward\n",
    "            }\n",
    "        )\n",
    "        epochs += 1\n",
    "    total_penalties += penalties\n",
    "    total_epochs += epochs\n",
    "print(f\"Results after {episodes} episodes:\")\n",
    "print(f\"에피소드당 평균 시간 간격: {total_epochs / episodes}\")\n",
    "print(f\"에피소드당 평균 패널티: {total_penalties / episodes}\")"
   ]
  },
  {
   "cell_type": "code",
   "execution_count": null,
   "metadata": {},
   "outputs": [],
   "source": [
    "print_frames(frames)"
   ]
  }
 ],
 "metadata": {
  "kernelspec": {
   "display_name": "base",
   "language": "python",
   "name": "python3"
  },
  "language_info": {
   "codemirror_mode": {
    "name": "ipython",
    "version": 3
   },
   "file_extension": ".py",
   "mimetype": "text/x-python",
   "name": "python",
   "nbconvert_exporter": "python",
   "pygments_lexer": "ipython3",
   "version": "3.9.13"
  },
  "orig_nbformat": 4,
  "vscode": {
   "interpreter": {
    "hash": "ff4f85d6e04298634172ac5d8264e7e9b556b95639fe52ebb9425c4d4cba0c9c"
   }
  }
 },
 "nbformat": 4,
 "nbformat_minor": 2
}
