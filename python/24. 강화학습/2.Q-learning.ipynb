{
 "cells": [
  {
   "cell_type": "code",
   "execution_count": 1,
   "metadata": {},
   "outputs": [],
   "source": [
    "# Q러닝 방법\n",
    "# 특정 상황에서 특정한 행동을 할 때 최적의 Policy를 학습하는 방법\n",
    "# Q: 현재 상태에서 취한 행동의 보상에 대한 quality\n",
    "import gym\n",
    "import numpy as np\n",
    "# 환경 생성\n",
    "env = gym.make('FrozenLake-v1')"
   ]
  },
  {
   "cell_type": "code",
   "execution_count": 2,
   "metadata": {},
   "outputs": [
    {
     "data": {
      "text/plain": [
       "array([[0., 0., 0., 0.],\n",
       "       [0., 0., 0., 0.],\n",
       "       [0., 0., 0., 0.],\n",
       "       [0., 0., 0., 0.],\n",
       "       [0., 0., 0., 0.],\n",
       "       [0., 0., 0., 0.],\n",
       "       [0., 0., 0., 0.],\n",
       "       [0., 0., 0., 0.],\n",
       "       [0., 0., 0., 0.],\n",
       "       [0., 0., 0., 0.],\n",
       "       [0., 0., 0., 0.],\n",
       "       [0., 0., 0., 0.],\n",
       "       [0., 0., 0., 0.],\n",
       "       [0., 0., 0., 0.],\n",
       "       [0., 0., 0., 0.],\n",
       "       [0., 0., 0., 0.]])"
      ]
     },
     "execution_count": 2,
     "metadata": {},
     "output_type": "execute_result"
    }
   ],
   "source": [
    "# Q값을 저장할 테이블을 초기화\n",
    "# rows: cell의 수\n",
    "# cols: 이동할 수 있는 방향의 수\n",
    "q_func = np.zeros((16, 4))\n",
    "q_func"
   ]
  },
  {
   "cell_type": "code",
   "execution_count": null,
   "metadata": {},
   "outputs": [],
   "source": [
    "# 총 보상\n",
    "total_reward = 0.0\n",
    "# 게임 시작\n",
    "for i_episode in range(10000):\n",
    "    # 초기화\n",
    "    observation = env.reset()\n",
    "    # 현재 게임의 보상\n",
    "    episode_reward = 0.0\n",
    "\n",
    "    for t in range(100):\n",
    "        # 1턴 실행 후의 위치를 현재 위치로 설정\n",
    "        current_state = observation\n",
    "        #랜덤값이 0.1 미만이면\n",
    "        if np.random.rand() < 0.1:\n",
    "            # 무작위로 행동을 선택함\n",
    "            action = env.action_space.sample()\n",
    "        else:\n",
    "            # Q값이 최대가 되는 행동을 선택함\n",
    "            action = np.argmax(q_func[current_state])\n",
    "    # 1턴 실행\n",
    "    # observatoin: 에이전트의 위치, reward : 행동의 결과로 받은 보상, done: 게임 종료 여부,\n",
    "    # info: 행동을 취할 확률\n",
    "    observation, reward, done, info = env.step(action)\n",
    "    \n",
    "    # Q값 업데이트(학습률 0.3, 할인율 0.99)\n",
    "    # 할인율을 곱하고 보상을 더한 값으로 Q를 업데이트\n",
    "    q_func[current_state,action] += 0.3 * (reward + 0.99 * np.max(q_func[observation,:]) - q_func[current_state,action])\n",
    "    # 종료\n",
    "    if done:\n",
    "        # 현재 게임 보상 누적 계산\n",
    "        episode_reward += reward\n",
    "\n",
    "# 총 보상 누적 계산\n",
    "total_reward += episode_reward"
   ]
  },
  {
   "cell_type": "code",
   "execution_count": null,
   "metadata": {},
   "outputs": [],
   "source": [
    "# 총 보상 출력\n",
    "print(total_reward)\n",
    "# 게임당 평균 보상 출력\n",
    "print(total_reward/10000)"
   ]
  },
  {
   "cell_type": "code",
   "execution_count": null,
   "metadata": {},
   "outputs": [],
   "source": [
    "# 학습된 Q값을 출력\n",
    "q_func"
   ]
  },
  {
   "cell_type": "code",
   "execution_count": null,
   "metadata": {},
   "outputs": [],
   "source": [
    "#학습된 Q값을 사용하여 게임 진행\n",
    "# 총 보상\n",
    "total_reward = 0.0\n",
    "# 게임 시작\n",
    "for i_episode in range(1000):\n",
    "\n",
    "    # 초기화\n",
    "    observation = env.reset()\n",
    "    # 현재 게임의 보상\n",
    "    episode_reward = 0.0\n",
    "\n",
    "    for t in range(100):\n",
    "        # 1턴 실행 후의 위치를 현재 위치로 삼음\n",
    "        current_state = observation\n",
    "\n",
    "        # Q값이 최대가 되는 행동을 선택함\n",
    "        action = np.argmax(q_func[current_state])\n",
    "\n",
    "        # 1턴 실행\n",
    "        observation, reward, done, info = env.step(action)\n",
    "        \n",
    "        # 종료\n",
    "        if done:\n",
    "            # 현재 게임 보상 누적 계산\n",
    "            episode_reward += reward\n",
    "\n",
    "# 총 보상 누적 계산\n",
    "total_reward += episode_reward"
   ]
  },
  {
   "cell_type": "code",
   "execution_count": null,
   "metadata": {},
   "outputs": [],
   "source": [
    "# 총 보상 출력\n",
    "print(total_reward)\n",
    "# 게임당 평균 보상 출력\n",
    "print(total_reward/1000)"
   ]
  }
 ],
 "metadata": {
  "kernelspec": {
   "display_name": "base",
   "language": "python",
   "name": "python3"
  },
  "language_info": {
   "codemirror_mode": {
    "name": "ipython",
    "version": 3
   },
   "file_extension": ".py",
   "mimetype": "text/x-python",
   "name": "python",
   "nbconvert_exporter": "python",
   "pygments_lexer": "ipython3",
   "version": "3.9.13"
  },
  "orig_nbformat": 4,
  "vscode": {
   "interpreter": {
    "hash": "ff4f85d6e04298634172ac5d8264e7e9b556b95639fe52ebb9425c4d4cba0c9c"
   }
  }
 },
 "nbformat": 4,
 "nbformat_minor": 2
}
