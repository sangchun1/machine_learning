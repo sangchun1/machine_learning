{
 "cells": [
  {
   "cell_type": "code",
   "execution_count": 1,
   "metadata": {},
   "outputs": [],
   "source": [
    "# Q러닝 방법\n",
    "# 특정 상황에서 특정한 행동을 할 때 최적의 Policy를 학습하는 방법\n",
    "# Q: 현재 상태에서 취한 행동의 보상에 대한 quality\n",
    "import gym\n",
    "import numpy as np\n",
    "\n",
    "# 환경 생성\n",
    "env = gym.make('FrozenLake-v1')"
   ]
  },
  {
   "cell_type": "code",
   "execution_count": 2,
   "metadata": {},
   "outputs": [
    {
     "data": {
      "text/plain": [
       "array([[0., 0., 0., 0.],\n",
       "       [0., 0., 0., 0.],\n",
       "       [0., 0., 0., 0.],\n",
       "       [0., 0., 0., 0.],\n",
       "       [0., 0., 0., 0.],\n",
       "       [0., 0., 0., 0.],\n",
       "       [0., 0., 0., 0.],\n",
       "       [0., 0., 0., 0.],\n",
       "       [0., 0., 0., 0.],\n",
       "       [0., 0., 0., 0.],\n",
       "       [0., 0., 0., 0.],\n",
       "       [0., 0., 0., 0.],\n",
       "       [0., 0., 0., 0.],\n",
       "       [0., 0., 0., 0.],\n",
       "       [0., 0., 0., 0.],\n",
       "       [0., 0., 0., 0.]])"
      ]
     },
     "execution_count": 2,
     "metadata": {},
     "output_type": "execute_result"
    }
   ],
   "source": [
    "# Q값을 저장할 테이블을 초기화\n",
    "# rows: cell의 수\n",
    "# cols: 이동할 수 있는 방향의 수 \n",
    "q_func = np.zeros((16, 4))\n",
    "q_func"
   ]
  },
  {
   "cell_type": "code",
   "execution_count": 3,
   "metadata": {},
   "outputs": [],
   "source": [
    "# 총 보상\n",
    "total_reward = 0.0\n",
    "\n",
    "# 게임 시작\n",
    "for i_episode in range(10000):\n",
    "    # 초기화\n",
    "    observation = env.reset()\n",
    "    # 현재 게임의 보상\n",
    "    episode_reward = 0.0\n",
    "    \n",
    "    for t in range(100):\n",
    "        # 1턴 실행 후의 위치를 현재 위치로 설정\n",
    "        current_state = observation\n",
    "        \n",
    "\n",
    "        #랜덤값이 0.1 미만이면\n",
    "        if np.random.rand() < 0.1:\n",
    "            # 무작위로 행동을 선택함\n",
    "            action = env.action_space.sample()\n",
    "        else:\n",
    "            # Q값이 최대가 되는 행동을 선택함\n",
    "            action = np.argmax(q_func[current_state])\n",
    "\n",
    "        # 1턴 실행\n",
    "        # observatoin: 에이전트의 위치, reward : 행동의 결과로 받은 보상, done: 게임 종료 여부, \n",
    "        # info: 행동을 취할 확률\n",
    "        observation, reward, done, info = env.step(action)\n",
    "        \n",
    "        # Q값 업데이트(학습률 0.3, 할인율 0.99)\n",
    "        # 할인율을 곱하고 보상을 더한 값으로 Q를 업데이트 \n",
    "        q_func[current_state,action] += 0.3 * (reward + 0.99 * np.max(q_func[observation,:]) - q_func[current_state,action])\n",
    "\n",
    "        # 종료\n",
    "        if done:\n",
    "            # 현재 게임 보상 누적 계산\n",
    "            episode_reward += reward\n",
    "            \n",
    "    # 총 보상 누적 계산\n",
    "    total_reward += episode_reward"
   ]
  },
  {
   "cell_type": "code",
   "execution_count": 4,
   "metadata": {},
   "outputs": [
    {
     "name": "stdout",
     "output_type": "stream",
     "text": [
      "3015.0\n",
      "0.3015\n"
     ]
    }
   ],
   "source": [
    "# 총 보상 출력\n",
    "print(total_reward)\n",
    "\n",
    "# 게임당 평균 보상 출력\n",
    "print(total_reward/10000)"
   ]
  },
  {
   "cell_type": "code",
   "execution_count": 5,
   "metadata": {},
   "outputs": [
    {
     "data": {
      "text/plain": [
       "array([[0.49552752, 0.49504907, 0.49183136, 0.49643146],\n",
       "       [0.40514379, 0.04058173, 0.22658013, 0.473968  ],\n",
       "       [0.45796571, 0.43742885, 0.41740793, 0.45520184],\n",
       "       [0.28373231, 0.358263  , 0.43932926, 0.45170815],\n",
       "       [0.50455383, 0.41603519, 0.30411052, 0.4399667 ],\n",
       "       [0.        , 0.        , 0.        , 0.        ],\n",
       "       [0.27628865, 0.02860881, 0.27644053, 0.04201858],\n",
       "       [0.        , 0.        , 0.        , 0.        ],\n",
       "       [0.45367406, 0.41397381, 0.4152076 , 0.5576419 ],\n",
       "       [0.58098387, 0.60274755, 0.3087146 , 0.5299825 ],\n",
       "       [0.62353334, 0.43750522, 0.28892765, 0.29001513],\n",
       "       [0.        , 0.        , 0.        , 0.        ],\n",
       "       [0.        , 0.        , 0.        , 0.        ],\n",
       "       [0.53814744, 0.64303676, 0.7373972 , 0.6165718 ],\n",
       "       [0.73247837, 0.91062046, 0.76548565, 0.80908862],\n",
       "       [0.        , 0.        , 0.        , 0.        ]])"
      ]
     },
     "execution_count": 5,
     "metadata": {},
     "output_type": "execute_result"
    }
   ],
   "source": [
    "# 학습된 Q값을 출력\n",
    "q_func"
   ]
  },
  {
   "cell_type": "code",
   "execution_count": 6,
   "metadata": {},
   "outputs": [],
   "source": [
    "#학습된 Q값을 사용하여 게임 진행\n",
    "\n",
    "# 총 보상\n",
    "total_reward = 0.0\n",
    "frames=[]\n",
    "# 게임 시작\n",
    "for i_episode in range(1000):\n",
    "    \n",
    "    # 초기화\n",
    "    observation = env.reset()\n",
    "    # 현재 게임의 보상\n",
    "    episode_reward = 0.0\n",
    "    \n",
    "    for t in range(100):\n",
    "        # 1턴 실행 후의 위치를 현재 위치로 삼음\n",
    "        current_state = observation\n",
    "        \n",
    "        # Q값이 최대가 되는 행동을 선택함\n",
    "        action = np.argmax(q_func[current_state])\n",
    "        \n",
    "        # 1턴 실행\n",
    "        observation, reward, done, info = env.step(action)\n",
    "        # 애니메이션을 위하여 정보 기록\n",
    "        frames.append({\n",
    "            'frame': env.render(mode='ansi'),\n",
    "            'state': observation,\n",
    "            'action': action,\n",
    "            'reward': reward\n",
    "            }\n",
    "        )   \n",
    "        # 종료\n",
    "        if done:\n",
    "            # 현재 게임 보상 누적 계산\n",
    "            episode_reward += reward\n",
    "    \n",
    "    # 총 보상 누적 계산\n",
    "    total_reward += episode_reward"
   ]
  },
  {
   "cell_type": "code",
   "execution_count": 7,
   "metadata": {},
   "outputs": [
    {
     "name": "stdout",
     "output_type": "stream",
     "text": [
      "298.0\n",
      "0.298\n"
     ]
    }
   ],
   "source": [
    "# 총 보상 출력\n",
    "print(total_reward)\n",
    "\n",
    "# 게임당 평균 보상 출력\n",
    "print(total_reward/1000)"
   ]
  },
  {
   "cell_type": "code",
   "execution_count": 8,
   "metadata": {},
   "outputs": [
    {
     "name": "stdout",
     "output_type": "stream",
     "text": [
      "  (Left)\n",
      "SFFF\n",
      "FHFH\n",
      "FFFH\n",
      "HFF\u001b[41mG\u001b[0m\n",
      "\n",
      "Timestep: 4198\n",
      "State: 15\n",
      "Action: 0\n",
      "Reward: 0\n"
     ]
    }
   ],
   "source": [
    "from IPython.display import clear_output\n",
    "from time import sleep\n",
    "\n",
    "def print_frames(frames):\n",
    "    for i, frame in enumerate(frames):\n",
    "        clear_output(wait=True)\n",
    "        print(frame['frame'])\n",
    "        print(f\"Timestep: {i + 1}\")\n",
    "        print(f\"State: {frame['state']}\")\n",
    "        print(f\"Action: {frame['action']}\")\n",
    "        print(f\"Reward: {frame['reward']}\")\n",
    "        sleep(.1)\n",
    "        \n",
    "print_frames(frames)"
   ]
  }
 ],
 "metadata": {
  "kernelspec": {
   "display_name": "base",
   "language": "python",
   "name": "python3"
  },
  "language_info": {
   "codemirror_mode": {
    "name": "ipython",
    "version": 3
   },
   "file_extension": ".py",
   "mimetype": "text/x-python",
   "name": "python",
   "nbconvert_exporter": "python",
   "pygments_lexer": "ipython3",
   "version": "3.9.13"
  },
  "orig_nbformat": 4
 },
 "nbformat": 4,
 "nbformat_minor": 2
}
