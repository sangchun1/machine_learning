{
 "cells": [
  {
   "cell_type": "code",
   "execution_count": 1,
   "metadata": {},
   "outputs": [],
   "source": [
    "%matplotlib inline\n",
    "import warnings\n",
    "from matplotlib import font_manager, rc\n",
    "\n",
    "# 경고메세지 끄기\n",
    "warnings.filterwarnings(action='ignore')\n",
    "\n",
    "# 한글 처리를 위해 폰트 설정\n",
    "font_name = font_manager.FontProperties(fname=\"c:/Windows/Fonts/malgun.ttf\").get_name()\n",
    "rc('font', family=font_name)"
   ]
  },
  {
   "cell_type": "code",
   "execution_count": 2,
   "metadata": {},
   "outputs": [],
   "source": [
    "from sklearn.datasets import load_boston\n",
    "import pandas as pd\n",
    "import numpy as np\n",
    "\n",
    "boston = load_boston()\n",
    "dfX = pd.DataFrame(boston.data, columns=boston.feature_names)\n",
    "dfy = pd.DataFrame(boston.target, columns=[\"MEDV\"])\n",
    "df = pd.concat([dfX, dfy], axis=1)\n",
    "# 학습용과 검증용을 7:3으로 구분\n",
    "N = len(df)\n",
    "ratio = 0.7\n",
    "np.random.seed(0)\n",
    "idx_train = np.random.choice(np.arange(N), np.int64(ratio * N), replace=False)\n",
    "idx_test = list(set(np.arange(N)).difference(idx_train))\n",
    "\n",
    "df_train = df.iloc[idx_train]\n",
    "df_test = df.iloc[idx_test]"
   ]
  },
  {
   "cell_type": "code",
   "execution_count": 3,
   "metadata": {},
   "outputs": [
    {
     "name": "stdout",
     "output_type": "stream",
     "text": [
      "                            OLS Regression Results                            \n",
      "==============================================================================\n",
      "Dep. Variable:                   MEDV   R-squared:                       0.728\n",
      "Model:                            OLS   Adj. R-squared:                  0.718\n",
      "Method:                 Least Squares   F-statistic:                     70.06\n",
      "Date:                Thu, 09 Mar 2023   Prob (F-statistic):           8.57e-88\n",
      "Time:                        10:59:14   Log-Likelihood:                -1043.0\n",
      "No. Observations:                 354   AIC:                             2114.\n",
      "Df Residuals:                     340   BIC:                             2168.\n",
      "Df Model:                          13                                         \n",
      "Covariance Type:            nonrobust                                         \n",
      "==============================================================================\n",
      "                 coef    std err          t      P>|t|      [0.025      0.975]\n",
      "------------------------------------------------------------------------------\n",
      "Intercept     35.0719      5.932      5.913      0.000      23.404      46.739\n",
      "CRIM          -0.1005      0.035     -2.869      0.004      -0.169      -0.032\n",
      "ZN             0.0381      0.017      2.248      0.025       0.005       0.071\n",
      "INDUS          0.0202      0.072      0.281      0.779      -0.121       0.162\n",
      "CHAS           1.1498      1.020      1.127      0.260      -0.856       3.156\n",
      "NOX          -17.3942      4.522     -3.847      0.000     -26.288      -8.500\n",
      "RM             3.8640      0.485      7.959      0.000       2.909       4.819\n",
      "AGE            0.0004      0.016      0.023      0.982      -0.030       0.031\n",
      "DIS           -1.3285      0.236     -5.626      0.000      -1.793      -0.864\n",
      "RAD            0.3741      0.084      4.447      0.000       0.209       0.540\n",
      "TAX           -0.0160      0.005     -3.315      0.001      -0.025      -0.007\n",
      "PTRATIO       -0.8989      0.153     -5.885      0.000      -1.199      -0.598\n",
      "B              0.0095      0.003      3.015      0.003       0.003       0.016\n",
      "LSTAT         -0.5013      0.060     -8.423      0.000      -0.618      -0.384\n",
      "==============================================================================\n",
      "Omnibus:                      136.641   Durbin-Watson:                   1.998\n",
      "Prob(Omnibus):                  0.000   Jarque-Bera (JB):              602.833\n",
      "Skew:                           1.618   Prob(JB):                    1.25e-131\n",
      "Kurtosis:                       8.513   Cond. No.                     1.47e+04\n",
      "==============================================================================\n",
      "\n",
      "Notes:\n",
      "[1] Standard Errors assume that the covariance matrix of the errors is correctly specified.\n",
      "[2] The condition number is large, 1.47e+04. This might indicate that there are\n",
      "strong multicollinearity or other numerical problems.\n"
     ]
    }
   ],
   "source": [
    "import statsmodels.api as sm\n",
    "\n",
    "model = sm.OLS.from_formula(\"MEDV ~ \" + \"+\".join(boston.feature_names), data=df_train)\n",
    "result = model.fit()\n",
    "print(result.summary())"
   ]
  },
  {
   "cell_type": "code",
   "execution_count": 4,
   "metadata": {},
   "outputs": [
    {
     "data": {
      "text/plain": [
       "0.7519796502601109"
      ]
     },
     "execution_count": 4,
     "metadata": {},
     "output_type": "execute_result"
    }
   ],
   "source": [
    "# 검증용 데이터셋으로 모형 평가\n",
    "pred = result.predict(df_test)\n",
    "# Residual Sum of Square(잔차의 분산, 오차의 크기)\n",
    "rss = ((df_test.MEDV - pred) ** 2).sum()\n",
    "# Total Sum of Square(종속변수 y의 분산)\n",
    "tss = ((df_test.MEDV - df_test.MEDV.mean()) ** 2).sum()\n",
    "# 결정계수 : 모형의 설명력(0~1 사이의 값)\n",
    "rsquared = 1 - rss / tss\n",
    "rsquared"
   ]
  },
  {
   "cell_type": "code",
   "execution_count": 5,
   "metadata": {},
   "outputs": [
    {
     "data": {
      "text/plain": [
       "((354, 14), (152, 14))"
      ]
     },
     "execution_count": 5,
     "metadata": {},
     "output_type": "execute_result"
    }
   ],
   "source": [
    "from sklearn.model_selection import train_test_split\n",
    "\n",
    "# 학습용, 검증용으로 구분\n",
    "df_train, df_test =  train_test_split(df, test_size=0.3, random_state=0)\n",
    "df_train.shape, df_test.shape"
   ]
  },
  {
   "cell_type": "code",
   "execution_count": 6,
   "metadata": {},
   "outputs": [
    {
     "data": {
      "text/plain": [
       "((354, 13), (354, 1), (152, 13), (152, 1))"
      ]
     },
     "execution_count": 6,
     "metadata": {},
     "output_type": "execute_result"
    }
   ],
   "source": [
    "# 학습용X,y 검증용 X,y로 구분\n",
    "dfX_train, dfX_test, dfy_train, dfy_test = train_test_split(dfX, dfy, test_size=0.3, random_state=0)\n",
    "dfX_train.shape, dfy_train.shape, dfX_test.shape, dfy_test.shape"
   ]
  },
  {
   "cell_type": "code",
   "execution_count": 7,
   "metadata": {},
   "outputs": [
    {
     "name": "stdout",
     "output_type": "stream",
     "text": [
      "학습용 R2 = 0.773, 검증용 R2 = 0.589\n",
      "학습용 R2 = 0.729, 검증용 R2 = 0.778\n",
      "학습용 R2 = 0.749, 검증용 R2 = 0.668\n",
      "학습용 R2 = 0.757, 검증용 R2 = 0.668\n",
      "학습용 R2 = 0.705, 검증용 R2 = 0.840\n"
     ]
    }
   ],
   "source": [
    "from sklearn.model_selection import KFold\n",
    "\n",
    "scores = np.zeros(5)\n",
    "cv = KFold(5, shuffle=True, random_state=0)\n",
    "for i, (idx_train, idx_test) in enumerate(cv.split(df)):\n",
    "    df_train = df.iloc[idx_train]\n",
    "    df_test = df.iloc[idx_test]\n",
    "\n",
    "    model = sm.OLS.from_formula(\"MEDV ~ \" + \"+\".join(boston.feature_names), data=df_train)\n",
    "    result = model.fit()\n",
    "\n",
    "    pred = result.predict(df_test)\n",
    "    rss = ((df_test.MEDV - pred) ** 2).sum()\n",
    "    tss = ((df_test.MEDV - df_test.MEDV.mean()) ** 2).sum()\n",
    "    rsquared = 1 - rss / tss\n",
    "\n",
    "    scores[i] = rsquared\n",
    "    print(f\"학습용 R2 = {result.rsquared:.3f}, 검증용 R2 = {rsquared:.3f}\")"
   ]
  },
  {
   "cell_type": "code",
   "execution_count": 8,
   "metadata": {},
   "outputs": [
    {
     "name": "stdout",
     "output_type": "stream",
     "text": [
      "[0.58922238 0.77799144 0.66791979 0.6680163  0.83953317]\n",
      "[33.44898    18.65881615 21.23463289 29.22251557 16.57369039]\n",
      "[3.84290922 3.38979394 3.07473854 3.6463452  3.03058651]\n"
     ]
    }
   ],
   "source": [
    "from sklearn.metrics import r2_score, mean_squared_error, mean_absolute_error\n",
    "\n",
    "scores1 = np.zeros(5)\n",
    "scores2 = np.zeros(5)\n",
    "scores3 = np.zeros(5)\n",
    "cv = KFold(5, shuffle=True, random_state=0)\n",
    "for i, (idx_train, idx_test) in enumerate(cv.split(df)):\n",
    "    df_train = df.iloc[idx_train]\n",
    "    df_test = df.iloc[idx_test]\n",
    "\n",
    "    model = sm.OLS.from_formula(\"MEDV ~ \" + \"+\".join(boston.feature_names), data=df_train)\n",
    "    result = model.fit()\n",
    "\n",
    "    pred = result.predict(df_test)\n",
    "    # 결정계수를 구하는 함수\n",
    "    rsquared = r2_score(df_test.MEDV, pred)\n",
    "    scores1[i] = rsquared\n",
    "    # 평균제곱오차(Mean Squared Error) - 오차의 제곱의 합계의 평균값\n",
    "    mse = mean_squared_error(df_test.MEDV, pred)\n",
    "    scores2[i] = mse\n",
    "    # 평균절대오차(Mean Absolute Error) - 오차의 합계의 평균값\n",
    "    mae = mean_absolute_error(df_test.MEDV, pred)\n",
    "    scores3[i] = mae\n",
    "\n",
    "print(scores1)\n",
    "print(scores2)\n",
    "print(scores3)\n"
   ]
  },
  {
   "cell_type": "code",
   "execution_count": 9,
   "metadata": {},
   "outputs": [],
   "source": [
    "from sklearn.base import BaseEstimator, RegressorMixin\n",
    "import statsmodels.formula.api as smf\n",
    "import statsmodels.api as sm\n",
    "\n",
    "class StatsmodelsOLS(BaseEstimator, RegressorMixin):\n",
    "    def __init__(self, formula):\n",
    "        self.formula = formula\n",
    "        self.model = None\n",
    "        self.data = None\n",
    "        self.result = None\n",
    "    \n",
    "    def fit(self, dfX, dfy):\n",
    "        self.data = pd.concat([dfX, dfy], axis=1)\n",
    "        self.model = smf.ols(self.formula, data=self.data)\n",
    "        self.result = self.model.fit()\n",
    "    \n",
    "    def predict(self, new_data):\n",
    "        return self.result.predict(new_data)"
   ]
  },
  {
   "cell_type": "code",
   "execution_count": 10,
   "metadata": {},
   "outputs": [
    {
     "data": {
      "text/plain": [
       "array([5.78350932, 4.31958518, 4.60810513, 5.40578538, 4.07107976])"
      ]
     },
     "execution_count": 10,
     "metadata": {},
     "output_type": "execute_result"
    }
   ],
   "source": [
    "from sklearn.model_selection import cross_val_score\n",
    "\n",
    "model = StatsmodelsOLS(\"MEDV ~ \" + \"+\".join(boston.feature_names))\n",
    "cv = KFold(5, shuffle=True, random_state=0)\n",
    "cross_val_score(model, dfX, dfy, scoring=\"r2\", cv=cv)\n",
    "\n",
    "# 평균제곱오차로 평가하는 경우\n",
    "result = cross_val_score(model, dfX, dfy, scoring='neg_mean_squared_error', cv=cv)\n",
    "# 음수로 나온 결과값을 양수로 변환\n",
    "rmse_score = np.sqrt(-result)\n",
    "rmse_score"
   ]
  }
 ],
 "metadata": {
  "kernelspec": {
   "display_name": "base",
   "language": "python",
   "name": "python3"
  },
  "language_info": {
   "codemirror_mode": {
    "name": "ipython",
    "version": 3
   },
   "file_extension": ".py",
   "mimetype": "text/x-python",
   "name": "python",
   "nbconvert_exporter": "python",
   "pygments_lexer": "ipython3",
   "version": "3.9.13"
  },
  "orig_nbformat": 4,
  "vscode": {
   "interpreter": {
    "hash": "ff4f85d6e04298634172ac5d8264e7e9b556b95639fe52ebb9425c4d4cba0c9c"
   }
  }
 },
 "nbformat": 4,
 "nbformat_minor": 2
}
