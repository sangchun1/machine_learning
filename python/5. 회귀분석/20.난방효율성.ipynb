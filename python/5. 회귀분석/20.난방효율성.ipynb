{
 "cells": [
  {
   "cell_type": "code",
   "execution_count": null,
   "metadata": {},
   "outputs": [],
   "source": [
    "# 에너지 효율성 데이터셋\n",
    "# 건축 구조의 기본 요소인 건물 표면적, 벽과 지붕 면적, 높이, 사각지대, 건물 외형의 간결성,\n",
    "# 건물의 난방과 냉방 효율의 관계 등을 조사한 데이터\n",
    "# 18가지의 건축 특성을 지닌 12가지의 건축 속성, 총 768채의 주택 조사\n",
    "\n",
    "# X1 : 상대적 크기\n",
    "# X2 : 건축 표면적\n",
    "# X3 : 벽체 면적\n",
    "# X4 : 지붕 면적\n",
    "# X5 : 전체 높이\n",
    "# X6 : 건물의 방위\n",
    "# X7 : 유리창 면적\n",
    "# X8 : 유리창 면적의 분산\n",
    "# Y1 : 난방 하중\n",
    "# Y2 : 냉방 하중"
   ]
  },
  {
   "cell_type": "code",
   "execution_count": 1,
   "metadata": {},
   "outputs": [],
   "source": [
    "import pandas as pd\n",
    "import matplotlib.pyplot as plt\n",
    "import seaborn as sns\n",
    "from scipy import stats"
   ]
  },
  {
   "cell_type": "code",
   "execution_count": 2,
   "metadata": {},
   "outputs": [
    {
     "data": {
      "text/html": [
       "<div>\n",
       "<style scoped>\n",
       "    .dataframe tbody tr th:only-of-type {\n",
       "        vertical-align: middle;\n",
       "    }\n",
       "\n",
       "    .dataframe tbody tr th {\n",
       "        vertical-align: top;\n",
       "    }\n",
       "\n",
       "    .dataframe thead th {\n",
       "        text-align: right;\n",
       "    }\n",
       "</style>\n",
       "<table border=\"1\" class=\"dataframe\">\n",
       "  <thead>\n",
       "    <tr style=\"text-align: right;\">\n",
       "      <th></th>\n",
       "      <th>X1</th>\n",
       "      <th>X2</th>\n",
       "      <th>X3</th>\n",
       "      <th>X4</th>\n",
       "      <th>X5</th>\n",
       "      <th>X6</th>\n",
       "      <th>X7</th>\n",
       "      <th>X8</th>\n",
       "      <th>Y1</th>\n",
       "      <th>Y2</th>\n",
       "    </tr>\n",
       "  </thead>\n",
       "  <tbody>\n",
       "    <tr>\n",
       "      <th>0</th>\n",
       "      <td>0.98</td>\n",
       "      <td>514.5</td>\n",
       "      <td>294.0</td>\n",
       "      <td>110.25</td>\n",
       "      <td>7.0</td>\n",
       "      <td>2</td>\n",
       "      <td>0.0</td>\n",
       "      <td>0</td>\n",
       "      <td>15.55</td>\n",
       "      <td>21.33</td>\n",
       "    </tr>\n",
       "    <tr>\n",
       "      <th>1</th>\n",
       "      <td>0.98</td>\n",
       "      <td>514.5</td>\n",
       "      <td>294.0</td>\n",
       "      <td>110.25</td>\n",
       "      <td>7.0</td>\n",
       "      <td>3</td>\n",
       "      <td>0.0</td>\n",
       "      <td>0</td>\n",
       "      <td>15.55</td>\n",
       "      <td>21.33</td>\n",
       "    </tr>\n",
       "    <tr>\n",
       "      <th>2</th>\n",
       "      <td>0.98</td>\n",
       "      <td>514.5</td>\n",
       "      <td>294.0</td>\n",
       "      <td>110.25</td>\n",
       "      <td>7.0</td>\n",
       "      <td>4</td>\n",
       "      <td>0.0</td>\n",
       "      <td>0</td>\n",
       "      <td>15.55</td>\n",
       "      <td>21.33</td>\n",
       "    </tr>\n",
       "    <tr>\n",
       "      <th>3</th>\n",
       "      <td>0.98</td>\n",
       "      <td>514.5</td>\n",
       "      <td>294.0</td>\n",
       "      <td>110.25</td>\n",
       "      <td>7.0</td>\n",
       "      <td>5</td>\n",
       "      <td>0.0</td>\n",
       "      <td>0</td>\n",
       "      <td>15.55</td>\n",
       "      <td>21.33</td>\n",
       "    </tr>\n",
       "    <tr>\n",
       "      <th>4</th>\n",
       "      <td>0.90</td>\n",
       "      <td>563.5</td>\n",
       "      <td>318.5</td>\n",
       "      <td>122.50</td>\n",
       "      <td>7.0</td>\n",
       "      <td>2</td>\n",
       "      <td>0.0</td>\n",
       "      <td>0</td>\n",
       "      <td>20.84</td>\n",
       "      <td>28.28</td>\n",
       "    </tr>\n",
       "  </tbody>\n",
       "</table>\n",
       "</div>"
      ],
      "text/plain": [
       "     X1     X2     X3      X4   X5  X6   X7  X8     Y1     Y2\n",
       "0  0.98  514.5  294.0  110.25  7.0   2  0.0   0  15.55  21.33\n",
       "1  0.98  514.5  294.0  110.25  7.0   3  0.0   0  15.55  21.33\n",
       "2  0.98  514.5  294.0  110.25  7.0   4  0.0   0  15.55  21.33\n",
       "3  0.98  514.5  294.0  110.25  7.0   5  0.0   0  15.55  21.33\n",
       "4  0.90  563.5  318.5  122.50  7.0   2  0.0   0  20.84  28.28"
      ]
     },
     "execution_count": 2,
     "metadata": {},
     "output_type": "execute_result"
    }
   ],
   "source": [
    "df = pd.read_csv(\"c:/data/energy/ENB2012_data.csv\")\n",
    "df.head()"
   ]
  },
  {
   "cell_type": "code",
   "execution_count": 4,
   "metadata": {},
   "outputs": [
    {
     "name": "stdout",
     "output_type": "stream",
     "text": [
      "Index(['X1', 'X2', 'X3', 'X4', 'X5', 'X6', 'X7', 'X8'], dtype='object')\n",
      "     X1     X2     X3      X4   X5  X6   X7  X8\n",
      "0  0.98  514.5  294.0  110.25  7.0   2  0.0   0\n",
      "1  0.98  514.5  294.0  110.25  7.0   3  0.0   0\n",
      "2  0.98  514.5  294.0  110.25  7.0   4  0.0   0\n",
      "3  0.98  514.5  294.0  110.25  7.0   5  0.0   0\n",
      "4  0.90  563.5  318.5  122.50  7.0   2  0.0   0\n",
      "0    15.55\n",
      "1    15.55\n",
      "2    15.55\n",
      "3    15.55\n",
      "4    20.84\n",
      "Name: Y1, dtype: float64\n"
     ]
    }
   ],
   "source": [
    "train_cols = df.columns[0:8]\n",
    "print(train_cols)\n",
    "X = df[train_cols] # 독립변수\n",
    "y = df[\"Y1\"] # 난방 하중\n",
    "print(df[train_cols].head())\n",
    "print(y.head())"
   ]
  },
  {
   "cell_type": "code",
   "execution_count": 5,
   "metadata": {},
   "outputs": [
    {
     "data": {
      "text/plain": [
       "LinregressResult(slope=59.35902736778322, intercept=-23.05298955938101, rvalue=0.6222721790646625, pvalue=1.5912736997125491e-83, stderr=2.69800874779432, intercept_stderr=2.081361182565229)"
      ]
     },
     "execution_count": 5,
     "metadata": {},
     "output_type": "execute_result"
    }
   ],
   "source": [
    "# 단순회귀분석\n",
    "# 기울기(slope), 절편(intercept), 상관계수(rvalue), p-value(예측 불확실성의 정도를 나타내는 값)\n",
    "# 에러의 표준편차(stderr)\n",
    "# p-value는 0.05 미만일 때 통계적으로 유의함\n",
    "x2 = df[\"X1\"].values\n",
    "y2 = df[\"Y1\"].values\n",
    "result=stats.linregress(x2, y2)\n",
    "result"
   ]
  },
  {
   "cell_type": "code",
   "execution_count": 6,
   "metadata": {},
   "outputs": [
    {
     "data": {
      "text/plain": [
       "Text(0, 0.5, 'Y1')"
      ]
     },
     "execution_count": 6,
     "metadata": {},
     "output_type": "execute_result"
    },
    {
     "data": {
      "image/png": "[encoded data removed]",
      "text/plain": [
       "<Figure size 640x480 with 1 Axes>"
      ]
     },
     "metadata": {},
     "output_type": "display_data"
    }
   ],
   "source": [
    "slope, intercept, r_value, p_value, stderr = stats.linregress(x2, y2)\n",
    "# 산점도 그리기\n",
    "plt.scatter(x2,y2)\n",
    "# 회귀선 그리기\n",
    "plt.plot(x2, slope*x2 +intercept, c=\"red\")\n",
    "plt.xlabel(\"X1\")\n",
    "plt.ylabel(\"Y1\")"
   ]
  },
  {
   "cell_type": "code",
   "execution_count": 7,
   "metadata": {},
   "outputs": [],
   "source": [
    "from sklearn.model_selection import train_test_split\n",
    "X_train, X_test, y_train, y_test = train_test_split(X, y, test_size=0.2, random_state=10)"
   ]
  },
  {
   "cell_type": "code",
   "execution_count": 8,
   "metadata": {},
   "outputs": [
    {
     "name": "stdout",
     "output_type": "stream",
     "text": [
      "회귀계수\n",
      " X1   -21.114384\n",
      "X2    -0.003032\n",
      "X3     0.031192\n",
      "X4    -0.017112\n",
      "X5     5.385563\n",
      "X6    -0.017253\n",
      "X7    20.405945\n",
      "X8     0.213261\n",
      "dtype: float64\n",
      "R-squared\n",
      " 0.9848599675190215\n",
      "P values\n",
      " X1    3.436249e-22\n",
      "X2    4.057924e-02\n",
      "X3    1.997717e-12\n",
      "X4    1.889720e-09\n",
      "X5    1.367608e-73\n",
      "X6    8.760142e-01\n",
      "X7    1.358458e-77\n",
      "X8    9.518520e-03\n",
      "dtype: float64\n",
      "                                 OLS Regression Results                                \n",
      "=======================================================================================\n",
      "Dep. Variable:                     Y1   R-squared (uncentered):                   0.985\n",
      "Model:                            OLS   Adj. R-squared (uncentered):              0.985\n",
      "Method:                 Least Squares   F-statistic:                              5641.\n",
      "Date:                Thu, 09 Mar 2023   Prob (F-statistic):                        0.00\n",
      "Time:                        15:40:02   Log-Likelihood:                         -1550.9\n",
      "No. Observations:                 614   AIC:                                      3116.\n",
      "Df Residuals:                     607   BIC:                                      3147.\n",
      "Df Model:                           7                                                  \n",
      "Covariance Type:            nonrobust                                                  \n",
      "==============================================================================\n",
      "                 coef    std err          t      P>|t|      [0.025      0.975]\n",
      "------------------------------------------------------------------------------\n",
      "X1           -21.1144      2.095    -10.078      0.000     -25.229     -17.000\n",
      "X2            -0.0030      0.001     -2.052      0.041      -0.006      -0.000\n",
      "X3             0.0312      0.004      7.184      0.000       0.023       0.040\n",
      "X4            -0.0171      0.003     -6.100      0.000      -0.023      -0.012\n",
      "X5             5.3856      0.257     20.921      0.000       4.880       5.891\n",
      "X6            -0.0173      0.111     -0.156      0.876      -0.234       0.200\n",
      "X7            20.4059      0.941     21.675      0.000      18.557      22.255\n",
      "X8             0.2133      0.082      2.601      0.010       0.052       0.374\n",
      "==============================================================================\n",
      "Omnibus:                        7.347   Durbin-Watson:                   2.215\n",
      "Prob(Omnibus):                  0.025   Jarque-Bera (JB):               10.621\n",
      "Skew:                          -0.036   Prob(JB):                      0.00494\n",
      "Kurtosis:                       3.640   Cond. No.                     4.55e+16\n",
      "==============================================================================\n",
      "\n",
      "Notes:\n",
      "[1] R² is computed without centering (uncentered) since the model does not contain a constant.\n",
      "[2] Standard Errors assume that the covariance matrix of the errors is correctly specified.\n",
      "[3] The smallest eigenvalue is 1.76e-25. This might indicate that there are\n",
      "strong multicollinearity problems or that the design matrix is singular.\n"
     ]
    }
   ],
   "source": [
    "# 다중 회귀분석\n",
    "import statsmodels.api as sm\n",
    "\n",
    "model = sm.OLS(y_train, X_train)\n",
    "result = model.fit()\n",
    "\n",
    "print(\"회귀계수\\n\", result.params)\n",
    "print(\"R-squared\\n\", result.rsquared)\n",
    "print(\"P values\\n\", result.pvalues)\n",
    "\n",
    "# 요약 결과 출력\n",
    "print(result.summary())\n",
    "# 모델의 설명력 98.5%\n",
    "# p-value : X6(건물의 방위)은 유의하지 않음\n",
    "# 해석\n",
    "# X1(상대적 크기) : 건물이 크면 난방 비용이 감소한다.\n",
    "# X7(유리창 면적) : 유리창 면적이 크면 난방 비용이 증가한다.\n",
    "# X5(전체 높이) : 건물 높이가 높으면 난방 비용이 증가한다"
   ]
  },
  {
   "cell_type": "code",
   "execution_count": 9,
   "metadata": {},
   "outputs": [],
   "source": [
    "from sklearn.linear_model import LinearRegression\n",
    "model = LinearRegression().fit(X_train, y_train)"
   ]
  },
  {
   "cell_type": "code",
   "execution_count": 10,
   "metadata": {},
   "outputs": [
    {
     "name": "stdout",
     "output_type": "stream",
     "text": [
      "학습용: 0.9123488471973691\n",
      "검증용: 0.9313289941747572\n"
     ]
    }
   ],
   "source": [
    "print(\"학습용:\", model.score(X_train, y_train))\n",
    "print(\"검증용:\", model.score(X_test, y_test))"
   ]
  },
  {
   "cell_type": "code",
   "execution_count": 11,
   "metadata": {},
   "outputs": [
    {
     "name": "stdout",
     "output_type": "stream",
     "text": [
      "Index(['X1', 'X2', 'X3', 'X4', 'X5', 'X7', 'X8'], dtype='object')\n",
      "     X1     X2     X3      X4   X5   X7  X8\n",
      "0  0.98  514.5  294.0  110.25  7.0  0.0   0\n",
      "1  0.98  514.5  294.0  110.25  7.0  0.0   0\n",
      "2  0.98  514.5  294.0  110.25  7.0  0.0   0\n",
      "3  0.98  514.5  294.0  110.25  7.0  0.0   0\n",
      "4  0.90  563.5  318.5  122.50  7.0  0.0   0\n",
      "0    15.55\n",
      "1    15.55\n",
      "2    15.55\n",
      "3    15.55\n",
      "4    20.84\n",
      "Name: Y1, dtype: float64\n"
     ]
    }
   ],
   "source": [
    "# X6을 제회한 모델\n",
    "train_cols = df.columns[[0,1,2,3,4,6,7]]\n",
    "print(train_cols)\n",
    "X = df[train_cols] # 독립변수\n",
    "y = df[\"Y1\"] # 난방 하중\n",
    "print(df[train_cols].head())\n",
    "print(y.head())"
   ]
  },
  {
   "cell_type": "code",
   "execution_count": 12,
   "metadata": {},
   "outputs": [
    {
     "name": "stdout",
     "output_type": "stream",
     "text": [
      "회귀계수\n",
      " X1   -20.074078\n",
      "X2    -0.003728\n",
      "X3     0.032211\n",
      "X4    -0.017969\n",
      "X5     5.296006\n",
      "X7    19.960769\n",
      "X8     0.206300\n",
      "dtype: float64\n",
      "R-squared\n",
      " 0.9854172860136521\n",
      "P values\n",
      " X1    5.633124e-27\n",
      "X2    2.812092e-03\n",
      "X3    9.694136e-17\n",
      "X4    4.287014e-13\n",
      "X5    4.060134e-93\n",
      "X7    1.058102e-96\n",
      "X8    3.633760e-03\n",
      "dtype: float64\n",
      "                                 OLS Regression Results                                \n",
      "=======================================================================================\n",
      "Dep. Variable:                     Y1   R-squared (uncentered):                   0.985\n",
      "Model:                            OLS   Adj. R-squared (uncentered):              0.985\n",
      "Method:                 Least Squares   F-statistic:                              8582.\n",
      "Date:                Thu, 09 Mar 2023   Prob (F-statistic):                        0.00\n",
      "Time:                        15:41:43   Log-Likelihood:                         -1922.2\n",
      "No. Observations:                 768   AIC:                                      3856.\n",
      "Df Residuals:                     762   BIC:                                      3884.\n",
      "Df Model:                           6                                                  \n",
      "Covariance Type:            nonrobust                                                  \n",
      "==============================================================================\n",
      "                 coef    std err          t      P>|t|      [0.025      0.975]\n",
      "------------------------------------------------------------------------------\n",
      "X1           -20.0741      1.796    -11.180      0.000     -23.599     -16.549\n",
      "X2            -0.0037      0.001     -2.997      0.003      -0.006      -0.001\n",
      "X3             0.0322      0.004      8.503      0.000       0.025       0.040\n",
      "X4            -0.0180      0.002     -7.375      0.000      -0.023      -0.013\n",
      "X5             5.2960      0.224     23.643      0.000       4.856       5.736\n",
      "X7            19.9608      0.823     24.246      0.000      18.345      21.577\n",
      "X8             0.2063      0.071      2.917      0.004       0.067       0.345\n",
      "==============================================================================\n",
      "Omnibus:                       13.560   Durbin-Watson:                   0.608\n",
      "Prob(Omnibus):                  0.001   Jarque-Bera (JB):               24.003\n",
      "Skew:                          -0.005   Prob(JB):                     6.14e-06\n",
      "Kurtosis:                       3.866   Cond. No.                     4.46e+16\n",
      "==============================================================================\n",
      "\n",
      "Notes:\n",
      "[1] R² is computed without centering (uncentered) since the model does not contain a constant.\n",
      "[2] Standard Errors assume that the covariance matrix of the errors is correctly specified.\n",
      "[3] The smallest eigenvalue is 2.28e-25. This might indicate that there are\n",
      "strong multicollinearity problems or that the design matrix is singular.\n"
     ]
    }
   ],
   "source": [
    "# 다중 회귀분석\n",
    "import statsmodels.api as sm\n",
    "\n",
    "model = sm.OLS(y, X)\n",
    "result = model.fit()\n",
    "\n",
    "print(\"회귀계수\\n\",result.params)\n",
    "print(\"R-squared\\n\",result.rsquared)\n",
    "print(\"P values\\n\",result.pvalues)\n",
    "\n",
    "# 요약 결과 출력\n",
    "print(result.summary())\n",
    "# 모델의 설명력 98.5%(개선되지는 않음)\n",
    "# p-value : 모든 변수가 유의함"
   ]
  }
 ],
 "metadata": {
  "kernelspec": {
   "display_name": "base",
   "language": "python",
   "name": "python3"
  },
  "language_info": {
   "codemirror_mode": {
    "name": "ipython",
    "version": 3
   },
   "file_extension": ".py",
   "mimetype": "text/x-python",
   "name": "python",
   "nbconvert_exporter": "python",
   "pygments_lexer": "ipython3",
   "version": "3.9.13"
  },
  "orig_nbformat": 4,
  "vscode": {
   "interpreter": {
    "hash": "ff4f85d6e04298634172ac5d8264e7e9b556b95639fe52ebb9425c4d4cba0c9c"
   }
  }
 },
 "nbformat": 4,
 "nbformat_minor": 2
}
