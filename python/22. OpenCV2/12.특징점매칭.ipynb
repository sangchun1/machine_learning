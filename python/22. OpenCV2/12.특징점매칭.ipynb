{
 "cells": [
  {
   "cell_type": "code",
   "execution_count": 1,
   "metadata": {},
   "outputs": [],
   "source": [
    "import cv2\n",
    "img = cv2.imread(\"c:/data/images/image.jpg\")\n",
    "img = cv2.resize(img, (640, 480))\n",
    "img_object = cv2.imread(\"c:/data/images/object.jpg\", cv2.IMREAD_GRAYSCALE)\n",
    "gray = cv2.cvtColor(img, cv2.COLOR_BGR2GRAY)\n",
    "\n",
    "# 특징점 검출 알고리즘\n",
    "orb = cv2.ORB_create(nfeatures=40000)\n",
    "# 특징점과 특징 디스크립터 계산\n",
    "kp1, des1 = orb.detectAndCompute(gray, None)\n",
    "kp2, des2 = orb.detectAndCompute(img_object, None)\n",
    "\n",
    "# 유사도 계산\n",
    "bf = cv2.BFMatcher(cv2.NORM_HAMMING, crossCheck=True)\n",
    "matches = bf.match(des1, des2)\n",
    "matches = sorted(matches, key=lambda x:x.distance)\n",
    "count = 100\n",
    "for i in matches[:count]:\n",
    "    idx = i.queryIdx\n",
    "    x1, y1 = kp1[idx].pt\n",
    "    cv2.circle(img, (int(x1), int(y1)), 3, (0, 0, 255), 3)\n",
    "\n",
    "flag = (cv2.DRAW_MATCHES_FLAGS_NOT_DRAW_SINGLE_POINTS | cv2.DRAW_MATCHES_FLAGS_DRAW_RICH_KEYPOINTS)\n",
    "matching_result = cv2.drawMatches(img, kp1, img_object, kp2, matches[:count], None, flags=flag)\n",
    "cv2.imshow(\"Matching result\", matching_result)\n",
    "cv2.waitKey(0)\n",
    "cv2.destroyAllWindows()"
   ]
  }
 ],
 "metadata": {
  "kernelspec": {
   "display_name": "base",
   "language": "python",
   "name": "python3"
  },
  "language_info": {
   "codemirror_mode": {
    "name": "ipython",
    "version": 3
   },
   "file_extension": ".py",
   "mimetype": "text/x-python",
   "name": "python",
   "nbconvert_exporter": "python",
   "pygments_lexer": "ipython3",
   "version": "3.9.13"
  },
  "orig_nbformat": 4,
  "vscode": {
   "interpreter": {
    "hash": "ff4f85d6e04298634172ac5d8264e7e9b556b95639fe52ebb9425c4d4cba0c9c"
   }
  }
 },
 "nbformat": 4,
 "nbformat_minor": 2
}
