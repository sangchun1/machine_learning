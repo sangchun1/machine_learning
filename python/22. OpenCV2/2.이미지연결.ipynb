{
 "cells": [
  {
   "cell_type": "code",
   "execution_count": 1,
   "metadata": {},
   "outputs": [],
   "source": [
    "import cv2\n",
    "import numpy as np\n",
    "one = cv2.imread(\"c:/data/images/one.jpg\")\n",
    "two = cv2.imread(\"c:/data/images/two.jpg\")\n",
    "three = cv2.imread(\"c:/data/images/three.jpg\")\n",
    "four = cv2.imread(\"c:/data/images/four.jpg\")\n",
    "horizontal1 = np.full((50, one.shape[1], 3), [0, 0, 0], dtype=np.uint8)\n",
    "horizontal2 = np.full((50, two.shape[1], 3), (0, 0, 0), dtype=np.uint8)\n",
    "left = cv2.vconcat((one, horizontal1, three))\n",
    "right = np.vstack((two, horizontal2, four))\n",
    "vertical = np.full((left.shape[0], 50, 3), 0, dtype=np.uint8)\n",
    "dst = cv2.hconcat((left, vertical, right))\n",
    "cv2.imshow(\"dst\", dst)\n",
    "cv2.waitKey()\n",
    "cv2.destroyAllWindows()"
   ]
  }
 ],
 "metadata": {
  "kernelspec": {
   "display_name": "base",
   "language": "python",
   "name": "python3"
  },
  "language_info": {
   "codemirror_mode": {
    "name": "ipython",
    "version": 3
   },
   "file_extension": ".py",
   "mimetype": "text/x-python",
   "name": "python",
   "nbconvert_exporter": "python",
   "pygments_lexer": "ipython3",
   "version": "3.9.13"
  },
  "orig_nbformat": 4,
  "vscode": {
   "interpreter": {
    "hash": "ff4f85d6e04298634172ac5d8264e7e9b556b95639fe52ebb9425c4d4cba0c9c"
   }
  }
 },
 "nbformat": 4,
 "nbformat_minor": 2
}
