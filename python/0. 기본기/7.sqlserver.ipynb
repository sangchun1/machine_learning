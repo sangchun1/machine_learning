{
 "cells": [
  {
   "cell_type": "code",
   "execution_count": 1,
   "metadata": {},
   "outputs": [
    {
     "name": "stdout",
     "output_type": "stream",
     "text": [
      "(1, '레몬', 1500, '레몬에 포함된 구연산은 피로회복에 좋습니다. 비타민 C도 풍부합니다.', 'lemon.jpg')\n",
      "(2, '오렌지', 2000, '비타민 C가 풍부합니다. 생과일 주스로 마시면 좋습니다.', 'orange.jpg')\n",
      "(3, '키위', 3000, '비타민 C가 매우 풍부합니다. 다이어트나 미용에 좋습니다.', 'kiwi.jpg')\n",
      "(4, '포도', 5000, '폴리페놀을 다량 함유하고 있어 항산화 작용을 합니다.', 'grape.jpg')\n",
      "(5, '딸기', 8000, '비타민 C나 플라보노이드를 다량 함유하고 있습니다.', 'strawberry.jpg')\n",
      "(6, '귤', 7000, '시네피린을 함유하고 있어 감기 예방에 좋다고 합니다.', 'tangerine.jpg')\n"
     ]
    }
   ],
   "source": [
    "import pymssql\n",
    "\n",
    "# MSSQL 접속\n",
    "conn = pymssql.connect(host=r'(local)', database='web', user='sa', password='1234', charset='utf8')\n",
    "\n",
    "# Connection 으로부터 Cursor 생성\n",
    "cursor = conn.cursor()\n",
    "\n",
    "# SQL문 실행\n",
    "cursor.execute('select * from product')\n",
    "\n",
    "rows = cursor.fetchall()\n",
    "for row in rows:\n",
    "    print(row)\n",
    "\n",
    "# 연결 끊기\n",
    "conn.close()"
   ]
  },
  {
   "cell_type": "code",
   "execution_count": 2,
   "metadata": {},
   "outputs": [],
   "source": [
    "import pymssql\n",
    "\n",
    "conn = pymssql.connect(host=r'(local)', database='web', charset='utf8')\n",
    "cursor = conn.cursor()\n",
    "\n",
    "sql=\"delete from product\"\n",
    "cursor.execute(sql)\n",
    "\n",
    "items = [\n",
    "(1,'레몬',1500,\\\n",
    "    '레몬에 포함된 구연산은 피로회복에 좋습니다. 비타민 C도풍부합니다.','lemon.jpg'),\n",
    "(2,'오렌지',2000,\\\n",
    "    '비타민 C가 풍부합니다. 생과일 주스로 마시면 좋습니다.','orange.jpg'),\n",
    "(3,'키위',3000,\\\n",
    "    '비타민 C가 매우 풍부합니다. 다이어트나 미용에 좋습니다.','kiwi.jpg'),\n",
    "(4,'포도',5000,'폴리페놀을 다량 함유하고 있어 항산화 작용을합니다.','grape.jpg'),\n",
    "(5,'딸기',8000,\\\n",
    "    '비타민 C나 플라보노이드를 다량 함유하고 있습니다.','strawberry.jpg'),  \n",
    "(6,'귤',7000,\\\n",
    "    '시네피린을 함유하고 있어 감기 예방에 좋다고 합니다.','tangerine.jpg')  \n",
    "]"
   ]
  },
  {
   "cell_type": "code",
   "execution_count": 3,
   "metadata": {},
   "outputs": [
    {
     "name": "stdout",
     "output_type": "stream",
     "text": [
      "(1, '레몬', 1500, '레몬에 포함된 구연산은 피로회복에 좋습니다. 비타민 C도풍부합니다.', 'lemon.jpg')\n",
      "(2, '오렌지', 2000, '비타민 C가 풍부합니다. 생과일 주스로 마시면 좋습니다.', 'orange.jpg')\n",
      "(3, '키위', 3000, '비타민 C가 매우 풍부합니다. 다이어트나 미용에 좋습니다.', 'kiwi.jpg')\n",
      "(4, '포도', 5000, '폴리페놀을 다량 함유하고 있어 항산화 작용을합니다.', 'grape.jpg')\n",
      "(5, '딸기', 8000, '비타민 C나 플라보노이드를 다량 함유하고 있습니다.', 'strawberry.jpg')\n",
      "(6, '귤', 7000, '시네피린을 함유하고 있어 감기 예방에 좋다고 합니다.', 'tangerine.jpg')\n",
      "상품개수: 6\n",
      "(1, '레몬', 1500, '레몬에 포함된 구연산은 피로회복에 좋습니다. 비타민 C도풍부합니다.', 'lemon.jpg')\n",
      "(2, '오렌지', 2000, '비타민 C가 풍부합니다. 생과일 주스로 마시면 좋습니다.', 'orange.jpg')\n",
      "(3, '키위', 3000, '비타민 C가 매우 풍부합니다. 다이어트나 미용에 좋습니다.', 'kiwi.jpg')\n",
      "(4, '포도', 5000, '폴리페놀을 다량 함유하고 있어 항산화 작용을합니다.', 'grape.jpg')\n",
      "(5, '딸기', 8000, '비타민 C나 플라보노이드를 다량 함유하고 있습니다.', 'strawberry.jpg')\n",
      "(6, '귤', 7000, '시네피린을 함유하고 있어 감기 예방에 좋다고 합니다.', 'tangerine.jpg')\n"
     ]
    }
   ],
   "source": [
    "for row in items:\n",
    "    print(row)\n",
    "    sql=\"INSERT INTO product VALUES (%s, %s, %s, %s,%s)\"\n",
    "    cursor.execute(sql, row)\n",
    "\n",
    "# 레코드 개수\n",
    "sql = \"select count(*) from product\"\n",
    "cursor.execute(sql)\n",
    "cnt=cursor.fetchone()\n",
    "print(\"상품개수:\",cnt[0])\n",
    "\n",
    "# 전체 레코드 조회\n",
    "sql = \"select * from product\"\n",
    "cursor.execute(sql)\n",
    "\n",
    "for row in cursor:\n",
    "    print(row)"
   ]
  },
  {
   "cell_type": "code",
   "execution_count": 4,
   "metadata": {},
   "outputs": [],
   "source": [
    "# 일부 레코드 삭제\n",
    "sql = \"delete from product where product_id=6\"\n",
    "cursor.execute(sql)\n",
    "\n",
    "# 모든 레코드 삭제\n",
    "sql = \"delete from product\"\n",
    "cursor.execute(sql)"
   ]
  },
  {
   "cell_type": "code",
   "execution_count": 5,
   "metadata": {},
   "outputs": [
    {
     "name": "stdout",
     "output_type": "stream",
     "text": [
      "\n",
      "레코드셋: [(1, '레몬', 1500, '레몬에 포함된 구연산은 피로회복에 좋습니다. 비타민 C도풍부합니다.', 'lemon.jpg'), (2, '오렌지', 2000, '비타민 C가 풍부합니다. 생과일 주스로 마시면 좋습니다.', 'orange.jpg'), (3, '키위', 3000, '비타민 C가 매우 풍부합니다. 다이어트나 미용에 좋습니다.', 'kiwi.jpg'), (4, '포도', 5000, '폴리페놀을 다량 함유하고 있어 항산화 작용을합니다.', 'grape.jpg'), (5, '딸기', 8000, '비타민 C나 플라보노이드를 다량 함유하고 있습니다.', 'strawberry.jpg'), (6, '귤', 7000, '시네피린을 함유하고 있어 감기 예방에 좋다고 합니다.', 'tangerine.jpg')]\n",
      "(1, '레몬', 1500, '레몬에 포함된 구연산은 피로회복에 좋습니다. 비타민 C도풍부합니다.', 'lemon.jpg')\n",
      "(2, '오렌지', 2000, '비타민 C가 풍부합니다. 생과일 주스로 마시면 좋습니다.', 'orange.jpg')\n",
      "(3, '키위', 3000, '비타민 C가 매우 풍부합니다. 다이어트나 미용에 좋습니다.', 'kiwi.jpg')\n",
      "(4, '포도', 5000, '폴리페놀을 다량 함유하고 있어 항산화 작용을합니다.', 'grape.jpg')\n",
      "(5, '딸기', 8000, '비타민 C나 플라보노이드를 다량 함유하고 있습니다.', 'strawberry.jpg')\n",
      "(6, '귤', 7000, '시네피린을 함유하고 있어 감기 예방에 좋다고 합니다.', 'tangerine.jpg')\n"
     ]
    }
   ],
   "source": [
    "# 모든 레코드를 한꺼번에 insert\n",
    "sql=\"insert into product values (%s, %s, %s, %s, %s)\"\n",
    "cursor.executemany(sql, items)\n",
    "\n",
    "# 모든 레코드를 한꺼번에 조회하여 리스트로 저장\n",
    "sql = \"select * from product\"\n",
    "cursor.execute(sql)\n",
    "rs=cursor.fetchall()\n",
    "print(\"\\n레코드셋:\",rs)\n",
    "for row in rs:\n",
    "    print(row)\n",
    "\n",
    "cursor.close()\n",
    "conn.close()"
   ]
  },
  {
   "attachments": {},
   "cell_type": "markdown",
   "metadata": {},
   "source": [
    "### 항송운항테이블"
   ]
  },
  {
   "cell_type": "code",
   "execution_count": 6,
   "metadata": {},
   "outputs": [
    {
     "name": "stdout",
     "output_type": "stream",
     "text": [
      "('2007', '1', '6', '6', '1344', '1330', '1455', '1445', 'WN', '566', 'N224', '71', '75', '56', '10', '14', 'BWI', 'CLE', '314', '4', '11', '0', '', '0', '0', '0', '0', '0', '0')\n",
      "('2007', '1', '6', '6', '1646', '1645', '1753', '1755', 'WN', '1873', 'N480', '67', '70', '54', '-2', '1', 'BWI', 'CLE', '314', '5', '8', '0', '', '0', '0', '0', '0', '0', '0')\n",
      "('2007', '1', '6', '6', '1000', '1005', '1112', '1115', 'WN', '2157', 'N255', '72', '70', '60', '-3', '-5', 'BWI', 'CLE', '314', '4', '8', '0', '', '0', '0', '0', '0', '0', '0')\n",
      "('2007', '1', '6', '6', '1734', '1720', '1847', '1840', 'WN', '817', 'N389SW', '73', '80', '61', '7', '14', 'BWI', 'CMH', '336', '4', '8', '0', '', '0', '0', '0', '0', '0', '0')\n",
      "('2007', '1', '6', '6', '1436', '1420', '1551', '1535', 'WN', '1629', 'N331', '75', '75', '64', '16', '16', 'BWI', 'CMH', '336', '3', '8', '0', '', '0', '11', '0', '0', '0', '5')\n"
     ]
    }
   ],
   "source": [
    "# 항공사별 출발 지연 시간 평균\n",
    "import pymssql\n",
    "\n",
    "# MSSQL 접속\n",
    "conn = pymssql.connect(host=r'(local)', database='web', user='sa', password='1234', charset='utf8')\n",
    "\n",
    "cursor = conn.cursor()\n",
    "cursor.execute('select top 5 * from ontime')\n",
    "\n",
    "rows = cursor.fetchall()\n",
    "for row in rows:\n",
    "    print(row)\n",
    "\n",
    "cursor.close()\n",
    "conn.close()"
   ]
  },
  {
   "cell_type": "code",
   "execution_count": 7,
   "metadata": {},
   "outputs": [
    {
     "name": "stdout",
     "output_type": "stream",
     "text": [
      "('B6', 13)\n",
      "('AA', 13)\n",
      "('UA', 12)\n",
      "('CO', 10)\n",
      "('HA', 0)\n",
      "('XE', 9)\n",
      "('YV', 10)\n",
      "('MQ', 12)\n",
      "('OH', 12)\n",
      "('9E', 7)\n",
      "('OO', 8)\n",
      "('DL', 7)\n",
      "('US', 11)\n",
      "('F9', 7)\n",
      "('AS', 9)\n",
      "('FL', 7)\n",
      "('NW', 12)\n",
      "('WN', 5)\n",
      "('EV', 16)\n",
      "('AQ', -1)\n"
     ]
    }
   ],
   "source": [
    "# 항공사별 도착 지연 시간 평균\n",
    "import pymssql\n",
    "\n",
    "# MSSQL 접속\n",
    "conn = pymssql.connect(host=r'(local)', database='web', user='sa', password='1234', charset='utf8')\n",
    "\n",
    "cursor = conn.cursor()\n",
    "cursor.execute('''\n",
    "select uniquecarrier, avg(cast(arrdelay as int))\n",
    "from ontime\n",
    "group by uniquecarrier\n",
    "''')\n",
    "\n",
    "rows = cursor.fetchall()\n",
    "for row in rows:\n",
    "    print(row)\n",
    "\n",
    "cursor.close()\n",
    "conn.close()"
   ]
  },
  {
   "cell_type": "code",
   "execution_count": 8,
   "metadata": {},
   "outputs": [
    {
     "name": "stdout",
     "output_type": "stream",
     "text": [
      "('1', 286334)\n",
      "('2', 284152)\n",
      "('3', 293360)\n",
      "('4', 273055)\n",
      "('5', 275332)\n",
      "('6', 326446)\n",
      "('7', 326559)\n",
      "('8', 317197)\n",
      "('9', 225751)\n",
      "('10', 270098)\n",
      "('11', 242722)\n",
      "('12', 332449)\n"
     ]
    }
   ],
   "source": [
    "# 2007년 도착지연횟수 월별 집계\n",
    "import pymssql\n",
    "\n",
    "# MSSQL 접속\n",
    "conn = pymssql.connect(host=r'(local)', database='web', user='sa', password='1234', charset='utf8')\n",
    "\n",
    "cursor = conn.cursor()\n",
    "cursor.execute('''\n",
    "select month, count(*)\n",
    "from ontime\n",
    "where year=2007 and arrdelay > 0\n",
    "group by month\n",
    "order by cast(month as int)\n",
    "''')\n",
    "\n",
    "rows = cursor.fetchall()\n",
    "for row in rows:\n",
    "    print(row)\n",
    "\n",
    "cursor.close()\n",
    "conn.close()"
   ]
  },
  {
   "cell_type": "code",
   "execution_count": 9,
   "metadata": {},
   "outputs": [
    {
     "name": "stdout",
     "output_type": "stream",
     "text": [
      "[1, 2, 3, 4, 5, 6, 7, 8, 9, 10, 11, 12]\n",
      "[286334, 284152, 293360, 273055, 275332, 326446, 326559, 317197, 225751, 270098, 242722, 332449]\n"
     ]
    }
   ],
   "source": [
    "x=list(range(1,13))\n",
    "y=[]\n",
    "for row in rows:\n",
    "    y.append(row[1])\n",
    "print(x)\n",
    "print(y)"
   ]
  },
  {
   "cell_type": "code",
   "execution_count": 10,
   "metadata": {},
   "outputs": [
    {
     "data": {
      "image/png": "[encoded data removed]",
      "text/plain": [
       "<Figure size 640x480 with 1 Axes>"
      ]
     },
     "metadata": {},
     "output_type": "display_data"
    }
   ],
   "source": [
    "import matplotlib.pyplot as plt\n",
    "\n",
    "plt.plot(x,y)\n",
    "plt.bar(x,y)\n",
    "plt.show()"
   ]
  },
  {
   "cell_type": "code",
   "execution_count": 11,
   "metadata": {},
   "outputs": [
    {
     "name": "stdout",
     "output_type": "stream",
     "text": [
      "('1', 11436525)\n",
      "('2', 8679794)\n",
      "('3', 10559236)\n",
      "('4', 13571525)\n",
      "('5', 14043961)\n",
      "('6', 5353299)\n",
      "('7', 10506709)\n"
     ]
    }
   ],
   "source": [
    "# 요일별 지연시간합계\n",
    "import pymssql\n",
    "\n",
    "# MSSQL 접속\n",
    "conn = pymssql.connect(host=r'(local)', database='web', user='sa', password='1234', charset='utf8')\n",
    "\n",
    "cursor = conn.cursor()                      \n",
    "cursor.execute('''\n",
    "select dayofweek, sum(cast(arrdelay as int))\n",
    "from ontime\n",
    "group by dayofweek\n",
    "order by dayofweek\n",
    "''')  \n",
    "  \n",
    "rows = cursor.fetchall()         \n",
    "for row in rows:\n",
    "    print(row)\n",
    "\n",
    "cursor.close()\n",
    "conn.close()"
   ]
  },
  {
   "cell_type": "code",
   "execution_count": 13,
   "metadata": {},
   "outputs": [
    {
     "name": "stdout",
     "output_type": "stream",
     "text": [
      "['월', '화', '수', '목', '금', '토', '일']\n",
      "[11436525, 8679794, 10559236, 13571525, 14043961, 5353299, 10506709]\n"
     ]
    }
   ],
   "source": [
    "x=['월', '화', '수', '목', '금', '토', '일']\n",
    "y=[]\n",
    "for row in rows:\n",
    "    y.append(row[1])\n",
    "print(x)\n",
    "print(y)"
   ]
  },
  {
   "cell_type": "code",
   "execution_count": 14,
   "metadata": {},
   "outputs": [
    {
     "data": {
      "image/png": "[encoded data removed]",
      "text/plain": [
       "<Figure size 640x480 with 1 Axes>"
      ]
     },
     "metadata": {},
     "output_type": "display_data"
    }
   ],
   "source": [
    "import matplotlib.pyplot as plt\n",
    "from matplotlib import rc,font_manager\n",
    "font_name=font_manager.FontProperties(fname='c:/windows/fonts/gulim.ttc').get_name()\n",
    "rc('font',family=font_name)\n",
    "\n",
    "plt.plot(x,y)\n",
    "plt.bar(x,y)\n",
    "plt.show()"
   ]
  },
  {
   "cell_type": "code",
   "execution_count": 16,
   "metadata": {},
   "outputs": [
    {
     "name": "stdout",
     "output_type": "stream",
     "text": [
      "('1924', -47)\n",
      "('2257', -32)\n",
      "('300', -29)\n",
      "('2244', -20)\n",
      "('1801', -18)\n"
     ]
    }
   ],
   "source": [
    "#시간대별( 10월, 월요일에 출발할 때 가장 좋은 시간대는? )\n",
    "import pymssql\n",
    "\n",
    "# MSSQL 접속\n",
    "conn = pymssql.connect(host=r'(local)', database='web', user='sa', password='1234', charset='utf8')\n",
    "\n",
    "cursor = conn.cursor()                      \n",
    "cursor.execute('''\n",
    "select top 5 CRSDepTime, avg(cast(arrdelay as int)) arrdelay\n",
    "from ontime\n",
    "where month=10  and dayofweek=1\n",
    "group by CRSDepTime\n",
    "order by arrdelay\n",
    "''')    \n",
    "\n",
    "rows = cursor.fetchall()         \n",
    "for row in rows:\n",
    "    print(row)\n",
    "\n",
    "cursor.close()\n",
    "conn.close()"
   ]
  }
 ],
 "metadata": {
  "kernelspec": {
   "display_name": "base",
   "language": "python",
   "name": "python3"
  },
  "language_info": {
   "codemirror_mode": {
    "name": "ipython",
    "version": 3
   },
   "file_extension": ".py",
   "mimetype": "text/x-python",
   "name": "python",
   "nbconvert_exporter": "python",
   "pygments_lexer": "ipython3",
   "version": "3.9.13"
  },
  "orig_nbformat": 4,
  "vscode": {
   "interpreter": {
    "hash": "ff4f85d6e04298634172ac5d8264e7e9b556b95639fe52ebb9425c4d4cba0c9c"
   }
  }
 },
 "nbformat": 4,
 "nbformat_minor": 2
}
