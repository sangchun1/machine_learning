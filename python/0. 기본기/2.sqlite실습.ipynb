{
 "cells": [
  {
   "cell_type": "code",
   "execution_count": 1,
   "metadata": {},
   "outputs": [
    {
     "name": "stdout",
     "output_type": "stream",
     "text": [
      "2.6.0\n",
      "3.39.3\n"
     ]
    }
   ],
   "source": [
    "import sqlite3  # SQLite3 라이브러리 로딩\n",
    "print(sqlite3.version)  # SQLite3 모듈의 버전\n",
    "print(sqlite3.sqlite_version)   # SQLite의 버전"
   ]
  },
  {
   "cell_type": "code",
   "execution_count": 2,
   "metadata": {},
   "outputs": [],
   "source": [
    "# 테이블 생성\n",
    "def create():\n",
    "    conn = sqlite3.connect('books.db')  # 데이터베이스 커넥션 생성\n",
    "    cursor = conn.cursor()  # 커서 생성\n",
    "    # my_books 테이블 생성\n",
    "    # 제목, 출판일자, 출판사, 페이지수, 추천여부\n",
    "    cursor.execute('''create table if not exists  books (\n",
    "                        title text,\n",
    "                        publish_date text,\n",
    "                        publisher text,\n",
    "                        pages integer,\n",
    "                        recommend integer\n",
    "                       )'''   )\n",
    "    conn.close()        # 커넥션 닫기\n",
    "    \n",
    "create()         "
   ]
  },
  {
   "cell_type": "code",
   "execution_count": 4,
   "metadata": {},
   "outputs": [],
   "source": [
    "# 데이터 입력 함수\n",
    "def insert():\n",
    "    conn = sqlite3.connect('books.db')  # 데이터베이스 커넥션 생성\n",
    "    cursor = conn.cursor()  # 커서 생성\n",
    "    # 데이터 입력\n",
    "    cursor.execute(\"insert into books values ('Java', '2022-02-28', '길벗', 500, 10)\")\n",
    "    # 데이터 입력 SQL\n",
    "    sql = 'insert into books values (?, ?, ?, ?, ?)'\n",
    "    # 튜플을 이용한 데이터 입력\n",
    "    cursor.execute(sql, ('Python', '2022-03-04', '한빛', 584, 20))\n",
    "    # 책의 정보를 담고 있는 튜플들의 리스트\n",
    "    items = [\n",
    "        ('빅데이터', '2021-07-02','삼성', 296, 11),\n",
    "        ('안드로이드', '2021-02-10','영진', 526, 20),\n",
    "        ('Spring', '2021-12-12','에이콘', 248, 15)\n",
    "    ]\n",
    "    # 여러 데이터 입력\n",
    "    cursor.executemany(sql, items)\n",
    "    conn.commit()\n",
    "    conn. close()       # 커넥션 닫기\n",
    "\n",
    "insert()"
   ]
  },
  {
   "cell_type": "code",
   "execution_count": 5,
   "metadata": {},
   "outputs": [
    {
     "name": "stdout",
     "output_type": "stream",
     "text": [
      "('Java', '2022-02-28', '길벗', 500, 10)\n",
      "('Python', '2022-03-04', '한빛', 584, 20)\n",
      "('빅데이터', '2021-07-02', '삼성', 296, 11)\n",
      "('안드로이드', '2021-02-10', '영진', 526, 20)\n",
      "('Spring', '2021-12-12', '에이콘', 248, 15)\n",
      "('Java', '2022-02-28', '길벗', 500, 100)\n",
      "('Python', '2022-03-04', '한빛', 584, 20)\n",
      "('빅데이터', '2021-07-02', '삼성', 296, 11)\n",
      "('안드로이드', '2021-02-10', '영진', 526, 20)\n",
      "('Spring', '2021-12-12', '에이콘', 248, 15)\n"
     ]
    }
   ],
   "source": [
    "# 리스트 출력 함수\n",
    "def list():\n",
    "    conn = sqlite3.connect('books.db')\n",
    "    cursor = conn.cursor()\n",
    "    cursor.execute('select * from books')\n",
    "    books = cursor.fetchall()\n",
    "    for book in books:\n",
    "        print(book)\n",
    "    conn.close()\n",
    "    \n",
    "list()\n",
    "\n",
    "# 데이터 수정 함수\n",
    "def update():\n",
    "    conn = sqlite3.connect('books.db')\n",
    "    cursor = conn.cursor()\n",
    "    # 데이터 수정 SQL\n",
    "    sql = 'update books set recommend=? where title=?'\n",
    "    # 수정 SQL 실행\n",
    "    cursor.execute(sql, (100, 'Java'))\n",
    "    conn.commit()\n",
    "    conn.close()\n",
    "\n",
    "update()\n",
    "list()"
   ]
  },
  {
   "cell_type": "code",
   "execution_count": 6,
   "metadata": {},
   "outputs": [
    {
     "name": "stdout",
     "output_type": "stream",
     "text": [
      "('Java', '2022-02-28', '길벗', 500, 100)\n",
      "('Python', '2022-03-04', '한빛', 584, 20)\n",
      "('빅데이터', '2021-07-02', '삼성', 296, 11)\n",
      "('안드로이드', '2021-02-10', '영진', 526, 20)\n",
      "('Spring', '2021-12-12', '에이콘', 248, 15)\n",
      "==================================================\n",
      "('Java', '2022-02-28', '길벗', 500, 100)\n",
      "('Python', '2022-03-04', '한빛', 584, 20)\n",
      "('안드로이드', '2021-02-10', '영진', 526, 20)\n",
      "('Spring', '2021-12-12', '에이콘', 248, 15)\n"
     ]
    }
   ],
   "source": [
    "# 데이터 삭제 함수\n",
    "def delete():\n",
    "    conn = sqlite3.connect('books.db')\n",
    "    cursor = conn.cursor()\n",
    "    # 데이터 삭제 SQL\n",
    "    sql = \"delete from books where publisher='삼성'\"\n",
    "    # 수정 SQL 실행\n",
    "    cursor.execute(sql)\n",
    "    conn.commit()\n",
    "    conn.close()\n",
    "\n",
    "list()\n",
    "delete()\n",
    "print('='*50)\n",
    "list()"
   ]
  }
 ],
 "metadata": {
  "kernelspec": {
   "display_name": "base",
   "language": "python",
   "name": "python3"
  },
  "language_info": {
   "codemirror_mode": {
    "name": "ipython",
    "version": 3
   },
   "file_extension": ".py",
   "mimetype": "text/x-python",
   "name": "python",
   "nbconvert_exporter": "python",
   "pygments_lexer": "ipython3",
   "version": "3.9.13"
  },
  "orig_nbformat": 4,
  "vscode": {
   "interpreter": {
    "hash": "ff4f85d6e04298634172ac5d8264e7e9b556b95639fe52ebb9425c4d4cba0c9c"
   }
  }
 },
 "nbformat": 4,
 "nbformat_minor": 2
}
