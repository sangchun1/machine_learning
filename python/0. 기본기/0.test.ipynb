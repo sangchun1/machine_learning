{
 "cells": [
  {
   "cell_type": "code",
   "execution_count": 2,
   "metadata": {},
   "outputs": [
    {
     "name": "stdout",
     "output_type": "stream",
     "text": [
      "5050\n"
     ]
    }
   ],
   "source": [
    "result = 0\n",
    "for i in range(1, 101):\n",
    "    result += i\n",
    "\n",
    "print(result)"
   ]
  },
  {
   "cell_type": "code",
   "execution_count": 3,
   "metadata": {},
   "outputs": [],
   "source": [
    "def mysum(num):\n",
    "    result = 0\n",
    "    for i in range(1, num+1):\n",
    "        result += i\n",
    "    return result"
   ]
  },
  {
   "cell_type": "code",
   "execution_count": 4,
   "metadata": {},
   "outputs": [
    {
     "data": {
      "text/plain": [
       "5050"
      ]
     },
     "execution_count": 4,
     "metadata": {},
     "output_type": "execute_result"
    }
   ],
   "source": [
    "mysum(100)"
   ]
  },
  {
   "cell_type": "code",
   "execution_count": 5,
   "metadata": {},
   "outputs": [],
   "source": [
    "class My:\n",
    "    def mysum(self, num):\n",
    "        result = 0\n",
    "        for i in range(1, num+1):\n",
    "            result += i\n",
    "        return result"
   ]
  },
  {
   "cell_type": "code",
   "execution_count": 6,
   "metadata": {},
   "outputs": [
    {
     "data": {
      "text/plain": [
       "5050"
      ]
     },
     "execution_count": 6,
     "metadata": {},
     "output_type": "execute_result"
    }
   ],
   "source": [
    "m=My() # 인스턴스 생성\n",
    "m.mysum(100)  # 함수 호출"
   ]
  },
  {
   "cell_type": "code",
   "execution_count": 7,
   "metadata": {},
   "outputs": [
    {
     "name": "stdout",
     "output_type": "stream",
     "text": [
      "12\n",
      "[ 6  7  8  9 10]\n"
     ]
    }
   ],
   "source": [
    "import numpy as np\n",
    "\n",
    "def plus(x):\n",
    "    return x+5\n",
    "\n",
    "print(plus(7))\n",
    "print(plus(np.array([1,2,3,4,5])))"
   ]
  },
  {
   "cell_type": "code",
   "execution_count": 8,
   "metadata": {},
   "outputs": [
    {
     "name": "stdout",
     "output_type": "stream",
     "text": [
      "12\n",
      "8\n"
     ]
    }
   ],
   "source": [
    "plus = lambda x : x+5\n",
    "print(plus(7))\n",
    "\n",
    "a = lambda x, y: x+y\n",
    "print(a(2,6))"
   ]
  },
  {
   "cell_type": "code",
   "execution_count": 10,
   "metadata": {},
   "outputs": [
    {
     "data": {
      "text/plain": [
       "array([False,  True, False,  True, False,  True, False,  True, False,\n",
       "        True])"
      ]
     },
     "execution_count": 10,
     "metadata": {},
     "output_type": "execute_result"
    }
   ],
   "source": [
    "# filter 함수를 사용하면 람다식의 결과값을 선택할 수 있음\n",
    "# 1~10 짝수 판별 람다식\n",
    "even = lambda x : x % 2 == 0\n",
    "even(np.array(range(1,11)))\n",
    "\n",
    "# 1~10 짝수 리스트\n",
    "list(filter(even, range(1,11)))"
   ]
  },
  {
   "cell_type": "code",
   "execution_count": 20,
   "metadata": {},
   "outputs": [
    {
     "name": "stdout",
     "output_type": "stream",
     "text": [
      "요금 : 6200\n"
     ]
    }
   ],
   "source": [
    "dist = int(input('운행 거리를 입력하세요(km) : '))\n",
    "if dist >= 2:\n",
    "    price = 4800 + round((((dist - 2)*1000)/140))*200\n",
    "else:\n",
    "    price = 4800\n",
    "print('요금 :', price)"
   ]
  },
  {
   "cell_type": "code",
   "execution_count": 22,
   "metadata": {},
   "outputs": [
    {
     "name": "stdout",
     "output_type": "stream",
     "text": [
      "요금:44,800원\n"
     ]
    }
   ],
   "source": [
    "import math\n",
    "km = int(input('운행 거리를 입력하세요(km) : '))\n",
    "fee = 4800 + math.ceil((km-2)*1000/140*200)\n",
    "print(f'요금 : {fee:,}원')"
   ]
  },
  {
   "cell_type": "code",
   "execution_count": 28,
   "metadata": {},
   "outputs": [],
   "source": [
    "def fahrenheit(c):\n",
    "    return (c * 1.8) + 32\n",
    "\n",
    "def celcius(f):\n",
    "    return (f - 32) / 1.8"
   ]
  },
  {
   "cell_type": "code",
   "execution_count": 29,
   "metadata": {},
   "outputs": [
    {
     "data": {
      "text/plain": [
       "212.0"
      ]
     },
     "execution_count": 29,
     "metadata": {},
     "output_type": "execute_result"
    }
   ],
   "source": [
    "fahrenheit(100)"
   ]
  },
  {
   "cell_type": "code",
   "execution_count": 30,
   "metadata": {},
   "outputs": [
    {
     "data": {
      "text/plain": [
       "100.0"
      ]
     },
     "execution_count": 30,
     "metadata": {},
     "output_type": "execute_result"
    }
   ],
   "source": [
    "celcius(212)"
   ]
  },
  {
   "cell_type": "code",
   "execution_count": 31,
   "metadata": {},
   "outputs": [
    {
     "name": "stdout",
     "output_type": "stream",
     "text": [
      "[(1, 'a', '딸기'), (2, 'b', '복숭아'), (3, 'c', '참외')]\n"
     ]
    }
   ],
   "source": [
    "a = [1,2,3]\n",
    "b = ['a','b','c']\n",
    "c = ['딸기', '복숭아', '참외']\n",
    "d = list(zip(a,b,c))\n",
    "print(d)"
   ]
  },
  {
   "cell_type": "code",
   "execution_count": 32,
   "metadata": {},
   "outputs": [
    {
     "data": {
      "text/plain": [
       "[(1, 'a'), (2, 'b'), (3, 'c')]"
      ]
     },
     "execution_count": 32,
     "metadata": {},
     "output_type": "execute_result"
    }
   ],
   "source": [
    "# zip 함수를 직접 코딩으로 작성\n",
    "def my_zip(a,b):\n",
    "    if len(a) != len(b):\n",
    "        print('두 입력값의 길이가 다릅니다.')\n",
    "    else:\n",
    "        n = len(a)\n",
    "        c = []\n",
    "        for i in range(n):\n",
    "            c.append((a[i],b[i]))\n",
    "        return c\n",
    "\n",
    "a = [1,2,3]\n",
    "b = ['a','b','c']\n",
    "my_zip(a,b)"
   ]
  }
 ],
 "metadata": {
  "kernelspec": {
   "display_name": "Python 3",
   "language": "python",
   "name": "python3"
  },
  "language_info": {
   "codemirror_mode": {
    "name": "ipython",
    "version": 3
   },
   "file_extension": ".py",
   "mimetype": "text/x-python",
   "name": "python",
   "nbconvert_exporter": "python",
   "pygments_lexer": "ipython3",
   "version": "3.11.2"
  },
  "orig_nbformat": 4,
  "vscode": {
   "interpreter": {
    "hash": "93cb88c8c23f1da55dedfd812a7caae5ec2bf62baf9b0901f535e3b1ad9c99c3"
   }
  }
 },
 "nbformat": 4,
 "nbformat_minor": 2
}
