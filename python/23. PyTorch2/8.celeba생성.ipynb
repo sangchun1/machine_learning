{
 "cells": [
  {
   "cell_type": "code",
   "execution_count": null,
   "metadata": {},
   "outputs": [],
   "source": [
    "%%time\n",
    "#이미지 파일들을 h5py 파일로 압축하는 과정(오래걸림, 15~20분)\n",
    "import h5py\n",
    "import zipfile\n",
    "import imageio\n",
    "import os\n",
    "hdf5_file = 'c:/data/celeba/celeba_aligned_small.h5py'\n",
    "total_images = 20000\n",
    "with h5py.File(hdf5_file, 'w') as hf:\n",
    "    count = 0\n",
    "    with zipfile.ZipFile('c:/data/celeba/img_align_celeba.zip', 'r') as zf:\n",
    "        for i in zf.namelist():\n",
    "            if (i[-4:] == '.jpg'):\n",
    "            # extract image\n",
    "            ofile = zf.extract(i)\n",
    "            img = imageio.v2.imread(ofile)\n",
    "            os.remove(ofile)\n",
    "            # 이미지 데이터를 h5py 모델에 추가하는 과정\n",
    "            hf.create_dataset('c:/data/celeba/img_align_celeba/'+str(count)+'.jpg', data=img, compression=\"gzip\", compression_opts=9)\n",
    "        count = count + 1\n",
    "        if count%1000 == 0:\n",
    "            print(\"images done .. \", count)\n",
    "        if count == total_images:\n",
    "            break"
   ]
  }
 ],
 "metadata": {
  "kernelspec": {
   "display_name": "base",
   "language": "python",
   "name": "python3"
  },
  "language_info": {
   "name": "python",
   "version": "3.9.13"
  },
  "orig_nbformat": 4,
  "vscode": {
   "interpreter": {
    "hash": "ff4f85d6e04298634172ac5d8264e7e9b556b95639fe52ebb9425c4d4cba0c9c"
   }
  }
 },
 "nbformat": 4,
 "nbformat_minor": 2
}
