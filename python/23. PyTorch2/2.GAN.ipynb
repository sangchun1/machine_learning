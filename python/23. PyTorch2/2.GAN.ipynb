{
 "cells": [
  {
   "cell_type": "code",
   "execution_count": null,
   "metadata": {},
   "outputs": [],
   "source": [
    "# GAN(Generative Adversarial Network)\n",
    "# 적대적 생성 모델\n",
    "# 생성 모델 : 데이터의 형태를 만들어 내는 모델, 어떤 분포 혹은 분산 자체를 만들어내는 모델\n",
    "# 적대적 : 지폐위조범(Generator)과 경찰(Discriminator)\n",
    "# Generator: 새로운 데이터의 형태를 만들어 내는 모델, 판독 모델을 틀리도록 하는 역할(적대적 모델), 진짜 같은 가짜를 생성해내는 모델\n",
    "# Discriminator: 데이터 판독 모델(Real, Fake 판독)"
   ]
  },
  {
   "cell_type": "code",
   "execution_count": 1,
   "metadata": {},
   "outputs": [],
   "source": [
    "import torch\n",
    "import random\n",
    "# real 이미지 생성 함수\n",
    "def generate_real():\n",
    "    #random.uniform(a,b) a~b 랜덤실수\n",
    "    real_data = torch.FloatTensor(\n",
    "        [random.uniform(0.8, 1.0),\n",
    "        random.uniform(0.0, 0.2),\n",
    "        random.uniform(0.8, 1.0),\n",
    "        random.uniform(0.0, 0.2)])\n",
    "    return real_data"
   ]
  },
  {
   "cell_type": "code",
   "execution_count": 2,
   "metadata": {},
   "outputs": [],
   "source": [
    "# random 이미지 생성 함수\n",
    "def generate_random(size):\n",
    "    # 평균 0, 표준편차 1인 정규분포 난수 생성\n",
    "    random_data = torch.rand(size)\n",
    "    return random_data"
   ]
  },
  {
   "cell_type": "code",
   "execution_count": 3,
   "metadata": {},
   "outputs": [],
   "source": [
    "import torch.nn as nn\n",
    "import pandas as pd\n",
    "# 판별모형\n",
    "class Discriminator(nn.Module):\n",
    "\n",
    "    def __init__(self):\n",
    "        super().__init__()\n",
    "\n",
    "        self.model = nn.Sequential(\n",
    "            nn.Linear(4, 3),\n",
    "            nn.Sigmoid(),\n",
    "            nn.Linear(3, 1),\n",
    "            nn.Sigmoid()\n",
    "        )\n",
    "\n",
    "        self.loss_function = nn.MSELoss()\n",
    "        self.optimiser = torch.optim.SGD(self.parameters(), lr=0.01)\n",
    "        self.counter = 0\n",
    "        self.progress = []\n",
    "\n",
    "    def forward(self, inputs):\n",
    "            return self.model(inputs)\n",
    "\n",
    "    def train(self, inputs, targets):\n",
    "        outputs = self.forward(inputs)\n",
    "\n",
    "        loss = self.loss_function(outputs, targets)\n",
    "        self.counter += 1\n",
    "        if self.counter % 10 == 0:\n",
    "            self.progress.append(loss.item())\n",
    "\n",
    "        if self.counter % 10000 == 0:\n",
    "            print(\"counter = \", self.counter)\n",
    "        self.optimiser.zero_grad()\n",
    "        loss.backward()\n",
    "        self.optimiser.step()"
   ]
  },
  {
   "cell_type": "code",
   "execution_count": 4,
   "metadata": {},
   "outputs": [
    {
     "name": "stdout",
     "output_type": "stream",
     "text": [
      "counter =  10000\n",
      "counter =  20000\n"
     ]
    }
   ],
   "source": [
    "D = Discriminator()\n",
    "for i in range(10000):\n",
    "    # real image\n",
    "    D.train(generate_real(), torch.FloatTensor([1.0]))\n",
    "    # fake image\n",
    "    D.train(generate_random(4), torch.FloatTensor([0.0]))"
   ]
  },
  {
   "cell_type": "code",
   "execution_count": 5,
   "metadata": {},
   "outputs": [
    {
     "name": "stdout",
     "output_type": "stream",
     "text": [
      "0.7161149978637695\n",
      "0.13189402222633362\n"
     ]
    }
   ],
   "source": [
    "print( D.forward( generate_real() ).item() )\n",
    "print( D.forward( generate_random(4) ).item() )"
   ]
  },
  {
   "cell_type": "code",
   "execution_count": 6,
   "metadata": {},
   "outputs": [],
   "source": [
    "# 생성모형\n",
    "class Generator(nn.Module):\n",
    "    \n",
    "    def __init__(self):\n",
    "        super().__init__()\n",
    "\n",
    "        self.model = nn.Sequential(\n",
    "            nn.Linear(1, 3),\n",
    "            nn.Sigmoid(),\n",
    "            nn.Linear(3, 4),\n",
    "            nn.Sigmoid()\n",
    "        )\n",
    "\n",
    "        self.optimiser = torch.optim.SGD(self.parameters(), lr=0.01)\n",
    "        self.counter = 0\n",
    "        self.progress = []\n",
    "\n",
    "    def forward(self, inputs):\n",
    "        return self.model(inputs)\n",
    "    \n",
    "    def train(self, D, inputs, targets):\n",
    "        g_output = self.forward(inputs)\n",
    "        d_output = D.forward(g_output)\n",
    "        \n",
    "        loss = D.loss_function(d_output, targets)\n",
    "        self.counter += 1\n",
    "        if self.counter % 10 == 0:\n",
    "            self.progress.append(loss.item())\n",
    "        self.optimiser.zero_grad()\n",
    "        loss.backward()\n",
    "        self.optimiser.step()"
   ]
  },
  {
   "cell_type": "code",
   "execution_count": 7,
   "metadata": {},
   "outputs": [
    {
     "data": {
      "text/plain": [
       "tensor([0.5481, 0.3726, 0.3595, 0.4437], grad_fn=<SigmoidBackward0>)"
      ]
     },
     "execution_count": 7,
     "metadata": {},
     "output_type": "execute_result"
    }
   ],
   "source": [
    "G = Generator()\n",
    "G.forward(torch.FloatTensor([0.5]))"
   ]
  },
  {
   "cell_type": "code",
   "execution_count": 8,
   "metadata": {},
   "outputs": [
    {
     "name": "stdout",
     "output_type": "stream",
     "text": [
      "counter =  10000\n",
      "counter =  20000\n"
     ]
    }
   ],
   "source": [
    "D = Discriminator()\n",
    "G = Generator()\n",
    "image_list = []\n",
    "for i in range(10000):\n",
    "    # 판별모형 학습(true)\n",
    "    D.train(generate_real(), torch.FloatTensor([1.0]))\n",
    "\n",
    "    # 판별모형 학습(false)\n",
    "    D.train(G.forward(torch.FloatTensor([0.5])).detach(), torch.FloatTensor([0.0]))\n",
    "\n",
    "    # 생성모형 학습\n",
    "    G.train(D, torch.FloatTensor([0.5]), torch.FloatTensor([1.0]))\n",
    "\n",
    "    if i % 1000 == 0:\n",
    "        image_list.append( G.forward(torch.FloatTensor([0.5])).detach().numpy() )"
   ]
  },
  {
   "cell_type": "code",
   "execution_count": 9,
   "metadata": {},
   "outputs": [
    {
     "data": {
      "text/plain": [
       "tensor([0.9311, 0.0354, 0.9448, 0.0378], grad_fn=<SigmoidBackward0>)"
      ]
     },
     "execution_count": 9,
     "metadata": {},
     "output_type": "execute_result"
    }
   ],
   "source": [
    "G.forward(torch.FloatTensor([0.5]))"
   ]
  },
  {
   "cell_type": "code",
   "execution_count": 10,
   "metadata": {},
   "outputs": [
    {
     "data": {
      "text/plain": [
       "[array([0.55095434, 0.6156379 , 0.3912656 , 0.69365114], dtype=float32),\n",
       " array([0.5783277 , 0.6082731 , 0.398298  , 0.69878536], dtype=float32),\n",
       " array([0.6143602 , 0.57588106, 0.42414442, 0.6955482 ], dtype=float32),\n",
       " array([0.6679062 , 0.48553282, 0.48822093, 0.66127586], dtype=float32),\n",
       " array([0.7356009, 0.3153096, 0.6117275, 0.5326111], dtype=float32),\n",
       " array([0.8009114 , 0.1661402 , 0.754468  , 0.28763548], dtype=float32),\n",
       " array([0.84959346, 0.09565625, 0.8461058 , 0.13807812], dtype=float32),\n",
       " array([0.8825656 , 0.06474405, 0.8937814 , 0.08186258], dtype=float32),\n",
       " array([0.9047622 , 0.04934385, 0.91967696, 0.05761629], dtype=float32),\n",
       " array([0.9201619 , 0.04069065, 0.9350412 , 0.04507779], dtype=float32)]"
      ]
     },
     "execution_count": 10,
     "metadata": {},
     "output_type": "execute_result"
    }
   ],
   "source": [
    "# 생성된 패턴\n",
    "image_list"
   ]
  },
  {
   "cell_type": "code",
   "execution_count": 11,
   "metadata": {},
   "outputs": [
    {
     "data": {
      "image/png": "[encoded data removed]",
      "text/plain": [
       "<Figure size 1600x800 with 1 Axes>"
      ]
     },
     "metadata": {},
     "output_type": "display_data"
    }
   ],
   "source": [
    "import matplotlib.pyplot as plt\n",
    "import os\n",
    "os.environ['KMP_DUPLICATE_LIB_OK']='True'\n",
    "import numpy as np\n",
    "plt.figure(figsize = (16,8))\n",
    "plt.imshow(np.array(image_list).T, interpolation='none', cmap='Blues')\n",
    "plt.show()"
   ]
  }
 ],
 "metadata": {
  "kernelspec": {
   "display_name": "base",
   "language": "python",
   "name": "python3"
  },
  "language_info": {
   "codemirror_mode": {
    "name": "ipython",
    "version": 3
   },
   "file_extension": ".py",
   "mimetype": "text/x-python",
   "name": "python",
   "nbconvert_exporter": "python",
   "pygments_lexer": "ipython3",
   "version": "3.9.13"
  },
  "orig_nbformat": 4,
  "vscode": {
   "interpreter": {
    "hash": "ff4f85d6e04298634172ac5d8264e7e9b556b95639fe52ebb9425c4d4cba0c9c"
   }
  }
 },
 "nbformat": 4,
 "nbformat_minor": 2
}
