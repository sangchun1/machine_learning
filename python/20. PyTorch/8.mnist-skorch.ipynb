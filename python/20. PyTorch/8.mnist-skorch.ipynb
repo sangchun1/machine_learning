{
 "cells": [
  {
   "cell_type": "code",
   "execution_count": 1,
   "metadata": {},
   "outputs": [],
   "source": [
    "# skorch : pytorch를 쉽게 구현할 수 있는 라이브러리\n",
    "from keras.datasets import mnist\n",
    "(X_train, y_train), (X_test, y_test) = mnist.load_data()"
   ]
  },
  {
   "cell_type": "code",
   "execution_count": 2,
   "metadata": {},
   "outputs": [],
   "source": [
    "X_train= X_train.reshape(-1,784)\n",
    "X_test= X_test.reshape(-1,784)\n",
    "X_train=X_train/255.\n",
    "X_test=X_test/255."
   ]
  },
  {
   "cell_type": "code",
   "execution_count": 3,
   "metadata": {},
   "outputs": [
    {
     "name": "stdout",
     "output_type": "stream",
     "text": [
      "torch.Size([60000, 784])\n",
      "torch.Size([10000, 784])\n"
     ]
    }
   ],
   "source": [
    "import torch\n",
    "X_train=torch.from_numpy(X_train).float()\n",
    "y_train=torch.from_numpy(y_train.astype('int32')).long()\n",
    "X_test=torch.from_numpy(X_test).float()\n",
    "y_test=torch.from_numpy(y_test.astype('int32')).long()\n",
    "print(X_train.shape)\n",
    "print(X_test.shape)\n",
    "X_train=X_train.cuda()\n",
    "y_train=y_train.cuda()\n",
    "X_test=X_test.cuda()\n",
    "y_test=y_test.cuda()"
   ]
  },
  {
   "cell_type": "code",
   "execution_count": 4,
   "metadata": {},
   "outputs": [],
   "source": [
    "import torch.nn as nn\n",
    "import torch.nn.functional as F\n",
    "# 신경망 구성\n",
    "class Net(nn.Module):\n",
    "    def __init__(self):\n",
    "        super(Net, self).__init__()\n",
    "        self.fc1 = nn.Linear(784, 128)\n",
    "        self.fc2 = nn.Linear(128, 10)\n",
    "    def forward(self, x):\n",
    "        x = F.relu(self.fc1(x))\n",
    "        x = self.fc2(x)\n",
    "        return F.softmax(x, dim=-1)\n",
    "model=Net().cuda()"
   ]
  },
  {
   "cell_type": "code",
   "execution_count": 5,
   "metadata": {},
   "outputs": [
    {
     "name": "stdout",
     "output_type": "stream",
     "text": [
      "  epoch    train_loss    valid_acc    valid_loss     dur\n",
      "-------  ------------  -----------  ------------  ------\n",
      "      1        \u001b[36m0.6427\u001b[0m       \u001b[32m0.8982\u001b[0m        \u001b[35m0.3508\u001b[0m  1.8528\n",
      "      2        \u001b[36m0.3172\u001b[0m       \u001b[32m0.9162\u001b[0m        \u001b[35m0.2894\u001b[0m  1.7737\n",
      "      3        \u001b[36m0.2669\u001b[0m       \u001b[32m0.9264\u001b[0m        \u001b[35m0.2514\u001b[0m  1.9110\n",
      "      4        \u001b[36m0.2309\u001b[0m       \u001b[32m0.9355\u001b[0m        \u001b[35m0.2225\u001b[0m  2.3442\n",
      "      5        \u001b[36m0.2033\u001b[0m       \u001b[32m0.9412\u001b[0m        \u001b[35m0.2004\u001b[0m  5.2309\n",
      "      6        \u001b[36m0.1812\u001b[0m       \u001b[32m0.9477\u001b[0m        \u001b[35m0.1820\u001b[0m  2.5707\n",
      "      7        \u001b[36m0.1630\u001b[0m       \u001b[32m0.9516\u001b[0m        \u001b[35m0.1671\u001b[0m  4.1100\n",
      "      8        \u001b[36m0.1478\u001b[0m       \u001b[32m0.9553\u001b[0m        \u001b[35m0.1552\u001b[0m  4.6161\n",
      "      9        \u001b[36m0.1349\u001b[0m       \u001b[32m0.9585\u001b[0m        \u001b[35m0.1453\u001b[0m  1.7451\n",
      "     10        \u001b[36m0.1239\u001b[0m       \u001b[32m0.9609\u001b[0m        \u001b[35m0.1372\u001b[0m  1.7229\n",
      "     11        \u001b[36m0.1144\u001b[0m       \u001b[32m0.9622\u001b[0m        \u001b[35m0.1307\u001b[0m  1.7932\n",
      "     12        \u001b[36m0.1062\u001b[0m       \u001b[32m0.9637\u001b[0m        \u001b[35m0.1250\u001b[0m  1.8123\n",
      "     13        \u001b[36m0.0990\u001b[0m       \u001b[32m0.9651\u001b[0m        \u001b[35m0.1201\u001b[0m  1.9588\n",
      "     14        \u001b[36m0.0926\u001b[0m       \u001b[32m0.9652\u001b[0m        \u001b[35m0.1159\u001b[0m  1.7137\n",
      "     15        \u001b[36m0.0870\u001b[0m       \u001b[32m0.9661\u001b[0m        \u001b[35m0.1122\u001b[0m  1.6881\n",
      "     16        \u001b[36m0.0818\u001b[0m       \u001b[32m0.9667\u001b[0m        \u001b[35m0.1090\u001b[0m  1.6493\n",
      "     17        \u001b[36m0.0772\u001b[0m       \u001b[32m0.9677\u001b[0m        \u001b[35m0.1061\u001b[0m  1.7240\n",
      "     18        \u001b[36m0.0729\u001b[0m       \u001b[32m0.9683\u001b[0m        \u001b[35m0.1035\u001b[0m  1.6865\n",
      "     19        \u001b[36m0.0691\u001b[0m       \u001b[32m0.9687\u001b[0m        \u001b[35m0.1011\u001b[0m  2.2475\n",
      "     20        \u001b[36m0.0655\u001b[0m       \u001b[32m0.9688\u001b[0m        \u001b[35m0.0989\u001b[0m  1.6211\n"
     ]
    },
    {
     "data": {
      "text/plain": [
       "<class 'skorch.classifier.NeuralNetClassifier'>[initialized](\n",
       "  module_=Net(\n",
       "    (fc1): Linear(in_features=784, out_features=128, bias=True)\n",
       "    (fc2): Linear(in_features=128, out_features=10, bias=True)\n",
       "  ),\n",
       ")"
      ]
     },
     "execution_count": 5,
     "metadata": {},
     "output_type": "execute_result"
    }
   ],
   "source": [
    "# pip install skorch\n",
    "from skorch import NeuralNetClassifier\n",
    "net = NeuralNetClassifier(Net,max_epochs=20,lr=0.1)\n",
    "net.fit(X_train, y_train)"
   ]
  },
  {
   "cell_type": "code",
   "execution_count": 6,
   "metadata": {},
   "outputs": [
    {
     "data": {
      "text/plain": [
       "0.9731"
      ]
     },
     "execution_count": 6,
     "metadata": {},
     "output_type": "execute_result"
    }
   ],
   "source": [
    "import numpy as np\n",
    "# 모형의 정확도 계산\n",
    "pred = net.predict(X_test)\n",
    "y_test = y_test.cpu().numpy()\n",
    "accuracy = np.mean(pred == y_test)\n",
    "accuracy"
   ]
  },
  {
   "cell_type": "code",
   "execution_count": 7,
   "metadata": {},
   "outputs": [
    {
     "data": {
      "text/plain": [
       "==========================================================================================\n",
       "Layer (type:depth-idx)                   Output Shape              Param #\n",
       "==========================================================================================\n",
       "Net                                      [100, 10]                 --\n",
       "├─Linear: 1-1                            [100, 128]                100,480\n",
       "├─Linear: 1-2                            [100, 10]                 1,290\n",
       "==========================================================================================\n",
       "Total params: 101,770\n",
       "Trainable params: 101,770\n",
       "Non-trainable params: 0\n",
       "Total mult-adds (M): 10.18\n",
       "==========================================================================================\n",
       "Input size (MB): 0.31\n",
       "Forward/backward pass size (MB): 0.11\n",
       "Params size (MB): 0.41\n",
       "Estimated Total Size (MB): 0.83\n",
       "=========================================================================================="
      ]
     },
     "execution_count": 7,
     "metadata": {},
     "output_type": "execute_result"
    }
   ],
   "source": [
    "from torchinfo import summary\n",
    "summary(model, input_size=(100,784))"
   ]
  }
 ],
 "metadata": {
  "kernelspec": {
   "display_name": "base",
   "language": "python",
   "name": "python3"
  },
  "language_info": {
   "codemirror_mode": {
    "name": "ipython",
    "version": 3
   },
   "file_extension": ".py",
   "mimetype": "text/x-python",
   "name": "python",
   "nbconvert_exporter": "python",
   "pygments_lexer": "ipython3",
   "version": "3.9.13"
  },
  "orig_nbformat": 4,
  "vscode": {
   "interpreter": {
    "hash": "ff4f85d6e04298634172ac5d8264e7e9b556b95639fe52ebb9425c4d4cba0c9c"
   }
  }
 },
 "nbformat": 4,
 "nbformat_minor": 2
}
