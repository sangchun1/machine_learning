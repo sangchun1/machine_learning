{
 "cells": [
  {
   "cell_type": "code",
   "execution_count": 1,
   "metadata": {},
   "outputs": [
    {
     "name": "stdout",
     "output_type": "stream",
     "text": [
      "[[5.1 3.5 1.4 0.2]\n",
      " [4.9 3.  1.4 0.2]\n",
      " [4.7 3.2 1.3 0.2]\n",
      " [4.6 3.1 1.5 0.2]\n",
      " [5.  3.6 1.4 0.2]]\n",
      "[0 0 0 0 0]\n"
     ]
    }
   ],
   "source": [
    "from sklearn.datasets import load_iris\n",
    "# iris 데이터셋 로딩\n",
    "X, y = load_iris(return_X_y=True)\n",
    "print(X[:5])\n",
    "print(y[:5])"
   ]
  },
  {
   "cell_type": "code",
   "execution_count": 2,
   "metadata": {},
   "outputs": [
    {
     "name": "stdout",
     "output_type": "stream",
     "text": [
      "120\n"
     ]
    }
   ],
   "source": [
    "from sklearn.model_selection import train_test_split\n",
    "X_train,X_test, y_train, y_test = train_test_split(X, y, random_state=10, test_size=0.2, stratify=y, shuffle=True)\n",
    "print(len(X_train))"
   ]
  },
  {
   "cell_type": "code",
   "execution_count": 3,
   "metadata": {},
   "outputs": [],
   "source": [
    "from torch import nn\n",
    "#신경망 모형\n",
    "class Model(nn.Module):\n",
    "    def __init__(self, input_dim):\n",
    "        super(Model, self).__init__()\n",
    "        #input layer, Linear 선형함수(1차함수)\n",
    "        self.layer1 = nn.Linear(input_dim,50) #input nodes, output nodes 50\n",
    "        self.layer2 = nn.Linear(50, 20)\n",
    "        self.layer3 = nn.Linear(20, 3)\n",
    "    \n",
    "    def forward(self, x):\n",
    "        x = F.relu(self.layer1(x))\n",
    "        x = F.relu(self.layer2(x))\n",
    "        # 출력층의 활성화함수 - 소프트맥스\n",
    "        x = F.softmax(self.layer3(x), dim=0)\n",
    "        return x"
   ]
  },
  {
   "cell_type": "code",
   "execution_count": 4,
   "metadata": {},
   "outputs": [],
   "source": [
    "import torch\n",
    "model = Model(X_train.shape[1]) # 초기화함수의 input_dim으로 변수개수가 전달됨\n",
    "optimizer = torch.optim.Adam(model.parameters(), lr=0.01) # 최적화함수 정의\n",
    "loss_fn = nn.CrossEntropyLoss() #손실함수 정의\n",
    "epochs = 100"
   ]
  },
  {
   "cell_type": "code",
   "execution_count": 5,
   "metadata": {},
   "outputs": [
    {
     "name": "stdout",
     "output_type": "stream",
     "text": [
      "Epoch 1\n",
      "loss: 1.098471760749817\n",
      "Epoch 2\n",
      "loss: 1.0975475311279297\n",
      "Epoch 3\n",
      "loss: 1.0966699123382568\n",
      "Epoch 4\n",
      "loss: 1.0957279205322266\n",
      "Epoch 5\n",
      "loss: 1.094659686088562\n",
      "Epoch 6\n",
      "loss: 1.0935672521591187\n",
      "Epoch 7\n",
      "loss: 1.0925476551055908\n",
      "Epoch 8\n",
      "loss: 1.091606855392456\n",
      "Epoch 9\n",
      "loss: 1.0908054113388062\n",
      "Epoch 10\n",
      "loss: 1.0901497602462769\n",
      "Epoch 11\n",
      "loss: 1.0896127223968506\n",
      "Epoch 12\n",
      "loss: 1.0892179012298584\n",
      "Epoch 13\n",
      "loss: 1.088807463645935\n",
      "Epoch 14\n",
      "loss: 1.0884815454483032\n",
      "Epoch 15\n",
      "loss: 1.0882140398025513\n",
      "Epoch 16\n",
      "loss: 1.0880019664764404\n",
      "Epoch 17\n",
      "loss: 1.0878649950027466\n",
      "Epoch 18\n",
      "loss: 1.0878080129623413\n",
      "Epoch 19\n",
      "loss: 1.0877872705459595\n",
      "Epoch 20\n",
      "loss: 1.0877412557601929\n",
      "Epoch 21\n",
      "loss: 1.0877189636230469\n",
      "Epoch 22\n",
      "loss: 1.0876667499542236\n",
      "Epoch 23\n",
      "loss: 1.0875988006591797\n",
      "Epoch 24\n",
      "loss: 1.087595820426941\n",
      "Epoch 25\n",
      "loss: 1.0876047611236572\n",
      "Epoch 26\n",
      "loss: 1.087586522102356\n",
      "Epoch 27\n",
      "loss: 1.087533712387085\n",
      "Epoch 28\n",
      "loss: 1.0874607563018799\n",
      "Epoch 29\n",
      "loss: 1.087393045425415\n",
      "Epoch 30\n",
      "loss: 1.0873322486877441\n",
      "Epoch 31\n",
      "loss: 1.0872691869735718\n",
      "Epoch 32\n",
      "loss: 1.0871893167495728\n",
      "Epoch 33\n",
      "loss: 1.0870875120162964\n",
      "Epoch 34\n",
      "loss: 1.086978554725647\n",
      "Epoch 35\n",
      "loss: 1.086883544921875\n",
      "Epoch 36\n",
      "loss: 1.086767554283142\n",
      "Epoch 37\n",
      "loss: 1.086629033088684\n",
      "Epoch 38\n",
      "loss: 1.0864843130111694\n",
      "Epoch 39\n",
      "loss: 1.086310863494873\n",
      "Epoch 40\n",
      "loss: 1.0861155986785889\n",
      "Epoch 41\n",
      "loss: 1.0859230756759644\n",
      "Epoch 42\n",
      "loss: 1.0856934785842896\n",
      "Epoch 43\n",
      "loss: 1.0854403972625732\n",
      "Epoch 44\n",
      "loss: 1.0851786136627197\n",
      "Epoch 45\n",
      "loss: 1.0848863124847412\n",
      "Epoch 46\n",
      "loss: 1.0845870971679688\n",
      "Epoch 47\n",
      "loss: 1.0842819213867188\n",
      "Epoch 48\n",
      "loss: 1.0839802026748657\n",
      "Epoch 49\n",
      "loss: 1.0836936235427856\n",
      "Epoch 50\n",
      "loss: 1.083437442779541\n",
      "Epoch 51\n",
      "loss: 1.083219289779663\n",
      "Epoch 52\n",
      "loss: 1.0830191373825073\n",
      "Epoch 53\n",
      "loss: 1.0828443765640259\n",
      "Epoch 54\n",
      "loss: 1.082703948020935\n",
      "Epoch 55\n",
      "loss: 1.082598090171814\n",
      "Epoch 56\n",
      "loss: 1.0825202465057373\n",
      "Epoch 57\n",
      "loss: 1.0824583768844604\n",
      "Epoch 58\n",
      "loss: 1.0824042558670044\n",
      "Epoch 59\n",
      "loss: 1.0823570489883423\n",
      "Epoch 60\n",
      "loss: 1.08231782913208\n",
      "Epoch 61\n",
      "loss: 1.0822862386703491\n",
      "Epoch 62\n",
      "loss: 1.0822614431381226\n",
      "Epoch 63\n",
      "loss: 1.0822423696517944\n",
      "Epoch 64\n",
      "loss: 1.082228422164917\n",
      "Epoch 65\n",
      "loss: 1.0822182893753052\n",
      "Epoch 66\n",
      "loss: 1.0822104215621948\n",
      "Epoch 67\n",
      "loss: 1.0822043418884277\n",
      "Epoch 68\n",
      "loss: 1.0821990966796875\n",
      "Epoch 69\n",
      "loss: 1.082194447517395\n",
      "Epoch 70\n",
      "loss: 1.0821902751922607\n",
      "Epoch 71\n",
      "loss: 1.0821861028671265\n",
      "Epoch 72\n",
      "loss: 1.0821824073791504\n",
      "Epoch 73\n",
      "loss: 1.0821788311004639\n",
      "Epoch 74\n",
      "loss: 1.0821751356124878\n",
      "Epoch 75\n",
      "loss: 1.08217191696167\n",
      "Epoch 76\n",
      "loss: 1.0821689367294312\n",
      "Epoch 77\n",
      "loss: 1.082166314125061\n",
      "Epoch 78\n",
      "loss: 1.08216392993927\n",
      "Epoch 79\n",
      "loss: 1.082161784172058\n",
      "Epoch 80\n",
      "loss: 1.0821596384048462\n",
      "Epoch 81\n",
      "loss: 1.0821577310562134\n",
      "Epoch 82\n",
      "loss: 1.0821559429168701\n",
      "Epoch 83\n",
      "loss: 1.082154393196106\n",
      "Epoch 84\n",
      "loss: 1.0821528434753418\n",
      "Epoch 85\n",
      "loss: 1.0821514129638672\n",
      "Epoch 86\n",
      "loss: 1.0821497440338135\n",
      "Epoch 87\n",
      "loss: 1.0821480751037598\n",
      "Epoch 88\n",
      "loss: 1.0821462869644165\n",
      "Epoch 89\n",
      "loss: 1.0821446180343628\n",
      "Epoch 90\n",
      "loss: 1.0821431875228882\n",
      "Epoch 91\n",
      "loss: 1.0821415185928345\n",
      "Epoch 92\n",
      "loss: 1.0821400880813599\n",
      "Epoch 93\n",
      "loss: 1.0821387767791748\n",
      "Epoch 94\n",
      "loss: 1.0821375846862793\n",
      "Epoch 95\n",
      "loss: 1.0821363925933838\n",
      "Epoch 96\n",
      "loss: 1.0821353197097778\n",
      "Epoch 97\n",
      "loss: 1.0821341276168823\n",
      "Epoch 98\n",
      "loss: 1.0821329355239868\n",
      "Epoch 99\n",
      "loss: 1.0821319818496704\n",
      "Epoch 100\n",
      "loss: 1.0821309089660645\n"
     ]
    }
   ],
   "source": [
    "from torch.autograd import Variable\n",
    "import torch.nn.functional as F\n",
    "#넘파이배열로부터 텐서를 만들고\n",
    "X_train = Variable(torch.from_numpy(X_train)).float()\n",
    "y_train = Variable(torch.from_numpy(y_train)).long()\n",
    "for epoch in range(1, epochs+1):\n",
    "    print(\"Epoch\",epoch)\n",
    "    #예측값\n",
    "    y_pred = model(X_train)\n",
    "    #손실함수에 예측값과 실제값을 입력\n",
    "    loss = loss_fn(y_pred, y_train)\n",
    "    print('loss:',loss.item())\n",
    "\n",
    "    # 경사 초기화\n",
    "    optimizer.zero_grad()\n",
    "    loss.backward() # 역전파\n",
    "    optimizer.step() # 가중치 업데이트"
   ]
  },
  {
   "cell_type": "code",
   "execution_count": 6,
   "metadata": {},
   "outputs": [
    {
     "data": {
      "text/plain": [
       "tensor([[5.7648e-06, 1.7325e-02, 1.9829e-04],\n",
       "        [4.0290e-02, 5.6586e-06, 4.6682e-09],\n",
       "        [9.9983e-07, 1.4863e-03, 1.0729e-03],\n",
       "        [2.0757e-07, 6.7924e-04, 3.2783e-03],\n",
       "        [1.9193e-04, 1.3755e-01, 6.8063e-06]], grad_fn=<SliceBackward0>)"
      ]
     },
     "execution_count": 6,
     "metadata": {},
     "output_type": "execute_result"
    }
   ],
   "source": [
    "# Prediction\n",
    "X_test = Variable(torch.from_numpy(X_test)).float()\n",
    "pred = model(X_test)\n",
    "pred[:5]"
   ]
  },
  {
   "cell_type": "code",
   "execution_count": 7,
   "metadata": {},
   "outputs": [
    {
     "data": {
      "text/plain": [
       "array([1, 0, 1, 2, 1, 2, 0, 2, 2, 0, 0, 1, 2, 2, 1, 0, 0, 1, 2, 0, 2, 2,\n",
       "       2, 0, 0, 1, 1, 0, 1, 1], dtype=int64)"
      ]
     },
     "execution_count": 7,
     "metadata": {},
     "output_type": "execute_result"
    }
   ],
   "source": [
    "import numpy as np\n",
    "np.argmax(pred.data.numpy(), axis=1)"
   ]
  },
  {
   "cell_type": "code",
   "execution_count": 8,
   "metadata": {},
   "outputs": [
    {
     "data": {
      "text/plain": [
       "1.0"
      ]
     },
     "execution_count": 8,
     "metadata": {},
     "output_type": "execute_result"
    }
   ],
   "source": [
    "from sklearn.metrics import accuracy_score\n",
    "# 모형의 정확도 측정\n",
    "accuracy_score(y_test, np.argmax(pred.data.numpy(), axis=1))"
   ]
  },
  {
   "cell_type": "code",
   "execution_count": 9,
   "metadata": {},
   "outputs": [],
   "source": [
    "torch.save(model, \"c:/data/iris/iris-torch.model\")"
   ]
  },
  {
   "cell_type": "code",
   "execution_count": 10,
   "metadata": {},
   "outputs": [
    {
     "data": {
      "text/plain": [
       "2"
      ]
     },
     "execution_count": 10,
     "metadata": {},
     "output_type": "execute_result"
    }
   ],
   "source": [
    "model2 = torch.load(\"c:/data/iris/iris-torch.model\")\n",
    "np.argmax(model2(X_test[0]).data.numpy())"
   ]
  },
  {
   "cell_type": "code",
   "execution_count": 11,
   "metadata": {},
   "outputs": [
    {
     "data": {
      "text/plain": [
       "==========================================================================================\n",
       "Layer (type:depth-idx)                   Output Shape              Param #\n",
       "==========================================================================================\n",
       "Model                                    [32, 3]                   --\n",
       "├─Linear: 1-1                            [32, 50]                  250\n",
       "├─Linear: 1-2                            [32, 20]                  1,020\n",
       "├─Linear: 1-3                            [32, 3]                   63\n",
       "==========================================================================================\n",
       "Total params: 1,333\n",
       "Trainable params: 1,333\n",
       "Non-trainable params: 0\n",
       "Total mult-adds (M): 0.04\n",
       "==========================================================================================\n",
       "Input size (MB): 0.00\n",
       "Forward/backward pass size (MB): 0.02\n",
       "Params size (MB): 0.01\n",
       "Estimated Total Size (MB): 0.02\n",
       "=========================================================================================="
      ]
     },
     "execution_count": 11,
     "metadata": {},
     "output_type": "execute_result"
    }
   ],
   "source": [
    "#pip install torchinfo\n",
    "from torchinfo import summary\n",
    "summary(model, input_size=(32, 4))"
   ]
  }
 ],
 "metadata": {
  "kernelspec": {
   "display_name": "base",
   "language": "python",
   "name": "python3"
  },
  "language_info": {
   "codemirror_mode": {
    "name": "ipython",
    "version": 3
   },
   "file_extension": ".py",
   "mimetype": "text/x-python",
   "name": "python",
   "nbconvert_exporter": "python",
   "pygments_lexer": "ipython3",
   "version": "3.9.13"
  },
  "orig_nbformat": 4,
  "vscode": {
   "interpreter": {
    "hash": "ff4f85d6e04298634172ac5d8264e7e9b556b95639fe52ebb9425c4d4cba0c9c"
   }
  }
 },
 "nbformat": 4,
 "nbformat_minor": 2
}
